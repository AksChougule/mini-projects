{
 "cells": [
  {
   "cell_type": "markdown",
   "metadata": {},
   "source": [
    "## SF-crime Kaggle competition"
   ]
  },
  {
   "cell_type": "code",
   "execution_count": 1,
   "metadata": {},
   "outputs": [],
   "source": [
    "# Let's start by some standard code\n",
    "%load_ext autoreload\n",
    "%autoreload 2\n",
    "%matplotlib inline"
   ]
  },
  {
   "cell_type": "code",
   "execution_count": 2,
   "metadata": {},
   "outputs": [],
   "source": [
    "from fastai.imports import *\n",
    "from fastai.structured import *\n",
    "\n",
    "from pandas_summary import DataFrameSummary\n",
    "from sklearn.ensemble import RandomForestClassifier\n",
    "from sklearn.decomposition import PCA\n",
    "from IPython.display import display\n",
    "\n",
    "from sklearn import metrics\n",
    "from graphviz import *"
   ]
  },
  {
   "cell_type": "code",
   "execution_count": 3,
   "metadata": {},
   "outputs": [],
   "source": [
    "PATH = \"data/sf-crime/\""
   ]
  },
  {
   "cell_type": "code",
   "execution_count": 4,
   "metadata": {},
   "outputs": [
    {
     "name": "stdout",
     "output_type": "stream",
     "text": [
      "result_v1.csv        result_version1.csv  sampleSubmission.csv\r\n",
      "result_v2.csv        result_version2.csv  test.csv\r\n",
      "result_v3.csv        result_version3.csv  train.csv\r\n",
      "result_v4.csv        result_version4.csv\r\n",
      "result_v5.csv        result_version5.csv\r\n"
     ]
    }
   ],
   "source": [
    "!ls {PATH}"
   ]
  },
  {
   "cell_type": "markdown",
   "metadata": {},
   "source": [
    "### 1. Let's load and explore the data"
   ]
  },
  {
   "cell_type": "code",
   "execution_count": 15,
   "metadata": {},
   "outputs": [],
   "source": [
    "train=pd.read_csv(f'{PATH}train.csv',parse_dates=['Dates'])"
   ]
  },
  {
   "cell_type": "code",
   "execution_count": 16,
   "metadata": {},
   "outputs": [
    {
     "data": {
      "text/plain": [
       "Index(['Dates', 'Category', 'Descript', 'DayOfWeek', 'PdDistrict',\n",
       "       'Resolution', 'Address', 'X', 'Y'],\n",
       "      dtype='object')"
      ]
     },
     "execution_count": 16,
     "metadata": {},
     "output_type": "execute_result"
    }
   ],
   "source": [
    "train.columns"
   ]
  },
  {
   "cell_type": "code",
   "execution_count": 17,
   "metadata": {},
   "outputs": [
    {
     "data": {
      "text/html": [
       "<div>\n",
       "<style scoped>\n",
       "    .dataframe tbody tr th:only-of-type {\n",
       "        vertical-align: middle;\n",
       "    }\n",
       "\n",
       "    .dataframe tbody tr th {\n",
       "        vertical-align: top;\n",
       "    }\n",
       "\n",
       "    .dataframe thead th {\n",
       "        text-align: right;\n",
       "    }\n",
       "</style>\n",
       "<table border=\"1\" class=\"dataframe\">\n",
       "  <thead>\n",
       "    <tr style=\"text-align: right;\">\n",
       "      <th></th>\n",
       "      <th>Dates</th>\n",
       "      <th>Category</th>\n",
       "      <th>Descript</th>\n",
       "      <th>DayOfWeek</th>\n",
       "      <th>PdDistrict</th>\n",
       "      <th>Resolution</th>\n",
       "      <th>Address</th>\n",
       "      <th>X</th>\n",
       "      <th>Y</th>\n",
       "    </tr>\n",
       "  </thead>\n",
       "  <tbody>\n",
       "    <tr>\n",
       "      <th>0</th>\n",
       "      <td>2015-05-13 23:53:00</td>\n",
       "      <td>WARRANTS</td>\n",
       "      <td>WARRANT ARREST</td>\n",
       "      <td>Wednesday</td>\n",
       "      <td>NORTHERN</td>\n",
       "      <td>ARREST, BOOKED</td>\n",
       "      <td>OAK ST / LAGUNA ST</td>\n",
       "      <td>-122.425892</td>\n",
       "      <td>37.774599</td>\n",
       "    </tr>\n",
       "    <tr>\n",
       "      <th>1</th>\n",
       "      <td>2015-05-13 23:53:00</td>\n",
       "      <td>OTHER OFFENSES</td>\n",
       "      <td>TRAFFIC VIOLATION ARREST</td>\n",
       "      <td>Wednesday</td>\n",
       "      <td>NORTHERN</td>\n",
       "      <td>ARREST, BOOKED</td>\n",
       "      <td>OAK ST / LAGUNA ST</td>\n",
       "      <td>-122.425892</td>\n",
       "      <td>37.774599</td>\n",
       "    </tr>\n",
       "    <tr>\n",
       "      <th>2</th>\n",
       "      <td>2015-05-13 23:33:00</td>\n",
       "      <td>OTHER OFFENSES</td>\n",
       "      <td>TRAFFIC VIOLATION ARREST</td>\n",
       "      <td>Wednesday</td>\n",
       "      <td>NORTHERN</td>\n",
       "      <td>ARREST, BOOKED</td>\n",
       "      <td>VANNESS AV / GREENWICH ST</td>\n",
       "      <td>-122.424363</td>\n",
       "      <td>37.800414</td>\n",
       "    </tr>\n",
       "    <tr>\n",
       "      <th>3</th>\n",
       "      <td>2015-05-13 23:30:00</td>\n",
       "      <td>LARCENY/THEFT</td>\n",
       "      <td>GRAND THEFT FROM LOCKED AUTO</td>\n",
       "      <td>Wednesday</td>\n",
       "      <td>NORTHERN</td>\n",
       "      <td>NONE</td>\n",
       "      <td>1500 Block of LOMBARD ST</td>\n",
       "      <td>-122.426995</td>\n",
       "      <td>37.800873</td>\n",
       "    </tr>\n",
       "    <tr>\n",
       "      <th>4</th>\n",
       "      <td>2015-05-13 23:30:00</td>\n",
       "      <td>LARCENY/THEFT</td>\n",
       "      <td>GRAND THEFT FROM LOCKED AUTO</td>\n",
       "      <td>Wednesday</td>\n",
       "      <td>PARK</td>\n",
       "      <td>NONE</td>\n",
       "      <td>100 Block of BRODERICK ST</td>\n",
       "      <td>-122.438738</td>\n",
       "      <td>37.771541</td>\n",
       "    </tr>\n",
       "  </tbody>\n",
       "</table>\n",
       "</div>"
      ],
      "text/plain": [
       "                Dates        Category                      Descript  \\\n",
       "0 2015-05-13 23:53:00        WARRANTS                WARRANT ARREST   \n",
       "1 2015-05-13 23:53:00  OTHER OFFENSES      TRAFFIC VIOLATION ARREST   \n",
       "2 2015-05-13 23:33:00  OTHER OFFENSES      TRAFFIC VIOLATION ARREST   \n",
       "3 2015-05-13 23:30:00   LARCENY/THEFT  GRAND THEFT FROM LOCKED AUTO   \n",
       "4 2015-05-13 23:30:00   LARCENY/THEFT  GRAND THEFT FROM LOCKED AUTO   \n",
       "\n",
       "   DayOfWeek PdDistrict      Resolution                    Address  \\\n",
       "0  Wednesday   NORTHERN  ARREST, BOOKED         OAK ST / LAGUNA ST   \n",
       "1  Wednesday   NORTHERN  ARREST, BOOKED         OAK ST / LAGUNA ST   \n",
       "2  Wednesday   NORTHERN  ARREST, BOOKED  VANNESS AV / GREENWICH ST   \n",
       "3  Wednesday   NORTHERN            NONE   1500 Block of LOMBARD ST   \n",
       "4  Wednesday       PARK            NONE  100 Block of BRODERICK ST   \n",
       "\n",
       "            X          Y  \n",
       "0 -122.425892  37.774599  \n",
       "1 -122.425892  37.774599  \n",
       "2 -122.424363  37.800414  \n",
       "3 -122.426995  37.800873  \n",
       "4 -122.438738  37.771541  "
      ]
     },
     "metadata": {},
     "output_type": "display_data"
    }
   ],
   "source": [
    "display(train.head())"
   ]
  },
  {
   "cell_type": "code",
   "execution_count": 18,
   "metadata": {},
   "outputs": [
    {
     "data": {
      "text/plain": [
       "Address       0.0\n",
       "Category      0.0\n",
       "Dates         0.0\n",
       "DayOfWeek     0.0\n",
       "Descript      0.0\n",
       "PdDistrict    0.0\n",
       "Resolution    0.0\n",
       "X             0.0\n",
       "Y             0.0\n",
       "dtype: float64"
      ]
     },
     "metadata": {},
     "output_type": "display_data"
    }
   ],
   "source": [
    "display(train.isnull().sum().sort_index()/len(train))"
   ]
  },
  {
   "cell_type": "markdown",
   "metadata": {},
   "source": [
    "### What we see in the data\n",
    "1. One date field. So the date formatting and feature extraction is required.\n",
    "2. A few categorical variables. We will have to convert these into numbers.\n",
    "3. No missing values."
   ]
  },
  {
   "cell_type": "markdown",
   "metadata": {},
   "source": [
    "### Let's explore the response variable (y)"
   ]
  },
  {
   "cell_type": "code",
   "execution_count": 19,
   "metadata": {},
   "outputs": [
    {
     "data": {
      "text/plain": [
       "array(['WARRANTS', 'OTHER OFFENSES', 'LARCENY/THEFT', 'VEHICLE THEFT', 'VANDALISM', 'NON-CRIMINAL',\n",
       "       'ROBBERY', 'ASSAULT', 'WEAPON LAWS', 'BURGLARY', 'SUSPICIOUS OCC', 'DRUNKENNESS',\n",
       "       'FORGERY/COUNTERFEITING', 'DRUG/NARCOTIC', 'STOLEN PROPERTY', 'SECONDARY CODES', 'TRESPASS',\n",
       "       'MISSING PERSON', 'FRAUD', 'KIDNAPPING', 'RUNAWAY', 'DRIVING UNDER THE INFLUENCE',\n",
       "       'SEX OFFENSES FORCIBLE', 'PROSTITUTION', 'DISORDERLY CONDUCT', 'ARSON', 'FAMILY OFFENSES',\n",
       "       'LIQUOR LAWS', 'BRIBERY', 'EMBEZZLEMENT', 'SUICIDE', 'LOITERING', 'SEX OFFENSES NON FORCIBLE',\n",
       "       'EXTORTION', 'GAMBLING', 'BAD CHECKS', 'TREA', 'RECOVERED VEHICLE', 'PORNOGRAPHY/OBSCENE MAT'],\n",
       "      dtype=object)"
      ]
     },
     "execution_count": 19,
     "metadata": {},
     "output_type": "execute_result"
    }
   ],
   "source": [
    "train['Category'].unique()"
   ]
  },
  {
   "cell_type": "code",
   "execution_count": 20,
   "metadata": {},
   "outputs": [
    {
     "data": {
      "text/html": [
       "<div>\n",
       "<style scoped>\n",
       "    .dataframe tbody tr th:only-of-type {\n",
       "        vertical-align: middle;\n",
       "    }\n",
       "\n",
       "    .dataframe tbody tr th {\n",
       "        vertical-align: top;\n",
       "    }\n",
       "\n",
       "    .dataframe thead th {\n",
       "        text-align: right;\n",
       "    }\n",
       "</style>\n",
       "<table border=\"1\" class=\"dataframe\">\n",
       "  <thead>\n",
       "    <tr style=\"text-align: right;\">\n",
       "      <th></th>\n",
       "      <th>Dates</th>\n",
       "      <th>Descript</th>\n",
       "      <th>DayOfWeek</th>\n",
       "      <th>PdDistrict</th>\n",
       "      <th>Resolution</th>\n",
       "      <th>Address</th>\n",
       "      <th>X</th>\n",
       "      <th>Y</th>\n",
       "    </tr>\n",
       "    <tr>\n",
       "      <th>Category</th>\n",
       "      <th></th>\n",
       "      <th></th>\n",
       "      <th></th>\n",
       "      <th></th>\n",
       "      <th></th>\n",
       "      <th></th>\n",
       "      <th></th>\n",
       "      <th></th>\n",
       "    </tr>\n",
       "  </thead>\n",
       "  <tbody>\n",
       "    <tr>\n",
       "      <th>TREA</th>\n",
       "      <td>6</td>\n",
       "      <td>6</td>\n",
       "      <td>6</td>\n",
       "      <td>6</td>\n",
       "      <td>6</td>\n",
       "      <td>6</td>\n",
       "      <td>6</td>\n",
       "      <td>6</td>\n",
       "    </tr>\n",
       "    <tr>\n",
       "      <th>PORNOGRAPHY/OBSCENE MAT</th>\n",
       "      <td>22</td>\n",
       "      <td>22</td>\n",
       "      <td>22</td>\n",
       "      <td>22</td>\n",
       "      <td>22</td>\n",
       "      <td>22</td>\n",
       "      <td>22</td>\n",
       "      <td>22</td>\n",
       "    </tr>\n",
       "    <tr>\n",
       "      <th>GAMBLING</th>\n",
       "      <td>146</td>\n",
       "      <td>146</td>\n",
       "      <td>146</td>\n",
       "      <td>146</td>\n",
       "      <td>146</td>\n",
       "      <td>146</td>\n",
       "      <td>146</td>\n",
       "      <td>146</td>\n",
       "    </tr>\n",
       "    <tr>\n",
       "      <th>SEX OFFENSES NON FORCIBLE</th>\n",
       "      <td>148</td>\n",
       "      <td>148</td>\n",
       "      <td>148</td>\n",
       "      <td>148</td>\n",
       "      <td>148</td>\n",
       "      <td>148</td>\n",
       "      <td>148</td>\n",
       "      <td>148</td>\n",
       "    </tr>\n",
       "    <tr>\n",
       "      <th>EXTORTION</th>\n",
       "      <td>256</td>\n",
       "      <td>256</td>\n",
       "      <td>256</td>\n",
       "      <td>256</td>\n",
       "      <td>256</td>\n",
       "      <td>256</td>\n",
       "      <td>256</td>\n",
       "      <td>256</td>\n",
       "    </tr>\n",
       "    <tr>\n",
       "      <th>BRIBERY</th>\n",
       "      <td>289</td>\n",
       "      <td>289</td>\n",
       "      <td>289</td>\n",
       "      <td>289</td>\n",
       "      <td>289</td>\n",
       "      <td>289</td>\n",
       "      <td>289</td>\n",
       "      <td>289</td>\n",
       "    </tr>\n",
       "    <tr>\n",
       "      <th>BAD CHECKS</th>\n",
       "      <td>406</td>\n",
       "      <td>406</td>\n",
       "      <td>406</td>\n",
       "      <td>406</td>\n",
       "      <td>406</td>\n",
       "      <td>406</td>\n",
       "      <td>406</td>\n",
       "      <td>406</td>\n",
       "    </tr>\n",
       "    <tr>\n",
       "      <th>FAMILY OFFENSES</th>\n",
       "      <td>491</td>\n",
       "      <td>491</td>\n",
       "      <td>491</td>\n",
       "      <td>491</td>\n",
       "      <td>491</td>\n",
       "      <td>491</td>\n",
       "      <td>491</td>\n",
       "      <td>491</td>\n",
       "    </tr>\n",
       "    <tr>\n",
       "      <th>SUICIDE</th>\n",
       "      <td>508</td>\n",
       "      <td>508</td>\n",
       "      <td>508</td>\n",
       "      <td>508</td>\n",
       "      <td>508</td>\n",
       "      <td>508</td>\n",
       "      <td>508</td>\n",
       "      <td>508</td>\n",
       "    </tr>\n",
       "    <tr>\n",
       "      <th>EMBEZZLEMENT</th>\n",
       "      <td>1166</td>\n",
       "      <td>1166</td>\n",
       "      <td>1166</td>\n",
       "      <td>1166</td>\n",
       "      <td>1166</td>\n",
       "      <td>1166</td>\n",
       "      <td>1166</td>\n",
       "      <td>1166</td>\n",
       "    </tr>\n",
       "    <tr>\n",
       "      <th>LOITERING</th>\n",
       "      <td>1225</td>\n",
       "      <td>1225</td>\n",
       "      <td>1225</td>\n",
       "      <td>1225</td>\n",
       "      <td>1225</td>\n",
       "      <td>1225</td>\n",
       "      <td>1225</td>\n",
       "      <td>1225</td>\n",
       "    </tr>\n",
       "    <tr>\n",
       "      <th>ARSON</th>\n",
       "      <td>1513</td>\n",
       "      <td>1513</td>\n",
       "      <td>1513</td>\n",
       "      <td>1513</td>\n",
       "      <td>1513</td>\n",
       "      <td>1513</td>\n",
       "      <td>1513</td>\n",
       "      <td>1513</td>\n",
       "    </tr>\n",
       "    <tr>\n",
       "      <th>LIQUOR LAWS</th>\n",
       "      <td>1903</td>\n",
       "      <td>1903</td>\n",
       "      <td>1903</td>\n",
       "      <td>1903</td>\n",
       "      <td>1903</td>\n",
       "      <td>1903</td>\n",
       "      <td>1903</td>\n",
       "      <td>1903</td>\n",
       "    </tr>\n",
       "    <tr>\n",
       "      <th>RUNAWAY</th>\n",
       "      <td>1946</td>\n",
       "      <td>1946</td>\n",
       "      <td>1946</td>\n",
       "      <td>1946</td>\n",
       "      <td>1946</td>\n",
       "      <td>1946</td>\n",
       "      <td>1946</td>\n",
       "      <td>1946</td>\n",
       "    </tr>\n",
       "    <tr>\n",
       "      <th>DRIVING UNDER THE INFLUENCE</th>\n",
       "      <td>2268</td>\n",
       "      <td>2268</td>\n",
       "      <td>2268</td>\n",
       "      <td>2268</td>\n",
       "      <td>2268</td>\n",
       "      <td>2268</td>\n",
       "      <td>2268</td>\n",
       "      <td>2268</td>\n",
       "    </tr>\n",
       "    <tr>\n",
       "      <th>KIDNAPPING</th>\n",
       "      <td>2341</td>\n",
       "      <td>2341</td>\n",
       "      <td>2341</td>\n",
       "      <td>2341</td>\n",
       "      <td>2341</td>\n",
       "      <td>2341</td>\n",
       "      <td>2341</td>\n",
       "      <td>2341</td>\n",
       "    </tr>\n",
       "    <tr>\n",
       "      <th>RECOVERED VEHICLE</th>\n",
       "      <td>3138</td>\n",
       "      <td>3138</td>\n",
       "      <td>3138</td>\n",
       "      <td>3138</td>\n",
       "      <td>3138</td>\n",
       "      <td>3138</td>\n",
       "      <td>3138</td>\n",
       "      <td>3138</td>\n",
       "    </tr>\n",
       "    <tr>\n",
       "      <th>DRUNKENNESS</th>\n",
       "      <td>4280</td>\n",
       "      <td>4280</td>\n",
       "      <td>4280</td>\n",
       "      <td>4280</td>\n",
       "      <td>4280</td>\n",
       "      <td>4280</td>\n",
       "      <td>4280</td>\n",
       "      <td>4280</td>\n",
       "    </tr>\n",
       "    <tr>\n",
       "      <th>DISORDERLY CONDUCT</th>\n",
       "      <td>4320</td>\n",
       "      <td>4320</td>\n",
       "      <td>4320</td>\n",
       "      <td>4320</td>\n",
       "      <td>4320</td>\n",
       "      <td>4320</td>\n",
       "      <td>4320</td>\n",
       "      <td>4320</td>\n",
       "    </tr>\n",
       "    <tr>\n",
       "      <th>SEX OFFENSES FORCIBLE</th>\n",
       "      <td>4388</td>\n",
       "      <td>4388</td>\n",
       "      <td>4388</td>\n",
       "      <td>4388</td>\n",
       "      <td>4388</td>\n",
       "      <td>4388</td>\n",
       "      <td>4388</td>\n",
       "      <td>4388</td>\n",
       "    </tr>\n",
       "    <tr>\n",
       "      <th>STOLEN PROPERTY</th>\n",
       "      <td>4540</td>\n",
       "      <td>4540</td>\n",
       "      <td>4540</td>\n",
       "      <td>4540</td>\n",
       "      <td>4540</td>\n",
       "      <td>4540</td>\n",
       "      <td>4540</td>\n",
       "      <td>4540</td>\n",
       "    </tr>\n",
       "    <tr>\n",
       "      <th>TRESPASS</th>\n",
       "      <td>7326</td>\n",
       "      <td>7326</td>\n",
       "      <td>7326</td>\n",
       "      <td>7326</td>\n",
       "      <td>7326</td>\n",
       "      <td>7326</td>\n",
       "      <td>7326</td>\n",
       "      <td>7326</td>\n",
       "    </tr>\n",
       "    <tr>\n",
       "      <th>PROSTITUTION</th>\n",
       "      <td>7484</td>\n",
       "      <td>7484</td>\n",
       "      <td>7484</td>\n",
       "      <td>7484</td>\n",
       "      <td>7484</td>\n",
       "      <td>7484</td>\n",
       "      <td>7484</td>\n",
       "      <td>7484</td>\n",
       "    </tr>\n",
       "    <tr>\n",
       "      <th>WEAPON LAWS</th>\n",
       "      <td>8555</td>\n",
       "      <td>8555</td>\n",
       "      <td>8555</td>\n",
       "      <td>8555</td>\n",
       "      <td>8555</td>\n",
       "      <td>8555</td>\n",
       "      <td>8555</td>\n",
       "      <td>8555</td>\n",
       "    </tr>\n",
       "    <tr>\n",
       "      <th>SECONDARY CODES</th>\n",
       "      <td>9985</td>\n",
       "      <td>9985</td>\n",
       "      <td>9985</td>\n",
       "      <td>9985</td>\n",
       "      <td>9985</td>\n",
       "      <td>9985</td>\n",
       "      <td>9985</td>\n",
       "      <td>9985</td>\n",
       "    </tr>\n",
       "    <tr>\n",
       "      <th>FORGERY/COUNTERFEITING</th>\n",
       "      <td>10609</td>\n",
       "      <td>10609</td>\n",
       "      <td>10609</td>\n",
       "      <td>10609</td>\n",
       "      <td>10609</td>\n",
       "      <td>10609</td>\n",
       "      <td>10609</td>\n",
       "      <td>10609</td>\n",
       "    </tr>\n",
       "    <tr>\n",
       "      <th>FRAUD</th>\n",
       "      <td>16679</td>\n",
       "      <td>16679</td>\n",
       "      <td>16679</td>\n",
       "      <td>16679</td>\n",
       "      <td>16679</td>\n",
       "      <td>16679</td>\n",
       "      <td>16679</td>\n",
       "      <td>16679</td>\n",
       "    </tr>\n",
       "    <tr>\n",
       "      <th>ROBBERY</th>\n",
       "      <td>23000</td>\n",
       "      <td>23000</td>\n",
       "      <td>23000</td>\n",
       "      <td>23000</td>\n",
       "      <td>23000</td>\n",
       "      <td>23000</td>\n",
       "      <td>23000</td>\n",
       "      <td>23000</td>\n",
       "    </tr>\n",
       "    <tr>\n",
       "      <th>MISSING PERSON</th>\n",
       "      <td>25989</td>\n",
       "      <td>25989</td>\n",
       "      <td>25989</td>\n",
       "      <td>25989</td>\n",
       "      <td>25989</td>\n",
       "      <td>25989</td>\n",
       "      <td>25989</td>\n",
       "      <td>25989</td>\n",
       "    </tr>\n",
       "    <tr>\n",
       "      <th>SUSPICIOUS OCC</th>\n",
       "      <td>31414</td>\n",
       "      <td>31414</td>\n",
       "      <td>31414</td>\n",
       "      <td>31414</td>\n",
       "      <td>31414</td>\n",
       "      <td>31414</td>\n",
       "      <td>31414</td>\n",
       "      <td>31414</td>\n",
       "    </tr>\n",
       "    <tr>\n",
       "      <th>BURGLARY</th>\n",
       "      <td>36755</td>\n",
       "      <td>36755</td>\n",
       "      <td>36755</td>\n",
       "      <td>36755</td>\n",
       "      <td>36755</td>\n",
       "      <td>36755</td>\n",
       "      <td>36755</td>\n",
       "      <td>36755</td>\n",
       "    </tr>\n",
       "    <tr>\n",
       "      <th>WARRANTS</th>\n",
       "      <td>42214</td>\n",
       "      <td>42214</td>\n",
       "      <td>42214</td>\n",
       "      <td>42214</td>\n",
       "      <td>42214</td>\n",
       "      <td>42214</td>\n",
       "      <td>42214</td>\n",
       "      <td>42214</td>\n",
       "    </tr>\n",
       "    <tr>\n",
       "      <th>VANDALISM</th>\n",
       "      <td>44725</td>\n",
       "      <td>44725</td>\n",
       "      <td>44725</td>\n",
       "      <td>44725</td>\n",
       "      <td>44725</td>\n",
       "      <td>44725</td>\n",
       "      <td>44725</td>\n",
       "      <td>44725</td>\n",
       "    </tr>\n",
       "    <tr>\n",
       "      <th>VEHICLE THEFT</th>\n",
       "      <td>53781</td>\n",
       "      <td>53781</td>\n",
       "      <td>53781</td>\n",
       "      <td>53781</td>\n",
       "      <td>53781</td>\n",
       "      <td>53781</td>\n",
       "      <td>53781</td>\n",
       "      <td>53781</td>\n",
       "    </tr>\n",
       "    <tr>\n",
       "      <th>DRUG/NARCOTIC</th>\n",
       "      <td>53971</td>\n",
       "      <td>53971</td>\n",
       "      <td>53971</td>\n",
       "      <td>53971</td>\n",
       "      <td>53971</td>\n",
       "      <td>53971</td>\n",
       "      <td>53971</td>\n",
       "      <td>53971</td>\n",
       "    </tr>\n",
       "    <tr>\n",
       "      <th>ASSAULT</th>\n",
       "      <td>76876</td>\n",
       "      <td>76876</td>\n",
       "      <td>76876</td>\n",
       "      <td>76876</td>\n",
       "      <td>76876</td>\n",
       "      <td>76876</td>\n",
       "      <td>76876</td>\n",
       "      <td>76876</td>\n",
       "    </tr>\n",
       "    <tr>\n",
       "      <th>NON-CRIMINAL</th>\n",
       "      <td>92304</td>\n",
       "      <td>92304</td>\n",
       "      <td>92304</td>\n",
       "      <td>92304</td>\n",
       "      <td>92304</td>\n",
       "      <td>92304</td>\n",
       "      <td>92304</td>\n",
       "      <td>92304</td>\n",
       "    </tr>\n",
       "    <tr>\n",
       "      <th>OTHER OFFENSES</th>\n",
       "      <td>126182</td>\n",
       "      <td>126182</td>\n",
       "      <td>126182</td>\n",
       "      <td>126182</td>\n",
       "      <td>126182</td>\n",
       "      <td>126182</td>\n",
       "      <td>126182</td>\n",
       "      <td>126182</td>\n",
       "    </tr>\n",
       "    <tr>\n",
       "      <th>LARCENY/THEFT</th>\n",
       "      <td>174900</td>\n",
       "      <td>174900</td>\n",
       "      <td>174900</td>\n",
       "      <td>174900</td>\n",
       "      <td>174900</td>\n",
       "      <td>174900</td>\n",
       "      <td>174900</td>\n",
       "      <td>174900</td>\n",
       "    </tr>\n",
       "  </tbody>\n",
       "</table>\n",
       "</div>"
      ],
      "text/plain": [
       "                              Dates  Descript  DayOfWeek  PdDistrict  \\\n",
       "Category                                                               \n",
       "TREA                              6         6          6           6   \n",
       "PORNOGRAPHY/OBSCENE MAT          22        22         22          22   \n",
       "GAMBLING                        146       146        146         146   \n",
       "SEX OFFENSES NON FORCIBLE       148       148        148         148   \n",
       "EXTORTION                       256       256        256         256   \n",
       "BRIBERY                         289       289        289         289   \n",
       "BAD CHECKS                      406       406        406         406   \n",
       "FAMILY OFFENSES                 491       491        491         491   \n",
       "SUICIDE                         508       508        508         508   \n",
       "EMBEZZLEMENT                   1166      1166       1166        1166   \n",
       "LOITERING                      1225      1225       1225        1225   \n",
       "ARSON                          1513      1513       1513        1513   \n",
       "LIQUOR LAWS                    1903      1903       1903        1903   \n",
       "RUNAWAY                        1946      1946       1946        1946   \n",
       "DRIVING UNDER THE INFLUENCE    2268      2268       2268        2268   \n",
       "KIDNAPPING                     2341      2341       2341        2341   \n",
       "RECOVERED VEHICLE              3138      3138       3138        3138   \n",
       "DRUNKENNESS                    4280      4280       4280        4280   \n",
       "DISORDERLY CONDUCT             4320      4320       4320        4320   \n",
       "SEX OFFENSES FORCIBLE          4388      4388       4388        4388   \n",
       "STOLEN PROPERTY                4540      4540       4540        4540   \n",
       "TRESPASS                       7326      7326       7326        7326   \n",
       "PROSTITUTION                   7484      7484       7484        7484   \n",
       "WEAPON LAWS                    8555      8555       8555        8555   \n",
       "SECONDARY CODES                9985      9985       9985        9985   \n",
       "FORGERY/COUNTERFEITING        10609     10609      10609       10609   \n",
       "FRAUD                         16679     16679      16679       16679   \n",
       "ROBBERY                       23000     23000      23000       23000   \n",
       "MISSING PERSON                25989     25989      25989       25989   \n",
       "SUSPICIOUS OCC                31414     31414      31414       31414   \n",
       "BURGLARY                      36755     36755      36755       36755   \n",
       "WARRANTS                      42214     42214      42214       42214   \n",
       "VANDALISM                     44725     44725      44725       44725   \n",
       "VEHICLE THEFT                 53781     53781      53781       53781   \n",
       "DRUG/NARCOTIC                 53971     53971      53971       53971   \n",
       "ASSAULT                       76876     76876      76876       76876   \n",
       "NON-CRIMINAL                  92304     92304      92304       92304   \n",
       "OTHER OFFENSES               126182    126182     126182      126182   \n",
       "LARCENY/THEFT                174900    174900     174900      174900   \n",
       "\n",
       "                             Resolution  Address       X       Y  \n",
       "Category                                                          \n",
       "TREA                                  6        6       6       6  \n",
       "PORNOGRAPHY/OBSCENE MAT              22       22      22      22  \n",
       "GAMBLING                            146      146     146     146  \n",
       "SEX OFFENSES NON FORCIBLE           148      148     148     148  \n",
       "EXTORTION                           256      256     256     256  \n",
       "BRIBERY                             289      289     289     289  \n",
       "BAD CHECKS                          406      406     406     406  \n",
       "FAMILY OFFENSES                     491      491     491     491  \n",
       "SUICIDE                             508      508     508     508  \n",
       "EMBEZZLEMENT                       1166     1166    1166    1166  \n",
       "LOITERING                          1225     1225    1225    1225  \n",
       "ARSON                              1513     1513    1513    1513  \n",
       "LIQUOR LAWS                        1903     1903    1903    1903  \n",
       "RUNAWAY                            1946     1946    1946    1946  \n",
       "DRIVING UNDER THE INFLUENCE        2268     2268    2268    2268  \n",
       "KIDNAPPING                         2341     2341    2341    2341  \n",
       "RECOVERED VEHICLE                  3138     3138    3138    3138  \n",
       "DRUNKENNESS                        4280     4280    4280    4280  \n",
       "DISORDERLY CONDUCT                 4320     4320    4320    4320  \n",
       "SEX OFFENSES FORCIBLE              4388     4388    4388    4388  \n",
       "STOLEN PROPERTY                    4540     4540    4540    4540  \n",
       "TRESPASS                           7326     7326    7326    7326  \n",
       "PROSTITUTION                       7484     7484    7484    7484  \n",
       "WEAPON LAWS                        8555     8555    8555    8555  \n",
       "SECONDARY CODES                    9985     9985    9985    9985  \n",
       "FORGERY/COUNTERFEITING            10609    10609   10609   10609  \n",
       "FRAUD                             16679    16679   16679   16679  \n",
       "ROBBERY                           23000    23000   23000   23000  \n",
       "MISSING PERSON                    25989    25989   25989   25989  \n",
       "SUSPICIOUS OCC                    31414    31414   31414   31414  \n",
       "BURGLARY                          36755    36755   36755   36755  \n",
       "WARRANTS                          42214    42214   42214   42214  \n",
       "VANDALISM                         44725    44725   44725   44725  \n",
       "VEHICLE THEFT                     53781    53781   53781   53781  \n",
       "DRUG/NARCOTIC                     53971    53971   53971   53971  \n",
       "ASSAULT                           76876    76876   76876   76876  \n",
       "NON-CRIMINAL                      92304    92304   92304   92304  \n",
       "OTHER OFFENSES                   126182   126182  126182  126182  \n",
       "LARCENY/THEFT                    174900   174900  174900  174900  "
      ]
     },
     "execution_count": 20,
     "metadata": {},
     "output_type": "execute_result"
    }
   ],
   "source": [
    "train.groupby('Category').count().sort_values('Dates')"
   ]
  },
  {
   "cell_type": "code",
   "execution_count": 21,
   "metadata": {},
   "outputs": [
    {
     "data": {
      "text/plain": [
       "878.049"
      ]
     },
     "execution_count": 21,
     "metadata": {},
     "output_type": "execute_result"
    }
   ],
   "source": [
    "# The 0.1% of the data would be:\n",
    "len(train)*0.001"
   ]
  },
  {
   "cell_type": "code",
   "execution_count": 22,
   "metadata": {},
   "outputs": [
    {
     "data": {
      "text/html": [
       "<div>\n",
       "<style scoped>\n",
       "    .dataframe tbody tr th:only-of-type {\n",
       "        vertical-align: middle;\n",
       "    }\n",
       "\n",
       "    .dataframe tbody tr th {\n",
       "        vertical-align: top;\n",
       "    }\n",
       "\n",
       "    .dataframe thead th {\n",
       "        text-align: right;\n",
       "    }\n",
       "</style>\n",
       "<table border=\"1\" class=\"dataframe\">\n",
       "  <thead>\n",
       "    <tr style=\"text-align: right;\">\n",
       "      <th></th>\n",
       "      <th>Dates</th>\n",
       "      <th>Descript</th>\n",
       "      <th>DayOfWeek</th>\n",
       "      <th>PdDistrict</th>\n",
       "      <th>Resolution</th>\n",
       "      <th>Address</th>\n",
       "      <th>X</th>\n",
       "      <th>Y</th>\n",
       "    </tr>\n",
       "    <tr>\n",
       "      <th>Category</th>\n",
       "      <th></th>\n",
       "      <th></th>\n",
       "      <th></th>\n",
       "      <th></th>\n",
       "      <th></th>\n",
       "      <th></th>\n",
       "      <th></th>\n",
       "      <th></th>\n",
       "    </tr>\n",
       "  </thead>\n",
       "  <tbody>\n",
       "    <tr>\n",
       "      <th>TREA</th>\n",
       "      <td>6</td>\n",
       "      <td>6</td>\n",
       "      <td>6</td>\n",
       "      <td>6</td>\n",
       "      <td>6</td>\n",
       "      <td>6</td>\n",
       "      <td>6</td>\n",
       "      <td>6</td>\n",
       "    </tr>\n",
       "    <tr>\n",
       "      <th>PORNOGRAPHY/OBSCENE MAT</th>\n",
       "      <td>22</td>\n",
       "      <td>22</td>\n",
       "      <td>22</td>\n",
       "      <td>22</td>\n",
       "      <td>22</td>\n",
       "      <td>22</td>\n",
       "      <td>22</td>\n",
       "      <td>22</td>\n",
       "    </tr>\n",
       "    <tr>\n",
       "      <th>GAMBLING</th>\n",
       "      <td>146</td>\n",
       "      <td>146</td>\n",
       "      <td>146</td>\n",
       "      <td>146</td>\n",
       "      <td>146</td>\n",
       "      <td>146</td>\n",
       "      <td>146</td>\n",
       "      <td>146</td>\n",
       "    </tr>\n",
       "    <tr>\n",
       "      <th>SEX OFFENSES NON FORCIBLE</th>\n",
       "      <td>148</td>\n",
       "      <td>148</td>\n",
       "      <td>148</td>\n",
       "      <td>148</td>\n",
       "      <td>148</td>\n",
       "      <td>148</td>\n",
       "      <td>148</td>\n",
       "      <td>148</td>\n",
       "    </tr>\n",
       "    <tr>\n",
       "      <th>EXTORTION</th>\n",
       "      <td>256</td>\n",
       "      <td>256</td>\n",
       "      <td>256</td>\n",
       "      <td>256</td>\n",
       "      <td>256</td>\n",
       "      <td>256</td>\n",
       "      <td>256</td>\n",
       "      <td>256</td>\n",
       "    </tr>\n",
       "    <tr>\n",
       "      <th>BRIBERY</th>\n",
       "      <td>289</td>\n",
       "      <td>289</td>\n",
       "      <td>289</td>\n",
       "      <td>289</td>\n",
       "      <td>289</td>\n",
       "      <td>289</td>\n",
       "      <td>289</td>\n",
       "      <td>289</td>\n",
       "    </tr>\n",
       "    <tr>\n",
       "      <th>BAD CHECKS</th>\n",
       "      <td>406</td>\n",
       "      <td>406</td>\n",
       "      <td>406</td>\n",
       "      <td>406</td>\n",
       "      <td>406</td>\n",
       "      <td>406</td>\n",
       "      <td>406</td>\n",
       "      <td>406</td>\n",
       "    </tr>\n",
       "    <tr>\n",
       "      <th>FAMILY OFFENSES</th>\n",
       "      <td>491</td>\n",
       "      <td>491</td>\n",
       "      <td>491</td>\n",
       "      <td>491</td>\n",
       "      <td>491</td>\n",
       "      <td>491</td>\n",
       "      <td>491</td>\n",
       "      <td>491</td>\n",
       "    </tr>\n",
       "    <tr>\n",
       "      <th>SUICIDE</th>\n",
       "      <td>508</td>\n",
       "      <td>508</td>\n",
       "      <td>508</td>\n",
       "      <td>508</td>\n",
       "      <td>508</td>\n",
       "      <td>508</td>\n",
       "      <td>508</td>\n",
       "      <td>508</td>\n",
       "    </tr>\n",
       "    <tr>\n",
       "      <th>EMBEZZLEMENT</th>\n",
       "      <td>1166</td>\n",
       "      <td>1166</td>\n",
       "      <td>1166</td>\n",
       "      <td>1166</td>\n",
       "      <td>1166</td>\n",
       "      <td>1166</td>\n",
       "      <td>1166</td>\n",
       "      <td>1166</td>\n",
       "    </tr>\n",
       "  </tbody>\n",
       "</table>\n",
       "</div>"
      ],
      "text/plain": [
       "                           Dates  Descript  DayOfWeek  PdDistrict  Resolution  \\\n",
       "Category                                                                        \n",
       "TREA                           6         6          6           6           6   \n",
       "PORNOGRAPHY/OBSCENE MAT       22        22         22          22          22   \n",
       "GAMBLING                     146       146        146         146         146   \n",
       "SEX OFFENSES NON FORCIBLE    148       148        148         148         148   \n",
       "EXTORTION                    256       256        256         256         256   \n",
       "BRIBERY                      289       289        289         289         289   \n",
       "BAD CHECKS                   406       406        406         406         406   \n",
       "FAMILY OFFENSES              491       491        491         491         491   \n",
       "SUICIDE                      508       508        508         508         508   \n",
       "EMBEZZLEMENT                1166      1166       1166        1166        1166   \n",
       "\n",
       "                           Address     X     Y  \n",
       "Category                                        \n",
       "TREA                             6     6     6  \n",
       "PORNOGRAPHY/OBSCENE MAT         22    22    22  \n",
       "GAMBLING                       146   146   146  \n",
       "SEX OFFENSES NON FORCIBLE      148   148   148  \n",
       "EXTORTION                      256   256   256  \n",
       "BRIBERY                        289   289   289  \n",
       "BAD CHECKS                     406   406   406  \n",
       "FAMILY OFFENSES                491   491   491  \n",
       "SUICIDE                        508   508   508  \n",
       "EMBEZZLEMENT                  1166  1166  1166  "
      ]
     },
     "execution_count": 22,
     "metadata": {},
     "output_type": "execute_result"
    }
   ],
   "source": [
    "train.groupby('Category').count().sort_values('Dates').head(10)"
   ]
  },
  {
   "cell_type": "code",
   "execution_count": 23,
   "metadata": {},
   "outputs": [
    {
     "data": {
      "text/plain": [
       "39"
      ]
     },
     "execution_count": 23,
     "metadata": {},
     "output_type": "execute_result"
    }
   ],
   "source": [
    "len(train[\"Category\"].unique())"
   ]
  },
  {
   "cell_type": "markdown",
   "metadata": {},
   "source": [
    "### 2. Load Test data"
   ]
  },
  {
   "cell_type": "code",
   "execution_count": 24,
   "metadata": {},
   "outputs": [],
   "source": [
    "test = pd.read_csv(f'{PATH}test.csv',date_parser='Dates')"
   ]
  },
  {
   "cell_type": "code",
   "execution_count": 25,
   "metadata": {},
   "outputs": [
    {
     "data": {
      "text/html": [
       "<div>\n",
       "<style scoped>\n",
       "    .dataframe tbody tr th:only-of-type {\n",
       "        vertical-align: middle;\n",
       "    }\n",
       "\n",
       "    .dataframe tbody tr th {\n",
       "        vertical-align: top;\n",
       "    }\n",
       "\n",
       "    .dataframe thead th {\n",
       "        text-align: right;\n",
       "    }\n",
       "</style>\n",
       "<table border=\"1\" class=\"dataframe\">\n",
       "  <thead>\n",
       "    <tr style=\"text-align: right;\">\n",
       "      <th></th>\n",
       "      <th>Id</th>\n",
       "      <th>Dates</th>\n",
       "      <th>DayOfWeek</th>\n",
       "      <th>PdDistrict</th>\n",
       "      <th>Address</th>\n",
       "      <th>X</th>\n",
       "      <th>Y</th>\n",
       "    </tr>\n",
       "  </thead>\n",
       "  <tbody>\n",
       "    <tr>\n",
       "      <th>0</th>\n",
       "      <td>0</td>\n",
       "      <td>2015-05-10 23:59:00</td>\n",
       "      <td>Sunday</td>\n",
       "      <td>BAYVIEW</td>\n",
       "      <td>2000 Block of THOMAS AV</td>\n",
       "      <td>-122.399588</td>\n",
       "      <td>37.735051</td>\n",
       "    </tr>\n",
       "    <tr>\n",
       "      <th>1</th>\n",
       "      <td>1</td>\n",
       "      <td>2015-05-10 23:51:00</td>\n",
       "      <td>Sunday</td>\n",
       "      <td>BAYVIEW</td>\n",
       "      <td>3RD ST / REVERE AV</td>\n",
       "      <td>-122.391523</td>\n",
       "      <td>37.732432</td>\n",
       "    </tr>\n",
       "    <tr>\n",
       "      <th>2</th>\n",
       "      <td>2</td>\n",
       "      <td>2015-05-10 23:50:00</td>\n",
       "      <td>Sunday</td>\n",
       "      <td>NORTHERN</td>\n",
       "      <td>2000 Block of GOUGH ST</td>\n",
       "      <td>-122.426002</td>\n",
       "      <td>37.792212</td>\n",
       "    </tr>\n",
       "    <tr>\n",
       "      <th>3</th>\n",
       "      <td>3</td>\n",
       "      <td>2015-05-10 23:45:00</td>\n",
       "      <td>Sunday</td>\n",
       "      <td>INGLESIDE</td>\n",
       "      <td>4700 Block of MISSION ST</td>\n",
       "      <td>-122.437394</td>\n",
       "      <td>37.721412</td>\n",
       "    </tr>\n",
       "    <tr>\n",
       "      <th>4</th>\n",
       "      <td>4</td>\n",
       "      <td>2015-05-10 23:45:00</td>\n",
       "      <td>Sunday</td>\n",
       "      <td>INGLESIDE</td>\n",
       "      <td>4700 Block of MISSION ST</td>\n",
       "      <td>-122.437394</td>\n",
       "      <td>37.721412</td>\n",
       "    </tr>\n",
       "  </tbody>\n",
       "</table>\n",
       "</div>"
      ],
      "text/plain": [
       "   Id                Dates DayOfWeek PdDistrict                   Address  \\\n",
       "0   0  2015-05-10 23:59:00    Sunday    BAYVIEW   2000 Block of THOMAS AV   \n",
       "1   1  2015-05-10 23:51:00    Sunday    BAYVIEW        3RD ST / REVERE AV   \n",
       "2   2  2015-05-10 23:50:00    Sunday   NORTHERN    2000 Block of GOUGH ST   \n",
       "3   3  2015-05-10 23:45:00    Sunday  INGLESIDE  4700 Block of MISSION ST   \n",
       "4   4  2015-05-10 23:45:00    Sunday  INGLESIDE  4700 Block of MISSION ST   \n",
       "\n",
       "            X          Y  \n",
       "0 -122.399588  37.735051  \n",
       "1 -122.391523  37.732432  \n",
       "2 -122.426002  37.792212  \n",
       "3 -122.437394  37.721412  \n",
       "4 -122.437394  37.721412  "
      ]
     },
     "execution_count": 25,
     "metadata": {},
     "output_type": "execute_result"
    }
   ],
   "source": [
    "test.head()"
   ]
  },
  {
   "cell_type": "markdown",
   "metadata": {},
   "source": [
    "### 3. Merge the data"
   ]
  },
  {
   "cell_type": "code",
   "execution_count": 27,
   "metadata": {},
   "outputs": [
    {
     "data": {
      "text/plain": [
       "Index(['Dates', 'Category', 'Descript', 'DayOfWeek', 'PdDistrict',\n",
       "       'Resolution', 'Address', 'X', 'Y'],\n",
       "      dtype='object')"
      ]
     },
     "execution_count": 27,
     "metadata": {},
     "output_type": "execute_result"
    }
   ],
   "source": [
    "train.columns"
   ]
  },
  {
   "cell_type": "code",
   "execution_count": 28,
   "metadata": {},
   "outputs": [
    {
     "data": {
      "text/plain": [
       "Index(['Id', 'Dates', 'DayOfWeek', 'PdDistrict', 'Address', 'X', 'Y'], dtype='object')"
      ]
     },
     "execution_count": 28,
     "metadata": {},
     "output_type": "execute_result"
    }
   ],
   "source": [
    "test.columns"
   ]
  },
  {
   "cell_type": "code",
   "execution_count": 44,
   "metadata": {},
   "outputs": [],
   "source": [
    "# Let's remove extra columns\n",
    "train.drop(['Descript','Resolution'],axis=1,inplace=True)\n",
    "test.drop(['Id'],axis=1,inplace=True)\n",
    "# Add dummy column in test dataset, which we will remove later\n",
    "test['Category']='TREA'\n",
    "# Add dataset identifier\n",
    "train['is_train'] = 1\n",
    "test['is_train'] = 0"
   ]
  },
  {
   "cell_type": "code",
   "execution_count": 141,
   "metadata": {},
   "outputs": [],
   "source": [
    "#test['Category']='TREA'"
   ]
  },
  {
   "cell_type": "code",
   "execution_count": 142,
   "metadata": {},
   "outputs": [
    {
     "data": {
      "text/plain": [
       "Index(['Dates', 'Category', 'DayOfWeek', 'PdDistrict', 'Address', 'X', 'Y',\n",
       "       'is_train'],\n",
       "      dtype='object')"
      ]
     },
     "execution_count": 142,
     "metadata": {},
     "output_type": "execute_result"
    }
   ],
   "source": [
    "train.columns"
   ]
  },
  {
   "cell_type": "code",
   "execution_count": 143,
   "metadata": {},
   "outputs": [
    {
     "data": {
      "text/plain": [
       "Index(['Dates', 'DayOfWeek', 'PdDistrict', 'Address', 'X', 'Y', 'Category',\n",
       "       'is_train'],\n",
       "      dtype='object')"
      ]
     },
     "execution_count": 143,
     "metadata": {},
     "output_type": "execute_result"
    }
   ],
   "source": [
    "test.columns"
   ]
  },
  {
   "cell_type": "code",
   "execution_count": 144,
   "metadata": {},
   "outputs": [],
   "source": [
    "df_master = pd.concat([train,test],axis=0,sort=True,ignore_index=True)"
   ]
  },
  {
   "cell_type": "code",
   "execution_count": 145,
   "metadata": {},
   "outputs": [
    {
     "data": {
      "text/html": [
       "<div>\n",
       "<style scoped>\n",
       "    .dataframe tbody tr th:only-of-type {\n",
       "        vertical-align: middle;\n",
       "    }\n",
       "\n",
       "    .dataframe tbody tr th {\n",
       "        vertical-align: top;\n",
       "    }\n",
       "\n",
       "    .dataframe thead th {\n",
       "        text-align: right;\n",
       "    }\n",
       "</style>\n",
       "<table border=\"1\" class=\"dataframe\">\n",
       "  <thead>\n",
       "    <tr style=\"text-align: right;\">\n",
       "      <th></th>\n",
       "      <th>Address</th>\n",
       "      <th>Category</th>\n",
       "      <th>Dates</th>\n",
       "      <th>DayOfWeek</th>\n",
       "      <th>PdDistrict</th>\n",
       "      <th>X</th>\n",
       "      <th>Y</th>\n",
       "      <th>is_train</th>\n",
       "    </tr>\n",
       "  </thead>\n",
       "  <tbody>\n",
       "    <tr>\n",
       "      <th>0</th>\n",
       "      <td>OAK ST / LAGUNA ST</td>\n",
       "      <td>WARRANTS</td>\n",
       "      <td>2015-05-13 23:53:00</td>\n",
       "      <td>Wednesday</td>\n",
       "      <td>NORTHERN</td>\n",
       "      <td>-122.425892</td>\n",
       "      <td>37.774599</td>\n",
       "      <td>1</td>\n",
       "    </tr>\n",
       "    <tr>\n",
       "      <th>1</th>\n",
       "      <td>OAK ST / LAGUNA ST</td>\n",
       "      <td>OTHER OFFENSES</td>\n",
       "      <td>2015-05-13 23:53:00</td>\n",
       "      <td>Wednesday</td>\n",
       "      <td>NORTHERN</td>\n",
       "      <td>-122.425892</td>\n",
       "      <td>37.774599</td>\n",
       "      <td>1</td>\n",
       "    </tr>\n",
       "    <tr>\n",
       "      <th>2</th>\n",
       "      <td>VANNESS AV / GREENWICH ST</td>\n",
       "      <td>OTHER OFFENSES</td>\n",
       "      <td>2015-05-13 23:33:00</td>\n",
       "      <td>Wednesday</td>\n",
       "      <td>NORTHERN</td>\n",
       "      <td>-122.424363</td>\n",
       "      <td>37.800414</td>\n",
       "      <td>1</td>\n",
       "    </tr>\n",
       "    <tr>\n",
       "      <th>3</th>\n",
       "      <td>1500 Block of LOMBARD ST</td>\n",
       "      <td>LARCENY/THEFT</td>\n",
       "      <td>2015-05-13 23:30:00</td>\n",
       "      <td>Wednesday</td>\n",
       "      <td>NORTHERN</td>\n",
       "      <td>-122.426995</td>\n",
       "      <td>37.800873</td>\n",
       "      <td>1</td>\n",
       "    </tr>\n",
       "    <tr>\n",
       "      <th>4</th>\n",
       "      <td>100 Block of BRODERICK ST</td>\n",
       "      <td>LARCENY/THEFT</td>\n",
       "      <td>2015-05-13 23:30:00</td>\n",
       "      <td>Wednesday</td>\n",
       "      <td>PARK</td>\n",
       "      <td>-122.438738</td>\n",
       "      <td>37.771541</td>\n",
       "      <td>1</td>\n",
       "    </tr>\n",
       "  </tbody>\n",
       "</table>\n",
       "</div>"
      ],
      "text/plain": [
       "                     Address        Category                Dates  DayOfWeek  \\\n",
       "0         OAK ST / LAGUNA ST        WARRANTS  2015-05-13 23:53:00  Wednesday   \n",
       "1         OAK ST / LAGUNA ST  OTHER OFFENSES  2015-05-13 23:53:00  Wednesday   \n",
       "2  VANNESS AV / GREENWICH ST  OTHER OFFENSES  2015-05-13 23:33:00  Wednesday   \n",
       "3   1500 Block of LOMBARD ST   LARCENY/THEFT  2015-05-13 23:30:00  Wednesday   \n",
       "4  100 Block of BRODERICK ST   LARCENY/THEFT  2015-05-13 23:30:00  Wednesday   \n",
       "\n",
       "  PdDistrict           X          Y  is_train  \n",
       "0   NORTHERN -122.425892  37.774599         1  \n",
       "1   NORTHERN -122.425892  37.774599         1  \n",
       "2   NORTHERN -122.424363  37.800414         1  \n",
       "3   NORTHERN -122.426995  37.800873         1  \n",
       "4       PARK -122.438738  37.771541         1  "
      ]
     },
     "execution_count": 145,
     "metadata": {},
     "output_type": "execute_result"
    }
   ],
   "source": [
    "df_master.head()"
   ]
  },
  {
   "cell_type": "code",
   "execution_count": 146,
   "metadata": {},
   "outputs": [
    {
     "data": {
      "text/html": [
       "<div>\n",
       "<style scoped>\n",
       "    .dataframe tbody tr th:only-of-type {\n",
       "        vertical-align: middle;\n",
       "    }\n",
       "\n",
       "    .dataframe tbody tr th {\n",
       "        vertical-align: top;\n",
       "    }\n",
       "\n",
       "    .dataframe thead th {\n",
       "        text-align: right;\n",
       "    }\n",
       "</style>\n",
       "<table border=\"1\" class=\"dataframe\">\n",
       "  <thead>\n",
       "    <tr style=\"text-align: right;\">\n",
       "      <th></th>\n",
       "      <th>Address</th>\n",
       "      <th>Category</th>\n",
       "      <th>Dates</th>\n",
       "      <th>DayOfWeek</th>\n",
       "      <th>PdDistrict</th>\n",
       "      <th>X</th>\n",
       "      <th>Y</th>\n",
       "      <th>is_train</th>\n",
       "    </tr>\n",
       "  </thead>\n",
       "  <tbody>\n",
       "    <tr>\n",
       "      <th>1762306</th>\n",
       "      <td>2600 Block of BRYANT ST</td>\n",
       "      <td>TREA</td>\n",
       "      <td>2003-01-01 00:01:00</td>\n",
       "      <td>Wednesday</td>\n",
       "      <td>MISSION</td>\n",
       "      <td>-122.408983</td>\n",
       "      <td>37.751987</td>\n",
       "      <td>0</td>\n",
       "    </tr>\n",
       "    <tr>\n",
       "      <th>1762307</th>\n",
       "      <td>1900 Block of WASHINGTON ST</td>\n",
       "      <td>TREA</td>\n",
       "      <td>2003-01-01 00:01:00</td>\n",
       "      <td>Wednesday</td>\n",
       "      <td>NORTHERN</td>\n",
       "      <td>-122.425342</td>\n",
       "      <td>37.792681</td>\n",
       "      <td>0</td>\n",
       "    </tr>\n",
       "    <tr>\n",
       "      <th>1762308</th>\n",
       "      <td>5500 Block of MISSION ST</td>\n",
       "      <td>TREA</td>\n",
       "      <td>2003-01-01 00:01:00</td>\n",
       "      <td>Wednesday</td>\n",
       "      <td>INGLESIDE</td>\n",
       "      <td>-122.445418</td>\n",
       "      <td>37.712075</td>\n",
       "      <td>0</td>\n",
       "    </tr>\n",
       "    <tr>\n",
       "      <th>1762309</th>\n",
       "      <td>1500 Block of HUDSON AV</td>\n",
       "      <td>TREA</td>\n",
       "      <td>2003-01-01 00:01:00</td>\n",
       "      <td>Wednesday</td>\n",
       "      <td>BAYVIEW</td>\n",
       "      <td>-122.387394</td>\n",
       "      <td>37.739479</td>\n",
       "      <td>0</td>\n",
       "    </tr>\n",
       "    <tr>\n",
       "      <th>1762310</th>\n",
       "      <td>1500 Block of SLOAT BL</td>\n",
       "      <td>TREA</td>\n",
       "      <td>2003-01-01 00:01:00</td>\n",
       "      <td>Wednesday</td>\n",
       "      <td>TARAVAL</td>\n",
       "      <td>-122.489714</td>\n",
       "      <td>37.733950</td>\n",
       "      <td>0</td>\n",
       "    </tr>\n",
       "  </tbody>\n",
       "</table>\n",
       "</div>"
      ],
      "text/plain": [
       "                             Address Category                Dates  DayOfWeek  \\\n",
       "1762306      2600 Block of BRYANT ST     TREA  2003-01-01 00:01:00  Wednesday   \n",
       "1762307  1900 Block of WASHINGTON ST     TREA  2003-01-01 00:01:00  Wednesday   \n",
       "1762308     5500 Block of MISSION ST     TREA  2003-01-01 00:01:00  Wednesday   \n",
       "1762309      1500 Block of HUDSON AV     TREA  2003-01-01 00:01:00  Wednesday   \n",
       "1762310       1500 Block of SLOAT BL     TREA  2003-01-01 00:01:00  Wednesday   \n",
       "\n",
       "        PdDistrict           X          Y  is_train  \n",
       "1762306    MISSION -122.408983  37.751987         0  \n",
       "1762307   NORTHERN -122.425342  37.792681         0  \n",
       "1762308  INGLESIDE -122.445418  37.712075         0  \n",
       "1762309    BAYVIEW -122.387394  37.739479         0  \n",
       "1762310    TARAVAL -122.489714  37.733950         0  "
      ]
     },
     "execution_count": 146,
     "metadata": {},
     "output_type": "execute_result"
    }
   ],
   "source": [
    "df_master.tail()"
   ]
  },
  {
   "cell_type": "code",
   "execution_count": 147,
   "metadata": {},
   "outputs": [
    {
     "data": {
      "text/plain": [
       "(878049, 884262, 1762311)"
      ]
     },
     "execution_count": 147,
     "metadata": {},
     "output_type": "execute_result"
    }
   ],
   "source": [
    "len(train), len(test), len(df_master)"
   ]
  },
  {
   "cell_type": "markdown",
   "metadata": {},
   "source": [
    "### 4. Feature Engineering"
   ]
  },
  {
   "cell_type": "code",
   "execution_count": 148,
   "metadata": {},
   "outputs": [
    {
     "data": {
      "text/plain": [
       "Index(['Address', 'Category', 'Dates', 'DayOfWeek', 'PdDistrict', 'X', 'Y',\n",
       "       'is_train'],\n",
       "      dtype='object')"
      ]
     },
     "execution_count": 148,
     "metadata": {},
     "output_type": "execute_result"
    }
   ],
   "source": [
    "df_master.columns"
   ]
  },
  {
   "cell_type": "markdown",
   "metadata": {},
   "source": [
    "#### Add data-time features"
   ]
  },
  {
   "cell_type": "code",
   "execution_count": 149,
   "metadata": {},
   "outputs": [],
   "source": [
    "add_datepart(df=df_master,fldname='Dates',time=True)"
   ]
  },
  {
   "cell_type": "code",
   "execution_count": 150,
   "metadata": {},
   "outputs": [
    {
     "data": {
      "text/plain": [
       "Index(['Address', 'Category', 'DayOfWeek', 'PdDistrict', 'X', 'Y', 'is_train',\n",
       "       'DatesYear', 'DatesMonth', 'DatesWeek', 'DatesDay', 'DatesDayofweek',\n",
       "       'DatesDayofyear', 'DatesIs_month_end', 'DatesIs_month_start',\n",
       "       'DatesIs_quarter_end', 'DatesIs_quarter_start', 'DatesIs_year_end',\n",
       "       'DatesIs_year_start', 'DatesHour', 'DatesMinute', 'DatesSecond',\n",
       "       'DatesElapsed'],\n",
       "      dtype='object')"
      ]
     },
     "execution_count": 150,
     "metadata": {},
     "output_type": "execute_result"
    }
   ],
   "source": [
    "df_master.columns"
   ]
  },
  {
   "cell_type": "markdown",
   "metadata": {},
   "source": [
    "#### Add X, Y features"
   ]
  },
  {
   "cell_type": "code",
   "execution_count": 151,
   "metadata": {},
   "outputs": [],
   "source": [
    "# Lets' created scaled transform of the X and Y coordinates\n",
    "xy_scaler = StandardScaler()\n",
    "xy_scaler.fit(df_master.loc[:,['X','Y']])\n",
    "xy_scaled = xy_scaler.transform(df_master.loc[:,['X','Y']])\n",
    "\n",
    "# PCA on X and Y, select top 2 components\n",
    "xy_pca = PCA(n_components=2, whiten=True).fit_transform(xy_scaled)\n",
    "\n",
    "# Rotation\n",
    "rot45_X = .707* xy_scaled[:,1] + .707* xy_scaled[:,0] \n",
    "rot45_Y = .707* xy_scaled[:,1] - .707* xy_scaled[:,0]\n",
    "\n",
    "rot30_X = (1.732/2)* xy_scaled[:,0] + (1./2)* xy_scaled[:,1]\n",
    "rot30_Y = (1.732/2)* xy_scaled[:,1] - (1./2)* xy_scaled[:,0]\n",
    "\n",
    "rot60_X = (1./2)* xy_scaled[:,0] + (1.732/2)* xy_scaled[:,1] \n",
    "rot60_Y = (1./2)* xy_scaled[:,1] - (1.732/2)* xy_scaled[:,0]\n",
    "\n",
    "# Polar coordinates\n",
    "radial_r = np.sqrt( np.power(xy_scaled[:,1],2) + np.power(xy_scaled[:,0],2) )\n",
    "radial_phi = np.arctan2(xy_scaled[:,1], xy_scaled[:,0])\n",
    "\n",
    "xy_scaled_df=pd.DataFrame(xy_scaled)\n",
    "xy_pca_df=pd.DataFrame(xy_pca)"
   ]
  },
  {
   "cell_type": "code",
   "execution_count": 152,
   "metadata": {},
   "outputs": [],
   "source": [
    "df_master['xy_scaled_1']    = xy_scaled_df[0]\n",
    "df_master['xy_scaled_2']    = xy_scaled_df[1]\n",
    "df_master['xy_pca_1']       = xy_pca_df[0]\n",
    "df_master['xy_pca_2']       = xy_pca_df[1]\n",
    "df_master['xy_x_rotate_30'] = rot30_X\n",
    "df_master['xy_x_rotate_45'] = rot45_X\n",
    "df_master['xy_x_rotate_60'] = rot60_X\n",
    "df_master['xy_y_rotate_30'] = rot30_Y\n",
    "df_master['xy_y_rotate_45'] = rot45_Y\n",
    "df_master['xy_y_rotate_60'] = rot60_Y\n",
    "df_master['xy_radial_r']    = radial_r\n",
    "df_master['xy_radial_phi']  = radial_phi"
   ]
  },
  {
   "cell_type": "markdown",
   "metadata": {},
   "source": [
    "#### Add Address features"
   ]
  },
  {
   "cell_type": "code",
   "execution_count": 153,
   "metadata": {},
   "outputs": [
    {
     "data": {
      "text/html": [
       "<div>\n",
       "<style scoped>\n",
       "    .dataframe tbody tr th:only-of-type {\n",
       "        vertical-align: middle;\n",
       "    }\n",
       "\n",
       "    .dataframe tbody tr th {\n",
       "        vertical-align: top;\n",
       "    }\n",
       "\n",
       "    .dataframe thead th {\n",
       "        text-align: right;\n",
       "    }\n",
       "</style>\n",
       "<table border=\"1\" class=\"dataframe\">\n",
       "  <thead>\n",
       "    <tr style=\"text-align: right;\">\n",
       "      <th></th>\n",
       "      <th>Address</th>\n",
       "      <th>add_part1</th>\n",
       "      <th>add_part2</th>\n",
       "    </tr>\n",
       "  </thead>\n",
       "  <tbody>\n",
       "    <tr>\n",
       "      <th>0</th>\n",
       "      <td>OAK ST / LAGUNA ST</td>\n",
       "      <td>OAK ST</td>\n",
       "      <td>LAGUNA ST</td>\n",
       "    </tr>\n",
       "    <tr>\n",
       "      <th>1</th>\n",
       "      <td>OAK ST / LAGUNA ST</td>\n",
       "      <td>OAK ST</td>\n",
       "      <td>LAGUNA ST</td>\n",
       "    </tr>\n",
       "    <tr>\n",
       "      <th>2</th>\n",
       "      <td>VANNESS AV / GREENWICH ST</td>\n",
       "      <td>VANNESS AV</td>\n",
       "      <td>GREENWICH ST</td>\n",
       "    </tr>\n",
       "    <tr>\n",
       "      <th>3</th>\n",
       "      <td>1500 Block of LOMBARD ST</td>\n",
       "      <td>1500 Block of LOMBARD ST</td>\n",
       "      <td>NaN</td>\n",
       "    </tr>\n",
       "    <tr>\n",
       "      <th>4</th>\n",
       "      <td>100 Block of BRODERICK ST</td>\n",
       "      <td>100 Block of BRODERICK ST</td>\n",
       "      <td>NaN</td>\n",
       "    </tr>\n",
       "    <tr>\n",
       "      <th>5</th>\n",
       "      <td>0 Block of TEDDY AV</td>\n",
       "      <td>0 Block of TEDDY AV</td>\n",
       "      <td>NaN</td>\n",
       "    </tr>\n",
       "    <tr>\n",
       "      <th>6</th>\n",
       "      <td>AVALON AV / PERU AV</td>\n",
       "      <td>AVALON AV</td>\n",
       "      <td>PERU AV</td>\n",
       "    </tr>\n",
       "    <tr>\n",
       "      <th>7</th>\n",
       "      <td>KIRKWOOD AV / DONAHUE ST</td>\n",
       "      <td>KIRKWOOD AV</td>\n",
       "      <td>DONAHUE ST</td>\n",
       "    </tr>\n",
       "    <tr>\n",
       "      <th>8</th>\n",
       "      <td>600 Block of 47TH AV</td>\n",
       "      <td>600 Block of 47TH AV</td>\n",
       "      <td>NaN</td>\n",
       "    </tr>\n",
       "    <tr>\n",
       "      <th>9</th>\n",
       "      <td>JEFFERSON ST / LEAVENWORTH ST</td>\n",
       "      <td>JEFFERSON ST</td>\n",
       "      <td>LEAVENWORTH ST</td>\n",
       "    </tr>\n",
       "    <tr>\n",
       "      <th>10</th>\n",
       "      <td>JEFFERSON ST / LEAVENWORTH ST</td>\n",
       "      <td>JEFFERSON ST</td>\n",
       "      <td>LEAVENWORTH ST</td>\n",
       "    </tr>\n",
       "    <tr>\n",
       "      <th>11</th>\n",
       "      <td>0 Block of ESCOLTA WY</td>\n",
       "      <td>0 Block of ESCOLTA WY</td>\n",
       "      <td>NaN</td>\n",
       "    </tr>\n",
       "    <tr>\n",
       "      <th>12</th>\n",
       "      <td>TURK ST / JONES ST</td>\n",
       "      <td>TURK ST</td>\n",
       "      <td>JONES ST</td>\n",
       "    </tr>\n",
       "    <tr>\n",
       "      <th>13</th>\n",
       "      <td>FILLMORE ST / GEARY BL</td>\n",
       "      <td>FILLMORE ST</td>\n",
       "      <td>GEARY BL</td>\n",
       "    </tr>\n",
       "    <tr>\n",
       "      <th>14</th>\n",
       "      <td>200 Block of WILLIAMS AV</td>\n",
       "      <td>200 Block of WILLIAMS AV</td>\n",
       "      <td>NaN</td>\n",
       "    </tr>\n",
       "  </tbody>\n",
       "</table>\n",
       "</div>"
      ],
      "text/plain": [
       "                          Address                  add_part1       add_part2\n",
       "0              OAK ST / LAGUNA ST                     OAK ST       LAGUNA ST\n",
       "1              OAK ST / LAGUNA ST                     OAK ST       LAGUNA ST\n",
       "2       VANNESS AV / GREENWICH ST                 VANNESS AV    GREENWICH ST\n",
       "3        1500 Block of LOMBARD ST   1500 Block of LOMBARD ST             NaN\n",
       "4       100 Block of BRODERICK ST  100 Block of BRODERICK ST             NaN\n",
       "5             0 Block of TEDDY AV        0 Block of TEDDY AV             NaN\n",
       "6             AVALON AV / PERU AV                  AVALON AV         PERU AV\n",
       "7        KIRKWOOD AV / DONAHUE ST                KIRKWOOD AV      DONAHUE ST\n",
       "8            600 Block of 47TH AV       600 Block of 47TH AV             NaN\n",
       "9   JEFFERSON ST / LEAVENWORTH ST               JEFFERSON ST  LEAVENWORTH ST\n",
       "10  JEFFERSON ST / LEAVENWORTH ST               JEFFERSON ST  LEAVENWORTH ST\n",
       "11          0 Block of ESCOLTA WY      0 Block of ESCOLTA WY             NaN\n",
       "12             TURK ST / JONES ST                    TURK ST        JONES ST\n",
       "13         FILLMORE ST / GEARY BL                FILLMORE ST        GEARY BL\n",
       "14       200 Block of WILLIAMS AV   200 Block of WILLIAMS AV             NaN"
      ]
     },
     "execution_count": 153,
     "metadata": {},
     "output_type": "execute_result"
    }
   ],
   "source": [
    "# Create a feature for street intersection\n",
    "df_master['add_contains_intersection']=df_master['Address'].str.contains('/')\n",
    "\n",
    "# Create a feature for block or no-block in the address\n",
    "add_upper=df_master['Address'].str.upper()\n",
    "df_master['add_contains_block']=add_upper.str.contains('BLOCK')\n",
    "\n",
    "# Create a feature to capture the data before and after the '/'\n",
    "add_p1, add_p2 = df_master['Address'].str.split('/', 1).str\n",
    "\n",
    "add_p1=add_p1.str.rstrip()\n",
    "df_master['add_part1']=add_p1.str.lstrip()\n",
    "add_p2=add_p2.str.rstrip()\n",
    "df_master['add_part2']=add_p2.str.lstrip()\n",
    "\n",
    "# Check if the split went well\n",
    "df_master[['Address','add_part1','add_part2']].head(15)"
   ]
  },
  {
   "cell_type": "code",
   "execution_count": 154,
   "metadata": {},
   "outputs": [
    {
     "data": {
      "text/plain": [
       "array(['80', 'AL', 'AR', 'AV', 'AY', 'BL', 'CR', 'CT', 'DR', 'ER', 'EX', 'HY', 'LN', 'MS', 'NO', 'PL', 'PZ',\n",
       "       'RD', 'RK', 'RW', 'ST', 'TI', 'TR', 'WK', 'WY'], dtype=object)"
      ]
     },
     "execution_count": 154,
     "metadata": {},
     "output_type": "execute_result"
    }
   ],
   "source": [
    "# Type of the first part of address (ST, AV BL etc)\n",
    "df_master['add_part1_type']=df_master['add_part1'].str[-2:]\n",
    "np.unique(df_master['add_part1_type'])"
   ]
  },
  {
   "cell_type": "markdown",
   "metadata": {},
   "source": [
    "### 5. Format the data"
   ]
  },
  {
   "cell_type": "code",
   "execution_count": 186,
   "metadata": {},
   "outputs": [],
   "source": [
    "from sklearn.preprocessing import OneHotEncoder\n",
    "enc = OneHotEncoder(handle_unknown='ignore')"
   ]
  },
  {
   "cell_type": "code",
   "execution_count": 190,
   "metadata": {},
   "outputs": [],
   "source": [
    "#train_ordinal = train[['PdDistrict']]\n",
    "#enc.fit(train_ordinal)\n",
    "#train_one_hot = enc.transform(train_ordinal)"
   ]
  },
  {
   "cell_type": "code",
   "execution_count": 155,
   "metadata": {},
   "outputs": [],
   "source": [
    "train_cats(df_master)"
   ]
  },
  {
   "cell_type": "code",
   "execution_count": 156,
   "metadata": {},
   "outputs": [],
   "source": [
    "x_all, y_all, nas = proc_df(df_master,'Category')"
   ]
  },
  {
   "cell_type": "code",
   "execution_count": 157,
   "metadata": {},
   "outputs": [
    {
     "data": {
      "text/html": [
       "<div>\n",
       "<style scoped>\n",
       "    .dataframe tbody tr th:only-of-type {\n",
       "        vertical-align: middle;\n",
       "    }\n",
       "\n",
       "    .dataframe tbody tr th {\n",
       "        vertical-align: top;\n",
       "    }\n",
       "\n",
       "    .dataframe thead th {\n",
       "        text-align: right;\n",
       "    }\n",
       "</style>\n",
       "<table border=\"1\" class=\"dataframe\">\n",
       "  <thead>\n",
       "    <tr style=\"text-align: right;\">\n",
       "      <th></th>\n",
       "      <th>Address</th>\n",
       "      <th>DayOfWeek</th>\n",
       "      <th>PdDistrict</th>\n",
       "      <th>X</th>\n",
       "      <th>Y</th>\n",
       "      <th>is_train</th>\n",
       "      <th>DatesYear</th>\n",
       "      <th>DatesMonth</th>\n",
       "      <th>DatesWeek</th>\n",
       "      <th>DatesDay</th>\n",
       "      <th>...</th>\n",
       "      <th>xy_y_rotate_30</th>\n",
       "      <th>xy_y_rotate_45</th>\n",
       "      <th>xy_y_rotate_60</th>\n",
       "      <th>xy_radial_r</th>\n",
       "      <th>xy_radial_phi</th>\n",
       "      <th>add_contains_intersection</th>\n",
       "      <th>add_contains_block</th>\n",
       "      <th>add_part1</th>\n",
       "      <th>add_part2</th>\n",
       "      <th>add_part1_type</th>\n",
       "    </tr>\n",
       "  </thead>\n",
       "  <tbody>\n",
       "    <tr>\n",
       "      <th>0</th>\n",
       "      <td>20896</td>\n",
       "      <td>7</td>\n",
       "      <td>5</td>\n",
       "      <td>-122.425892</td>\n",
       "      <td>37.774599</td>\n",
       "      <td>1</td>\n",
       "      <td>2015</td>\n",
       "      <td>5</td>\n",
       "      <td>20</td>\n",
       "      <td>13</td>\n",
       "      <td>...</td>\n",
       "      <td>0.058921</td>\n",
       "      <td>0.079634</td>\n",
       "      <td>0.094941</td>\n",
       "      <td>0.105766</td>\n",
       "      <td>3.074315</td>\n",
       "      <td>True</td>\n",
       "      <td>False</td>\n",
       "      <td>12436</td>\n",
       "      <td>956</td>\n",
       "      <td>21</td>\n",
       "    </tr>\n",
       "    <tr>\n",
       "      <th>1</th>\n",
       "      <td>20896</td>\n",
       "      <td>7</td>\n",
       "      <td>5</td>\n",
       "      <td>-122.425892</td>\n",
       "      <td>37.774599</td>\n",
       "      <td>1</td>\n",
       "      <td>2015</td>\n",
       "      <td>5</td>\n",
       "      <td>20</td>\n",
       "      <td>13</td>\n",
       "      <td>...</td>\n",
       "      <td>0.058921</td>\n",
       "      <td>0.079634</td>\n",
       "      <td>0.094941</td>\n",
       "      <td>0.105766</td>\n",
       "      <td>3.074315</td>\n",
       "      <td>True</td>\n",
       "      <td>False</td>\n",
       "      <td>12436</td>\n",
       "      <td>956</td>\n",
       "      <td>21</td>\n",
       "    </tr>\n",
       "    <tr>\n",
       "      <th>2</th>\n",
       "      <td>24170</td>\n",
       "      <td>7</td>\n",
       "      <td>5</td>\n",
       "      <td>-122.424363</td>\n",
       "      <td>37.800414</td>\n",
       "      <td>1</td>\n",
       "      <td>2015</td>\n",
       "      <td>5</td>\n",
       "      <td>20</td>\n",
       "      <td>13</td>\n",
       "      <td>...</td>\n",
       "      <td>0.081456</td>\n",
       "      <td>0.083140</td>\n",
       "      <td>0.079179</td>\n",
       "      <td>0.083269</td>\n",
       "      <td>2.303354</td>\n",
       "      <td>True</td>\n",
       "      <td>False</td>\n",
       "      <td>12899</td>\n",
       "      <td>749</td>\n",
       "      <td>4</td>\n",
       "    </tr>\n",
       "    <tr>\n",
       "      <th>3</th>\n",
       "      <td>4419</td>\n",
       "      <td>7</td>\n",
       "      <td>5</td>\n",
       "      <td>-122.426995</td>\n",
       "      <td>37.800873</td>\n",
       "      <td>1</td>\n",
       "      <td>2015</td>\n",
       "      <td>5</td>\n",
       "      <td>20</td>\n",
       "      <td>13</td>\n",
       "      <td>...</td>\n",
       "      <td>0.125209</td>\n",
       "      <td>0.144503</td>\n",
       "      <td>0.153987</td>\n",
       "      <td>0.154851</td>\n",
       "      <td>2.723442</td>\n",
       "      <td>False</td>\n",
       "      <td>True</td>\n",
       "      <td>4273</td>\n",
       "      <td>0</td>\n",
       "      <td>21</td>\n",
       "    </tr>\n",
       "    <tr>\n",
       "      <th>4</th>\n",
       "      <td>1924</td>\n",
       "      <td>7</td>\n",
       "      <td>6</td>\n",
       "      <td>-122.438738</td>\n",
       "      <td>37.771541</td>\n",
       "      <td>1</td>\n",
       "      <td>2015</td>\n",
       "      <td>5</td>\n",
       "      <td>20</td>\n",
       "      <td>13</td>\n",
       "      <td>...</td>\n",
       "      <td>0.262709</td>\n",
       "      <td>0.371149</td>\n",
       "      <td>0.454391</td>\n",
       "      <td>0.524343</td>\n",
       "      <td>3.140409</td>\n",
       "      <td>False</td>\n",
       "      <td>True</td>\n",
       "      <td>1924</td>\n",
       "      <td>0</td>\n",
       "      <td>21</td>\n",
       "    </tr>\n",
       "  </tbody>\n",
       "</table>\n",
       "<p>5 rows × 39 columns</p>\n",
       "</div>"
      ],
      "text/plain": [
       "   Address  DayOfWeek  PdDistrict           X          Y  is_train  DatesYear  \\\n",
       "0    20896          7           5 -122.425892  37.774599         1       2015   \n",
       "1    20896          7           5 -122.425892  37.774599         1       2015   \n",
       "2    24170          7           5 -122.424363  37.800414         1       2015   \n",
       "3     4419          7           5 -122.426995  37.800873         1       2015   \n",
       "4     1924          7           6 -122.438738  37.771541         1       2015   \n",
       "\n",
       "   DatesMonth  DatesWeek  DatesDay       ...        xy_y_rotate_30  \\\n",
       "0           5         20        13       ...              0.058921   \n",
       "1           5         20        13       ...              0.058921   \n",
       "2           5         20        13       ...              0.081456   \n",
       "3           5         20        13       ...              0.125209   \n",
       "4           5         20        13       ...              0.262709   \n",
       "\n",
       "   xy_y_rotate_45  xy_y_rotate_60  xy_radial_r  xy_radial_phi  \\\n",
       "0        0.079634        0.094941     0.105766       3.074315   \n",
       "1        0.079634        0.094941     0.105766       3.074315   \n",
       "2        0.083140        0.079179     0.083269       2.303354   \n",
       "3        0.144503        0.153987     0.154851       2.723442   \n",
       "4        0.371149        0.454391     0.524343       3.140409   \n",
       "\n",
       "   add_contains_intersection  add_contains_block  add_part1  add_part2  \\\n",
       "0                       True               False      12436        956   \n",
       "1                       True               False      12436        956   \n",
       "2                       True               False      12899        749   \n",
       "3                      False                True       4273          0   \n",
       "4                      False                True       1924          0   \n",
       "\n",
       "   add_part1_type  \n",
       "0              21  \n",
       "1              21  \n",
       "2               4  \n",
       "3              21  \n",
       "4              21  \n",
       "\n",
       "[5 rows x 39 columns]"
      ]
     },
     "execution_count": 157,
     "metadata": {},
     "output_type": "execute_result"
    }
   ],
   "source": [
    "x_all.head()"
   ]
  },
  {
   "cell_type": "code",
   "execution_count": 158,
   "metadata": {},
   "outputs": [
    {
     "data": {
      "text/html": [
       "<div>\n",
       "<style scoped>\n",
       "    .dataframe tbody tr th:only-of-type {\n",
       "        vertical-align: middle;\n",
       "    }\n",
       "\n",
       "    .dataframe tbody tr th {\n",
       "        vertical-align: top;\n",
       "    }\n",
       "\n",
       "    .dataframe thead th {\n",
       "        text-align: right;\n",
       "    }\n",
       "</style>\n",
       "<table border=\"1\" class=\"dataframe\">\n",
       "  <thead>\n",
       "    <tr style=\"text-align: right;\">\n",
       "      <th></th>\n",
       "      <th>Address</th>\n",
       "      <th>DayOfWeek</th>\n",
       "      <th>PdDistrict</th>\n",
       "      <th>X</th>\n",
       "      <th>Y</th>\n",
       "      <th>is_train</th>\n",
       "      <th>DatesYear</th>\n",
       "      <th>DatesMonth</th>\n",
       "      <th>DatesWeek</th>\n",
       "      <th>DatesDay</th>\n",
       "      <th>...</th>\n",
       "      <th>xy_y_rotate_30</th>\n",
       "      <th>xy_y_rotate_45</th>\n",
       "      <th>xy_y_rotate_60</th>\n",
       "      <th>xy_radial_r</th>\n",
       "      <th>xy_radial_phi</th>\n",
       "      <th>add_contains_intersection</th>\n",
       "      <th>add_contains_block</th>\n",
       "      <th>add_part1</th>\n",
       "      <th>add_part2</th>\n",
       "      <th>add_part1_type</th>\n",
       "    </tr>\n",
       "  </thead>\n",
       "  <tbody>\n",
       "    <tr>\n",
       "      <th>1762306</th>\n",
       "      <td>7920</td>\n",
       "      <td>7</td>\n",
       "      <td>4</td>\n",
       "      <td>-122.408983</td>\n",
       "      <td>37.751987</td>\n",
       "      <td>0</td>\n",
       "      <td>2003</td>\n",
       "      <td>1</td>\n",
       "      <td>1</td>\n",
       "      <td>1</td>\n",
       "      <td>...</td>\n",
       "      <td>-0.258273</td>\n",
       "      <td>-0.344039</td>\n",
       "      <td>-0.406447</td>\n",
       "      <td>0.447603</td>\n",
       "      <td>-0.091471</td>\n",
       "      <td>False</td>\n",
       "      <td>True</td>\n",
       "      <td>6909</td>\n",
       "      <td>0</td>\n",
       "      <td>21</td>\n",
       "    </tr>\n",
       "    <tr>\n",
       "      <th>1762307</th>\n",
       "      <td>5597</td>\n",
       "      <td>7</td>\n",
       "      <td>5</td>\n",
       "      <td>-122.425342</td>\n",
       "      <td>37.792681</td>\n",
       "      <td>0</td>\n",
       "      <td>2003</td>\n",
       "      <td>1</td>\n",
       "      <td>1</td>\n",
       "      <td>1</td>\n",
       "      <td>...</td>\n",
       "      <td>0.083205</td>\n",
       "      <td>0.094108</td>\n",
       "      <td>0.098622</td>\n",
       "      <td>0.098723</td>\n",
       "      <td>2.662674</td>\n",
       "      <td>False</td>\n",
       "      <td>True</td>\n",
       "      <td>5154</td>\n",
       "      <td>0</td>\n",
       "      <td>21</td>\n",
       "    </tr>\n",
       "    <tr>\n",
       "      <th>1762308</th>\n",
       "      <td>11613</td>\n",
       "      <td>7</td>\n",
       "      <td>3</td>\n",
       "      <td>-122.445418</td>\n",
       "      <td>37.712075</td>\n",
       "      <td>0</td>\n",
       "      <td>2003</td>\n",
       "      <td>1</td>\n",
       "      <td>1</td>\n",
       "      <td>1</td>\n",
       "      <td>...</td>\n",
       "      <td>0.262302</td>\n",
       "      <td>0.435898</td>\n",
       "      <td>0.579900</td>\n",
       "      <td>0.752704</td>\n",
       "      <td>-2.973937</td>\n",
       "      <td>False</td>\n",
       "      <td>True</td>\n",
       "      <td>9826</td>\n",
       "      <td>0</td>\n",
       "      <td>21</td>\n",
       "    </tr>\n",
       "    <tr>\n",
       "      <th>1762309</th>\n",
       "      <td>4394</td>\n",
       "      <td>7</td>\n",
       "      <td>1</td>\n",
       "      <td>-122.387394</td>\n",
       "      <td>37.739479</td>\n",
       "      <td>0</td>\n",
       "      <td>2003</td>\n",
       "      <td>1</td>\n",
       "      <td>1</td>\n",
       "      <td>1</td>\n",
       "      <td>...</td>\n",
       "      <td>-0.633203</td>\n",
       "      <td>-0.860450</td>\n",
       "      <td>-1.029278</td>\n",
       "      <td>1.151584</td>\n",
       "      <td>-0.058592</td>\n",
       "      <td>False</td>\n",
       "      <td>True</td>\n",
       "      <td>4248</td>\n",
       "      <td>0</td>\n",
       "      <td>4</td>\n",
       "    </tr>\n",
       "    <tr>\n",
       "      <th>1762310</th>\n",
       "      <td>4477</td>\n",
       "      <td>7</td>\n",
       "      <td>9</td>\n",
       "      <td>-122.489714</td>\n",
       "      <td>37.733950</td>\n",
       "      <td>0</td>\n",
       "      <td>2003</td>\n",
       "      <td>1</td>\n",
       "      <td>1</td>\n",
       "      <td>1</td>\n",
       "      <td>...</td>\n",
       "      <td>1.024599</td>\n",
       "      <td>1.489756</td>\n",
       "      <td>1.853770</td>\n",
       "      <td>2.187757</td>\n",
       "      <td>-3.105396</td>\n",
       "      <td>False</td>\n",
       "      <td>True</td>\n",
       "      <td>4331</td>\n",
       "      <td>0</td>\n",
       "      <td>6</td>\n",
       "    </tr>\n",
       "  </tbody>\n",
       "</table>\n",
       "<p>5 rows × 39 columns</p>\n",
       "</div>"
      ],
      "text/plain": [
       "         Address  DayOfWeek  PdDistrict           X          Y  is_train  \\\n",
       "1762306     7920          7           4 -122.408983  37.751987         0   \n",
       "1762307     5597          7           5 -122.425342  37.792681         0   \n",
       "1762308    11613          7           3 -122.445418  37.712075         0   \n",
       "1762309     4394          7           1 -122.387394  37.739479         0   \n",
       "1762310     4477          7           9 -122.489714  37.733950         0   \n",
       "\n",
       "         DatesYear  DatesMonth  DatesWeek  DatesDay       ...        \\\n",
       "1762306       2003           1          1         1       ...         \n",
       "1762307       2003           1          1         1       ...         \n",
       "1762308       2003           1          1         1       ...         \n",
       "1762309       2003           1          1         1       ...         \n",
       "1762310       2003           1          1         1       ...         \n",
       "\n",
       "         xy_y_rotate_30  xy_y_rotate_45  xy_y_rotate_60  xy_radial_r  \\\n",
       "1762306       -0.258273       -0.344039       -0.406447     0.447603   \n",
       "1762307        0.083205        0.094108        0.098622     0.098723   \n",
       "1762308        0.262302        0.435898        0.579900     0.752704   \n",
       "1762309       -0.633203       -0.860450       -1.029278     1.151584   \n",
       "1762310        1.024599        1.489756        1.853770     2.187757   \n",
       "\n",
       "         xy_radial_phi  add_contains_intersection  add_contains_block  \\\n",
       "1762306      -0.091471                      False                True   \n",
       "1762307       2.662674                      False                True   \n",
       "1762308      -2.973937                      False                True   \n",
       "1762309      -0.058592                      False                True   \n",
       "1762310      -3.105396                      False                True   \n",
       "\n",
       "         add_part1  add_part2  add_part1_type  \n",
       "1762306       6909          0              21  \n",
       "1762307       5154          0              21  \n",
       "1762308       9826          0              21  \n",
       "1762309       4248          0               4  \n",
       "1762310       4331          0               6  \n",
       "\n",
       "[5 rows x 39 columns]"
      ]
     },
     "execution_count": 158,
     "metadata": {},
     "output_type": "execute_result"
    }
   ],
   "source": [
    "x_all.tail()"
   ]
  },
  {
   "cell_type": "code",
   "execution_count": 159,
   "metadata": {},
   "outputs": [
    {
     "data": {
      "text/plain": [
       "((878049, 39), 878049)"
      ]
     },
     "execution_count": 159,
     "metadata": {},
     "output_type": "execute_result"
    }
   ],
   "source": [
    "train_x = pd.DataFrame(x_all[x_all['is_train']==1])\n",
    "train_y = y_all[x_all['is_train']==1]\n",
    "train_x.shape, len(train_y)"
   ]
  },
  {
   "cell_type": "code",
   "execution_count": 160,
   "metadata": {},
   "outputs": [
    {
     "data": {
      "text/html": [
       "<div>\n",
       "<style scoped>\n",
       "    .dataframe tbody tr th:only-of-type {\n",
       "        vertical-align: middle;\n",
       "    }\n",
       "\n",
       "    .dataframe tbody tr th {\n",
       "        vertical-align: top;\n",
       "    }\n",
       "\n",
       "    .dataframe thead th {\n",
       "        text-align: right;\n",
       "    }\n",
       "</style>\n",
       "<table border=\"1\" class=\"dataframe\">\n",
       "  <thead>\n",
       "    <tr style=\"text-align: right;\">\n",
       "      <th></th>\n",
       "      <th>Address</th>\n",
       "      <th>DayOfWeek</th>\n",
       "      <th>PdDistrict</th>\n",
       "      <th>X</th>\n",
       "      <th>Y</th>\n",
       "      <th>is_train</th>\n",
       "      <th>DatesYear</th>\n",
       "      <th>DatesMonth</th>\n",
       "      <th>DatesWeek</th>\n",
       "      <th>DatesDay</th>\n",
       "      <th>...</th>\n",
       "      <th>xy_y_rotate_30</th>\n",
       "      <th>xy_y_rotate_45</th>\n",
       "      <th>xy_y_rotate_60</th>\n",
       "      <th>xy_radial_r</th>\n",
       "      <th>xy_radial_phi</th>\n",
       "      <th>add_contains_intersection</th>\n",
       "      <th>add_contains_block</th>\n",
       "      <th>add_part1</th>\n",
       "      <th>add_part2</th>\n",
       "      <th>add_part1_type</th>\n",
       "    </tr>\n",
       "  </thead>\n",
       "  <tbody>\n",
       "    <tr>\n",
       "      <th>878044</th>\n",
       "      <td>16537</td>\n",
       "      <td>2</td>\n",
       "      <td>9</td>\n",
       "      <td>-122.459033</td>\n",
       "      <td>37.714056</td>\n",
       "      <td>1</td>\n",
       "      <td>2003</td>\n",
       "      <td>1</td>\n",
       "      <td>2</td>\n",
       "      <td>6</td>\n",
       "      <td>...</td>\n",
       "      <td>0.487887</td>\n",
       "      <td>0.752699</td>\n",
       "      <td>0.966408</td>\n",
       "      <td>1.192232</td>\n",
       "      <td>-3.039591</td>\n",
       "      <td>True</td>\n",
       "      <td>False</td>\n",
       "      <td>11863</td>\n",
       "      <td>315</td>\n",
       "      <td>21</td>\n",
       "    </tr>\n",
       "    <tr>\n",
       "      <th>878045</th>\n",
       "      <td>11841</td>\n",
       "      <td>2</td>\n",
       "      <td>3</td>\n",
       "      <td>-122.447364</td>\n",
       "      <td>37.731948</td>\n",
       "      <td>1</td>\n",
       "      <td>2003</td>\n",
       "      <td>1</td>\n",
       "      <td>2</td>\n",
       "      <td>6</td>\n",
       "      <td>...</td>\n",
       "      <td>0.330543</td>\n",
       "      <td>0.510560</td>\n",
       "      <td>0.655915</td>\n",
       "      <td>0.809880</td>\n",
       "      <td>-3.038404</td>\n",
       "      <td>False</td>\n",
       "      <td>True</td>\n",
       "      <td>10017</td>\n",
       "      <td>0</td>\n",
       "      <td>21</td>\n",
       "    </tr>\n",
       "    <tr>\n",
       "      <th>878046</th>\n",
       "      <td>11663</td>\n",
       "      <td>2</td>\n",
       "      <td>8</td>\n",
       "      <td>-122.403390</td>\n",
       "      <td>37.780266</td>\n",
       "      <td>1</td>\n",
       "      <td>2003</td>\n",
       "      <td>1</td>\n",
       "      <td>2</td>\n",
       "      <td>6</td>\n",
       "      <td>...</td>\n",
       "      <td>-0.297467</td>\n",
       "      <td>-0.430523</td>\n",
       "      <td>-0.534350</td>\n",
       "      <td>0.628375</td>\n",
       "      <td>0.030463</td>\n",
       "      <td>True</td>\n",
       "      <td>False</td>\n",
       "      <td>9854</td>\n",
       "      <td>657</td>\n",
       "      <td>21</td>\n",
       "    </tr>\n",
       "    <tr>\n",
       "      <th>878047</th>\n",
       "      <td>23739</td>\n",
       "      <td>2</td>\n",
       "      <td>8</td>\n",
       "      <td>-122.390531</td>\n",
       "      <td>37.780607</td>\n",
       "      <td>1</td>\n",
       "      <td>2003</td>\n",
       "      <td>1</td>\n",
       "      <td>2</td>\n",
       "      <td>6</td>\n",
       "      <td>...</td>\n",
       "      <td>-0.506459</td>\n",
       "      <td>-0.726414</td>\n",
       "      <td>-0.897050</td>\n",
       "      <td>1.047512</td>\n",
       "      <td>0.018964</td>\n",
       "      <td>True</td>\n",
       "      <td>False</td>\n",
       "      <td>12853</td>\n",
       "      <td>43</td>\n",
       "      <td>21</td>\n",
       "    </tr>\n",
       "    <tr>\n",
       "      <th>878048</th>\n",
       "      <td>5301</td>\n",
       "      <td>2</td>\n",
       "      <td>1</td>\n",
       "      <td>-122.394926</td>\n",
       "      <td>37.738212</td>\n",
       "      <td>1</td>\n",
       "      <td>2003</td>\n",
       "      <td>1</td>\n",
       "      <td>2</td>\n",
       "      <td>6</td>\n",
       "      <td>...</td>\n",
       "      <td>-0.512757</td>\n",
       "      <td>-0.688746</td>\n",
       "      <td>-0.817975</td>\n",
       "      <td>0.906771</td>\n",
       "      <td>-0.077413</td>\n",
       "      <td>False</td>\n",
       "      <td>True</td>\n",
       "      <td>4936</td>\n",
       "      <td>0</td>\n",
       "      <td>4</td>\n",
       "    </tr>\n",
       "  </tbody>\n",
       "</table>\n",
       "<p>5 rows × 39 columns</p>\n",
       "</div>"
      ],
      "text/plain": [
       "        Address  DayOfWeek  PdDistrict           X          Y  is_train  \\\n",
       "878044    16537          2           9 -122.459033  37.714056         1   \n",
       "878045    11841          2           3 -122.447364  37.731948         1   \n",
       "878046    11663          2           8 -122.403390  37.780266         1   \n",
       "878047    23739          2           8 -122.390531  37.780607         1   \n",
       "878048     5301          2           1 -122.394926  37.738212         1   \n",
       "\n",
       "        DatesYear  DatesMonth  DatesWeek  DatesDay       ...        \\\n",
       "878044       2003           1          2         6       ...         \n",
       "878045       2003           1          2         6       ...         \n",
       "878046       2003           1          2         6       ...         \n",
       "878047       2003           1          2         6       ...         \n",
       "878048       2003           1          2         6       ...         \n",
       "\n",
       "        xy_y_rotate_30  xy_y_rotate_45  xy_y_rotate_60  xy_radial_r  \\\n",
       "878044        0.487887        0.752699        0.966408     1.192232   \n",
       "878045        0.330543        0.510560        0.655915     0.809880   \n",
       "878046       -0.297467       -0.430523       -0.534350     0.628375   \n",
       "878047       -0.506459       -0.726414       -0.897050     1.047512   \n",
       "878048       -0.512757       -0.688746       -0.817975     0.906771   \n",
       "\n",
       "        xy_radial_phi  add_contains_intersection  add_contains_block  \\\n",
       "878044      -3.039591                       True               False   \n",
       "878045      -3.038404                      False                True   \n",
       "878046       0.030463                       True               False   \n",
       "878047       0.018964                       True               False   \n",
       "878048      -0.077413                      False                True   \n",
       "\n",
       "        add_part1  add_part2  add_part1_type  \n",
       "878044      11863        315              21  \n",
       "878045      10017          0              21  \n",
       "878046       9854        657              21  \n",
       "878047      12853         43              21  \n",
       "878048       4936          0               4  \n",
       "\n",
       "[5 rows x 39 columns]"
      ]
     },
     "execution_count": 160,
     "metadata": {},
     "output_type": "execute_result"
    }
   ],
   "source": [
    "train_x.tail()"
   ]
  },
  {
   "cell_type": "code",
   "execution_count": 161,
   "metadata": {},
   "outputs": [
    {
     "data": {
      "text/plain": [
       "(array([21, 21, 16, 16, 16, 36, 36, 16, 16, 16, 21, 35, 16, 20, 20, 25,  1, 21, 20, 16, 25, 37, 20, 16, 20,\n",
       "        16, 16, 16, 21, 16, 20, 35, 16, 35, 16, 16, 16, 38, 35, 20, 16, 16, 21, 21, 21, 36, 16, 20,  4],\n",
       "       dtype=int8),\n",
       " array([ 0,  1,  2,  3,  4,  5,  6,  7,  8,  9, 10, 11, 12, 13, 14, 15, 16, 17, 18, 19, 20, 21, 22, 23, 24,\n",
       "        25, 26, 27, 28, 29, 30, 31, 32, 33, 34, 35, 36, 37, 38], dtype=int8))"
      ]
     },
     "execution_count": 161,
     "metadata": {},
     "output_type": "execute_result"
    }
   ],
   "source": [
    "train_y[1:50], np.unique(train_y)"
   ]
  },
  {
   "cell_type": "code",
   "execution_count": 162,
   "metadata": {},
   "outputs": [
    {
     "data": {
      "text/plain": [
       "(884262, 39)"
      ]
     },
     "execution_count": 162,
     "metadata": {},
     "output_type": "execute_result"
    }
   ],
   "source": [
    "test_x = pd.DataFrame(x_all[x_all['is_train']==0])\n",
    "test_x.shape"
   ]
  },
  {
   "cell_type": "code",
   "execution_count": 163,
   "metadata": {},
   "outputs": [
    {
     "data": {
      "text/html": [
       "<div>\n",
       "<style scoped>\n",
       "    .dataframe tbody tr th:only-of-type {\n",
       "        vertical-align: middle;\n",
       "    }\n",
       "\n",
       "    .dataframe tbody tr th {\n",
       "        vertical-align: top;\n",
       "    }\n",
       "\n",
       "    .dataframe thead th {\n",
       "        text-align: right;\n",
       "    }\n",
       "</style>\n",
       "<table border=\"1\" class=\"dataframe\">\n",
       "  <thead>\n",
       "    <tr style=\"text-align: right;\">\n",
       "      <th></th>\n",
       "      <th>Address</th>\n",
       "      <th>DayOfWeek</th>\n",
       "      <th>PdDistrict</th>\n",
       "      <th>X</th>\n",
       "      <th>Y</th>\n",
       "      <th>is_train</th>\n",
       "      <th>DatesYear</th>\n",
       "      <th>DatesMonth</th>\n",
       "      <th>DatesWeek</th>\n",
       "      <th>DatesDay</th>\n",
       "      <th>...</th>\n",
       "      <th>xy_y_rotate_30</th>\n",
       "      <th>xy_y_rotate_45</th>\n",
       "      <th>xy_y_rotate_60</th>\n",
       "      <th>xy_radial_r</th>\n",
       "      <th>xy_radial_phi</th>\n",
       "      <th>add_contains_intersection</th>\n",
       "      <th>add_contains_block</th>\n",
       "      <th>add_part1</th>\n",
       "      <th>add_part2</th>\n",
       "      <th>add_part1_type</th>\n",
       "    </tr>\n",
       "  </thead>\n",
       "  <tbody>\n",
       "    <tr>\n",
       "      <th>1762306</th>\n",
       "      <td>7920</td>\n",
       "      <td>7</td>\n",
       "      <td>4</td>\n",
       "      <td>-122.408983</td>\n",
       "      <td>37.751987</td>\n",
       "      <td>0</td>\n",
       "      <td>2003</td>\n",
       "      <td>1</td>\n",
       "      <td>1</td>\n",
       "      <td>1</td>\n",
       "      <td>...</td>\n",
       "      <td>-0.258273</td>\n",
       "      <td>-0.344039</td>\n",
       "      <td>-0.406447</td>\n",
       "      <td>0.447603</td>\n",
       "      <td>-0.091471</td>\n",
       "      <td>False</td>\n",
       "      <td>True</td>\n",
       "      <td>6909</td>\n",
       "      <td>0</td>\n",
       "      <td>21</td>\n",
       "    </tr>\n",
       "    <tr>\n",
       "      <th>1762307</th>\n",
       "      <td>5597</td>\n",
       "      <td>7</td>\n",
       "      <td>5</td>\n",
       "      <td>-122.425342</td>\n",
       "      <td>37.792681</td>\n",
       "      <td>0</td>\n",
       "      <td>2003</td>\n",
       "      <td>1</td>\n",
       "      <td>1</td>\n",
       "      <td>1</td>\n",
       "      <td>...</td>\n",
       "      <td>0.083205</td>\n",
       "      <td>0.094108</td>\n",
       "      <td>0.098622</td>\n",
       "      <td>0.098723</td>\n",
       "      <td>2.662674</td>\n",
       "      <td>False</td>\n",
       "      <td>True</td>\n",
       "      <td>5154</td>\n",
       "      <td>0</td>\n",
       "      <td>21</td>\n",
       "    </tr>\n",
       "    <tr>\n",
       "      <th>1762308</th>\n",
       "      <td>11613</td>\n",
       "      <td>7</td>\n",
       "      <td>3</td>\n",
       "      <td>-122.445418</td>\n",
       "      <td>37.712075</td>\n",
       "      <td>0</td>\n",
       "      <td>2003</td>\n",
       "      <td>1</td>\n",
       "      <td>1</td>\n",
       "      <td>1</td>\n",
       "      <td>...</td>\n",
       "      <td>0.262302</td>\n",
       "      <td>0.435898</td>\n",
       "      <td>0.579900</td>\n",
       "      <td>0.752704</td>\n",
       "      <td>-2.973937</td>\n",
       "      <td>False</td>\n",
       "      <td>True</td>\n",
       "      <td>9826</td>\n",
       "      <td>0</td>\n",
       "      <td>21</td>\n",
       "    </tr>\n",
       "    <tr>\n",
       "      <th>1762309</th>\n",
       "      <td>4394</td>\n",
       "      <td>7</td>\n",
       "      <td>1</td>\n",
       "      <td>-122.387394</td>\n",
       "      <td>37.739479</td>\n",
       "      <td>0</td>\n",
       "      <td>2003</td>\n",
       "      <td>1</td>\n",
       "      <td>1</td>\n",
       "      <td>1</td>\n",
       "      <td>...</td>\n",
       "      <td>-0.633203</td>\n",
       "      <td>-0.860450</td>\n",
       "      <td>-1.029278</td>\n",
       "      <td>1.151584</td>\n",
       "      <td>-0.058592</td>\n",
       "      <td>False</td>\n",
       "      <td>True</td>\n",
       "      <td>4248</td>\n",
       "      <td>0</td>\n",
       "      <td>4</td>\n",
       "    </tr>\n",
       "    <tr>\n",
       "      <th>1762310</th>\n",
       "      <td>4477</td>\n",
       "      <td>7</td>\n",
       "      <td>9</td>\n",
       "      <td>-122.489714</td>\n",
       "      <td>37.733950</td>\n",
       "      <td>0</td>\n",
       "      <td>2003</td>\n",
       "      <td>1</td>\n",
       "      <td>1</td>\n",
       "      <td>1</td>\n",
       "      <td>...</td>\n",
       "      <td>1.024599</td>\n",
       "      <td>1.489756</td>\n",
       "      <td>1.853770</td>\n",
       "      <td>2.187757</td>\n",
       "      <td>-3.105396</td>\n",
       "      <td>False</td>\n",
       "      <td>True</td>\n",
       "      <td>4331</td>\n",
       "      <td>0</td>\n",
       "      <td>6</td>\n",
       "    </tr>\n",
       "  </tbody>\n",
       "</table>\n",
       "<p>5 rows × 39 columns</p>\n",
       "</div>"
      ],
      "text/plain": [
       "         Address  DayOfWeek  PdDistrict           X          Y  is_train  \\\n",
       "1762306     7920          7           4 -122.408983  37.751987         0   \n",
       "1762307     5597          7           5 -122.425342  37.792681         0   \n",
       "1762308    11613          7           3 -122.445418  37.712075         0   \n",
       "1762309     4394          7           1 -122.387394  37.739479         0   \n",
       "1762310     4477          7           9 -122.489714  37.733950         0   \n",
       "\n",
       "         DatesYear  DatesMonth  DatesWeek  DatesDay       ...        \\\n",
       "1762306       2003           1          1         1       ...         \n",
       "1762307       2003           1          1         1       ...         \n",
       "1762308       2003           1          1         1       ...         \n",
       "1762309       2003           1          1         1       ...         \n",
       "1762310       2003           1          1         1       ...         \n",
       "\n",
       "         xy_y_rotate_30  xy_y_rotate_45  xy_y_rotate_60  xy_radial_r  \\\n",
       "1762306       -0.258273       -0.344039       -0.406447     0.447603   \n",
       "1762307        0.083205        0.094108        0.098622     0.098723   \n",
       "1762308        0.262302        0.435898        0.579900     0.752704   \n",
       "1762309       -0.633203       -0.860450       -1.029278     1.151584   \n",
       "1762310        1.024599        1.489756        1.853770     2.187757   \n",
       "\n",
       "         xy_radial_phi  add_contains_intersection  add_contains_block  \\\n",
       "1762306      -0.091471                      False                True   \n",
       "1762307       2.662674                      False                True   \n",
       "1762308      -2.973937                      False                True   \n",
       "1762309      -0.058592                      False                True   \n",
       "1762310      -3.105396                      False                True   \n",
       "\n",
       "         add_part1  add_part2  add_part1_type  \n",
       "1762306       6909          0              21  \n",
       "1762307       5154          0              21  \n",
       "1762308       9826          0              21  \n",
       "1762309       4248          0               4  \n",
       "1762310       4331          0               6  \n",
       "\n",
       "[5 rows x 39 columns]"
      ]
     },
     "execution_count": 163,
     "metadata": {},
     "output_type": "execute_result"
    }
   ],
   "source": [
    "test_x.tail()"
   ]
  },
  {
   "cell_type": "markdown",
   "metadata": {},
   "source": [
    "################################ New Development ################################"
   ]
  },
  {
   "cell_type": "code",
   "execution_count": 200,
   "metadata": {},
   "outputs": [
    {
     "data": {
      "text/plain": [
       "Index(['Address', 'DayOfWeek', 'PdDistrict', 'X', 'Y', 'is_train', 'DatesYear',\n",
       "       'DatesMonth', 'DatesWeek', 'DatesDay', 'DatesDayofweek',\n",
       "       'DatesDayofyear', 'DatesIs_month_end', 'DatesIs_month_start',\n",
       "       'DatesIs_quarter_end', 'DatesIs_quarter_start', 'DatesIs_year_end',\n",
       "       'DatesIs_year_start', 'DatesHour', 'DatesMinute', 'DatesSecond',\n",
       "       'DatesElapsed', 'xy_scaled_1', 'xy_scaled_2', 'xy_pca_1', 'xy_pca_2',\n",
       "       'xy_x_rotate_30', 'xy_x_rotate_45', 'xy_x_rotate_60', 'xy_y_rotate_30',\n",
       "       'xy_y_rotate_45', 'xy_y_rotate_60', 'xy_radial_r', 'xy_radial_phi',\n",
       "       'add_contains_intersection', 'add_contains_block', 'add_part1',\n",
       "       'add_part2', 'add_part1_type'],\n",
       "      dtype='object')"
      ]
     },
     "execution_count": 200,
     "metadata": {},
     "output_type": "execute_result"
    }
   ],
   "source": [
    "train_x.columns"
   ]
  },
  {
   "cell_type": "code",
   "execution_count": 201,
   "metadata": {},
   "outputs": [
    {
     "ename": "ValueError",
     "evalue": "bad input shape (878049, 2)",
     "output_type": "error",
     "traceback": [
      "\u001b[0;31m---------------------------------------------------------------------------\u001b[0m",
      "\u001b[0;31mValueError\u001b[0m                                Traceback (most recent call last)",
      "\u001b[0;32m<ipython-input-201-47abc50eb4cc>\u001b[0m in \u001b[0;36m<module>\u001b[0;34m()\u001b[0m\n\u001b[1;32m      1\u001b[0m \u001b[0mtrain_ordinal\u001b[0m \u001b[0;34m=\u001b[0m \u001b[0mtrain_x\u001b[0m\u001b[0;34m[\u001b[0m\u001b[0;34m[\u001b[0m\u001b[0;34m'PdDistrict'\u001b[0m\u001b[0;34m,\u001b[0m\u001b[0;34m'DatesDayofweek'\u001b[0m\u001b[0;34m]\u001b[0m\u001b[0;34m]\u001b[0m\u001b[0;34m\u001b[0m\u001b[0m\n\u001b[1;32m      2\u001b[0m \u001b[0menc\u001b[0m \u001b[0;34m=\u001b[0m \u001b[0mpreprocessing\u001b[0m\u001b[0;34m.\u001b[0m\u001b[0mLabelEncoder\u001b[0m\u001b[0;34m(\u001b[0m\u001b[0;34m)\u001b[0m\u001b[0;34m\u001b[0m\u001b[0m\n\u001b[0;32m----> 3\u001b[0;31m \u001b[0menc\u001b[0m\u001b[0;34m.\u001b[0m\u001b[0mfit\u001b[0m\u001b[0;34m(\u001b[0m\u001b[0mtrain_ordinal\u001b[0m\u001b[0;34m)\u001b[0m\u001b[0;34m\u001b[0m\u001b[0m\n\u001b[0m\u001b[1;32m      4\u001b[0m \u001b[0mnew_cat_features\u001b[0m \u001b[0;34m=\u001b[0m \u001b[0menc\u001b[0m\u001b[0;34m.\u001b[0m\u001b[0mtransform\u001b[0m\u001b[0;34m(\u001b[0m\u001b[0mtrain_ordinal\u001b[0m\u001b[0;34m)\u001b[0m\u001b[0;34m\u001b[0m\u001b[0m\n\u001b[1;32m      5\u001b[0m \u001b[0mnew_cat_features\u001b[0m\u001b[0;34m\u001b[0m\u001b[0m\n",
      "\u001b[0;32m~/anaconda2/envs/ds-book/lib/python3.6/site-packages/sklearn/preprocessing/label.py\u001b[0m in \u001b[0;36mfit\u001b[0;34m(self, y)\u001b[0m\n\u001b[1;32m     93\u001b[0m         \u001b[0mself\u001b[0m \u001b[0;34m:\u001b[0m \u001b[0mreturns\u001b[0m \u001b[0man\u001b[0m \u001b[0minstance\u001b[0m \u001b[0mof\u001b[0m \u001b[0mself\u001b[0m\u001b[0;34m.\u001b[0m\u001b[0;34m\u001b[0m\u001b[0m\n\u001b[1;32m     94\u001b[0m         \"\"\"\n\u001b[0;32m---> 95\u001b[0;31m         \u001b[0my\u001b[0m \u001b[0;34m=\u001b[0m \u001b[0mcolumn_or_1d\u001b[0m\u001b[0;34m(\u001b[0m\u001b[0my\u001b[0m\u001b[0;34m,\u001b[0m \u001b[0mwarn\u001b[0m\u001b[0;34m=\u001b[0m\u001b[0;32mTrue\u001b[0m\u001b[0;34m)\u001b[0m\u001b[0;34m\u001b[0m\u001b[0m\n\u001b[0m\u001b[1;32m     96\u001b[0m         \u001b[0mself\u001b[0m\u001b[0;34m.\u001b[0m\u001b[0mclasses_\u001b[0m \u001b[0;34m=\u001b[0m \u001b[0mnp\u001b[0m\u001b[0;34m.\u001b[0m\u001b[0munique\u001b[0m\u001b[0;34m(\u001b[0m\u001b[0my\u001b[0m\u001b[0;34m)\u001b[0m\u001b[0;34m\u001b[0m\u001b[0m\n\u001b[1;32m     97\u001b[0m         \u001b[0;32mreturn\u001b[0m \u001b[0mself\u001b[0m\u001b[0;34m\u001b[0m\u001b[0m\n",
      "\u001b[0;32m~/anaconda2/envs/ds-book/lib/python3.6/site-packages/sklearn/utils/validation.py\u001b[0m in \u001b[0;36mcolumn_or_1d\u001b[0;34m(y, warn)\u001b[0m\n\u001b[1;32m    612\u001b[0m         \u001b[0;32mreturn\u001b[0m \u001b[0mnp\u001b[0m\u001b[0;34m.\u001b[0m\u001b[0mravel\u001b[0m\u001b[0;34m(\u001b[0m\u001b[0my\u001b[0m\u001b[0;34m)\u001b[0m\u001b[0;34m\u001b[0m\u001b[0m\n\u001b[1;32m    613\u001b[0m \u001b[0;34m\u001b[0m\u001b[0m\n\u001b[0;32m--> 614\u001b[0;31m     \u001b[0;32mraise\u001b[0m \u001b[0mValueError\u001b[0m\u001b[0;34m(\u001b[0m\u001b[0;34m\"bad input shape {0}\"\u001b[0m\u001b[0;34m.\u001b[0m\u001b[0mformat\u001b[0m\u001b[0;34m(\u001b[0m\u001b[0mshape\u001b[0m\u001b[0;34m)\u001b[0m\u001b[0;34m)\u001b[0m\u001b[0;34m\u001b[0m\u001b[0m\n\u001b[0m\u001b[1;32m    615\u001b[0m \u001b[0;34m\u001b[0m\u001b[0m\n\u001b[1;32m    616\u001b[0m \u001b[0;34m\u001b[0m\u001b[0m\n",
      "\u001b[0;31mValueError\u001b[0m: bad input shape (878049, 2)"
     ]
    }
   ],
   "source": [
    "train_ordinal = train_x[['PdDistrict','DatesDayofweek']]\n",
    "enc = preprocessing.LabelEncoder()\n",
    "enc.fit(train_ordinal)\n",
    "new_cat_features = enc.transform(train_ordinal)\n",
    "new_cat_features"
   ]
  },
  {
   "cell_type": "code",
   "execution_count": 203,
   "metadata": {},
   "outputs": [
    {
     "name": "stdout",
     "output_type": "stream",
     "text": [
      "[1 0]\n"
     ]
    }
   ],
   "source": [
    "cat_features = ['PdDistrict','DatesDayofweek']\n",
    "enc = preprocessing.LabelEncoder()\n",
    "enc.fit(cat_features)\n",
    "new_cat_features = enc.transform(cat_features)\n",
    "print(new_cat_features) # [1 2 0]"
   ]
  },
  {
   "cell_type": "code",
   "execution_count": 205,
   "metadata": {},
   "outputs": [
    {
     "data": {
      "text/plain": [
       "array([[0., 1.],\n",
       "       [1., 0.]])"
      ]
     },
     "execution_count": 205,
     "metadata": {},
     "output_type": "execute_result"
    }
   ],
   "source": [
    "new_cat_features = new_cat_features.reshape(-1, 1) # Needs to be the correct shape\n",
    "ohe = preprocessing.OneHotEncoder(sparse=False) #Easier to read\n",
    "tt=ohe.fit_transform(new_cat_features)\n",
    "tt"
   ]
  },
  {
   "cell_type": "code",
   "execution_count": 206,
   "metadata": {},
   "outputs": [
    {
     "data": {
      "text/plain": [
       "(2, array([[1],\n",
       "        [0]]))"
      ]
     },
     "execution_count": 206,
     "metadata": {},
     "output_type": "execute_result"
    }
   ],
   "source": [
    "len(tt), new_cat_features"
   ]
  },
  {
   "cell_type": "code",
   "execution_count": 196,
   "metadata": {},
   "outputs": [
    {
     "ename": "ValueError",
     "evalue": "Expected 2D array, got 1D array instead:\narray=[4. 4. 4. ... 7. 7. 0.].\nReshape your data either using array.reshape(-1, 1) if your data has a single feature or array.reshape(1, -1) if it contains a single sample.",
     "output_type": "error",
     "traceback": [
      "\u001b[0;31m---------------------------------------------------------------------------\u001b[0m",
      "\u001b[0;31mValueError\u001b[0m                                Traceback (most recent call last)",
      "\u001b[0;32m<ipython-input-196-9bb84fe509b6>\u001b[0m in \u001b[0;36m<module>\u001b[0;34m()\u001b[0m\n\u001b[1;32m      1\u001b[0m \u001b[0mohe\u001b[0m \u001b[0;34m=\u001b[0m \u001b[0mpreprocessing\u001b[0m\u001b[0;34m.\u001b[0m\u001b[0mOneHotEncoder\u001b[0m\u001b[0;34m(\u001b[0m\u001b[0msparse\u001b[0m\u001b[0;34m=\u001b[0m\u001b[0;32mFalse\u001b[0m\u001b[0;34m)\u001b[0m \u001b[0;31m#Easier to read\u001b[0m\u001b[0;34m\u001b[0m\u001b[0m\n\u001b[0;32m----> 2\u001b[0;31m \u001b[0mprint\u001b[0m\u001b[0;34m(\u001b[0m\u001b[0mohe\u001b[0m\u001b[0;34m.\u001b[0m\u001b[0mfit_transform\u001b[0m\u001b[0;34m(\u001b[0m\u001b[0mnew_cat_features\u001b[0m\u001b[0;34m)\u001b[0m\u001b[0;34m)\u001b[0m\u001b[0;34m\u001b[0m\u001b[0m\n\u001b[0m",
      "\u001b[0;32m~/anaconda2/envs/ds-book/lib/python3.6/site-packages/sklearn/preprocessing/data.py\u001b[0m in \u001b[0;36mfit_transform\u001b[0;34m(self, X, y)\u001b[0m\n\u001b[1;32m   2017\u001b[0m         \"\"\"\n\u001b[1;32m   2018\u001b[0m         return _transform_selected(X, self._fit_transform,\n\u001b[0;32m-> 2019\u001b[0;31m                                    self.categorical_features, copy=True)\n\u001b[0m\u001b[1;32m   2020\u001b[0m \u001b[0;34m\u001b[0m\u001b[0m\n\u001b[1;32m   2021\u001b[0m     \u001b[0;32mdef\u001b[0m \u001b[0m_transform\u001b[0m\u001b[0;34m(\u001b[0m\u001b[0mself\u001b[0m\u001b[0;34m,\u001b[0m \u001b[0mX\u001b[0m\u001b[0;34m)\u001b[0m\u001b[0;34m:\u001b[0m\u001b[0;34m\u001b[0m\u001b[0m\n",
      "\u001b[0;32m~/anaconda2/envs/ds-book/lib/python3.6/site-packages/sklearn/preprocessing/data.py\u001b[0m in \u001b[0;36m_transform_selected\u001b[0;34m(X, transform, selected, copy)\u001b[0m\n\u001b[1;32m   1807\u001b[0m     \u001b[0mX\u001b[0m \u001b[0;34m:\u001b[0m \u001b[0marray\u001b[0m \u001b[0;32mor\u001b[0m \u001b[0msparse\u001b[0m \u001b[0mmatrix\u001b[0m\u001b[0;34m,\u001b[0m \u001b[0mshape\u001b[0m\u001b[0;34m=\u001b[0m\u001b[0;34m(\u001b[0m\u001b[0mn_samples\u001b[0m\u001b[0;34m,\u001b[0m \u001b[0mn_features_new\u001b[0m\u001b[0;34m)\u001b[0m\u001b[0;34m\u001b[0m\u001b[0m\n\u001b[1;32m   1808\u001b[0m     \"\"\"\n\u001b[0;32m-> 1809\u001b[0;31m     \u001b[0mX\u001b[0m \u001b[0;34m=\u001b[0m \u001b[0mcheck_array\u001b[0m\u001b[0;34m(\u001b[0m\u001b[0mX\u001b[0m\u001b[0;34m,\u001b[0m \u001b[0maccept_sparse\u001b[0m\u001b[0;34m=\u001b[0m\u001b[0;34m'csc'\u001b[0m\u001b[0;34m,\u001b[0m \u001b[0mcopy\u001b[0m\u001b[0;34m=\u001b[0m\u001b[0mcopy\u001b[0m\u001b[0;34m,\u001b[0m \u001b[0mdtype\u001b[0m\u001b[0;34m=\u001b[0m\u001b[0mFLOAT_DTYPES\u001b[0m\u001b[0;34m)\u001b[0m\u001b[0;34m\u001b[0m\u001b[0m\n\u001b[0m\u001b[1;32m   1810\u001b[0m \u001b[0;34m\u001b[0m\u001b[0m\n\u001b[1;32m   1811\u001b[0m     \u001b[0;32mif\u001b[0m \u001b[0misinstance\u001b[0m\u001b[0;34m(\u001b[0m\u001b[0mselected\u001b[0m\u001b[0;34m,\u001b[0m \u001b[0msix\u001b[0m\u001b[0;34m.\u001b[0m\u001b[0mstring_types\u001b[0m\u001b[0;34m)\u001b[0m \u001b[0;32mand\u001b[0m \u001b[0mselected\u001b[0m \u001b[0;34m==\u001b[0m \u001b[0;34m\"all\"\u001b[0m\u001b[0;34m:\u001b[0m\u001b[0;34m\u001b[0m\u001b[0m\n",
      "\u001b[0;32m~/anaconda2/envs/ds-book/lib/python3.6/site-packages/sklearn/utils/validation.py\u001b[0m in \u001b[0;36mcheck_array\u001b[0;34m(array, accept_sparse, dtype, order, copy, force_all_finite, ensure_2d, allow_nd, ensure_min_samples, ensure_min_features, warn_on_dtype, estimator)\u001b[0m\n\u001b[1;32m    439\u001b[0m                     \u001b[0;34m\"Reshape your data either using array.reshape(-1, 1) if \"\u001b[0m\u001b[0;34m\u001b[0m\u001b[0m\n\u001b[1;32m    440\u001b[0m                     \u001b[0;34m\"your data has a single feature or array.reshape(1, -1) \"\u001b[0m\u001b[0;34m\u001b[0m\u001b[0m\n\u001b[0;32m--> 441\u001b[0;31m                     \"if it contains a single sample.\".format(array))\n\u001b[0m\u001b[1;32m    442\u001b[0m             \u001b[0marray\u001b[0m \u001b[0;34m=\u001b[0m \u001b[0mnp\u001b[0m\u001b[0;34m.\u001b[0m\u001b[0matleast_2d\u001b[0m\u001b[0;34m(\u001b[0m\u001b[0marray\u001b[0m\u001b[0;34m)\u001b[0m\u001b[0;34m\u001b[0m\u001b[0m\n\u001b[1;32m    443\u001b[0m             \u001b[0;31m# To ensure that array flags are maintained\u001b[0m\u001b[0;34m\u001b[0m\u001b[0;34m\u001b[0m\u001b[0m\n",
      "\u001b[0;31mValueError\u001b[0m: Expected 2D array, got 1D array instead:\narray=[4. 4. 4. ... 7. 7. 0.].\nReshape your data either using array.reshape(-1, 1) if your data has a single feature or array.reshape(1, -1) if it contains a single sample."
     ]
    }
   ],
   "source": [
    "ohe = preprocessing.OneHotEncoder(sparse=False) #Easier to read\n",
    "print(ohe.fit_transform(new_cat_features))"
   ]
  },
  {
   "cell_type": "markdown",
   "metadata": {},
   "source": [
    "### 6. Building the models"
   ]
  },
  {
   "cell_type": "code",
   "execution_count": 164,
   "metadata": {},
   "outputs": [
    {
     "data": {
      "text/plain": [
       "0.8574373411962203"
      ]
     },
     "execution_count": 164,
     "metadata": {},
     "output_type": "execute_result"
    }
   ],
   "source": [
    "# Base model of 30 trees\n",
    "m = RandomForestClassifier(n_jobs=-1,n_estimators=30)\n",
    "m.fit(train_x, train_y)\n",
    "m.score(train_x, train_y)"
   ]
  },
  {
   "cell_type": "code",
   "execution_count": 165,
   "metadata": {},
   "outputs": [
    {
     "data": {
      "text/plain": [
       "0.8574441745278453"
      ]
     },
     "execution_count": 165,
     "metadata": {},
     "output_type": "execute_result"
    }
   ],
   "source": [
    "# Adding max_features (columns)\n",
    "m2 = RandomForestClassifier(n_jobs=-1,n_estimators=30,max_features=0.6)\n",
    "m2.fit(train_x, train_y)\n",
    "m2.score(train_x, train_y)"
   ]
  },
  {
   "cell_type": "code",
   "execution_count": 166,
   "metadata": {},
   "outputs": [
    {
     "data": {
      "text/plain": [
       "(875777, 875777)"
      ]
     },
     "execution_count": 166,
     "metadata": {},
     "output_type": "execute_result"
    }
   ],
   "source": [
    "rare_cats = set(['SUICIDE','FAMILY OFFENSES', 'BAD CHECKS', 'BRIBERY', 'EXTORTION',\n",
    "       'SEX OFFENSES NON FORCIBLE', 'GAMBLING', 'PORNOGRAPHY/OBSCENE MAT',\n",
    "       'TREA'])\n",
    "all_cats = set(train['Category'].unique())\n",
    "common_cats = all_cats-rare_cats\n",
    "# Create index of common Categories\n",
    "common_cat_idx = train['Category'].isin(common_cats)\n",
    "# subset train data\n",
    "train_x_common_cats = train_x[common_cat_idx]\n",
    "train_y_common_cats = train_y[common_cat_idx]\n",
    "len(train_x_common_cats), len(train_y_common_cats)"
   ]
  },
  {
   "cell_type": "code",
   "execution_count": 167,
   "metadata": {},
   "outputs": [
    {
     "data": {
      "text/plain": [
       "0.8583520690769454"
      ]
     },
     "execution_count": 167,
     "metadata": {},
     "output_type": "execute_result"
    }
   ],
   "source": [
    "# Using common features only\n",
    "m3 = RandomForestClassifier(n_jobs=-1,n_estimators=30)\n",
    "m3.fit(train_x_common_cats, train_y_common_cats)\n",
    "m3.score(train_x_common_cats, train_y_common_cats)"
   ]
  },
  {
   "cell_type": "code",
   "execution_count": 168,
   "metadata": {},
   "outputs": [
    {
     "data": {
      "text/plain": [
       "0.7442762255688378"
      ]
     },
     "execution_count": 168,
     "metadata": {},
     "output_type": "execute_result"
    }
   ],
   "source": [
    "# Using common features only and min_samples (tree stops when # examples equals to)\n",
    "m4 = RandomForestClassifier(n_jobs=-1,n_estimators=30, min_samples_leaf=3)\n",
    "m4.fit(train_x_common_cats, train_y_common_cats)\n",
    "m4.score(train_x_common_cats, train_y_common_cats)"
   ]
  },
  {
   "cell_type": "code",
   "execution_count": 169,
   "metadata": {},
   "outputs": [
    {
     "data": {
      "text/plain": [
       "0.8583178137813622"
      ]
     },
     "execution_count": 169,
     "metadata": {},
     "output_type": "execute_result"
    }
   ],
   "source": [
    "# Using common features only and max_feature (max percent of columns in any given tree)\n",
    "m5 = RandomForestClassifier(n_jobs=-1,n_estimators=30, max_features=0.5)\n",
    "m5.fit(train_x_common_cats, train_y_common_cats)\n",
    "m5.score(train_x_common_cats, train_y_common_cats)"
   ]
  },
  {
   "cell_type": "code",
   "execution_count": 170,
   "metadata": {},
   "outputs": [
    {
     "data": {
      "text/plain": [
       "0.7947445525516199"
      ]
     },
     "execution_count": 170,
     "metadata": {},
     "output_type": "execute_result"
    }
   ],
   "source": [
    "# Using common features only and max_feature (max percent of columns in any given tree)\n",
    "m6 = RandomForestClassifier(n_jobs=-1,n_estimators=40, max_features=0.5, min_samples_leaf=3)\n",
    "m6.fit(train_x_common_cats, train_y_common_cats)\n",
    "m6.score(train_x_common_cats, train_y_common_cats)"
   ]
  },
  {
   "cell_type": "markdown",
   "metadata": {},
   "source": [
    "### 7. Testing the models"
   ]
  },
  {
   "cell_type": "code",
   "execution_count": 171,
   "metadata": {},
   "outputs": [],
   "source": [
    "results_m1 = m.predict(test_x)"
   ]
  },
  {
   "cell_type": "code",
   "execution_count": 175,
   "metadata": {},
   "outputs": [],
   "source": [
    "results_m2 = m2.predict(test_x)"
   ]
  },
  {
   "cell_type": "code",
   "execution_count": 176,
   "metadata": {},
   "outputs": [],
   "source": [
    "results_m3 = m3.predict(test_x)"
   ]
  },
  {
   "cell_type": "code",
   "execution_count": 177,
   "metadata": {},
   "outputs": [],
   "source": [
    "results_m4 = m4.predict(test_x)"
   ]
  },
  {
   "cell_type": "code",
   "execution_count": 178,
   "metadata": {},
   "outputs": [],
   "source": [
    "results_m5 = m5.predict(test_x)"
   ]
  },
  {
   "cell_type": "code",
   "execution_count": 179,
   "metadata": {},
   "outputs": [],
   "source": [
    "results_m6 = m6.predict(test_x)"
   ]
  },
  {
   "cell_type": "markdown",
   "metadata": {},
   "source": [
    "### 8. Writing the Output"
   ]
  },
  {
   "cell_type": "code",
   "execution_count": 172,
   "metadata": {},
   "outputs": [],
   "source": [
    "def write_results(results,file_name):\n",
    "    \n",
    "    result_accumulator=list()\n",
    "    print(\"Step 1: one-hot-encoding...\")\n",
    "\n",
    "    for i in range(0,len(results)):\n",
    "        temp=np.zeros(39,dtype=int)\n",
    "        temp[results[i]]=1\n",
    "        line=np.insert(temp,0,i)\n",
    "        result_accumulator.append(line)\n",
    "\n",
    "    print(\"Step 2: Formatting into dataframe...\")    \n",
    "\n",
    "    out_file = pd.DataFrame(result_accumulator)\n",
    "    print(\"Dimension of the output file: \",out_file.shape)\n",
    "\n",
    "    print(\"Step 3: Writing the output file...\") \n",
    "    out_file_address = 'data/sf-crime/' + file_name + '.csv'\n",
    "    out_file.to_csv(out_file_address,index=False)"
   ]
  },
  {
   "cell_type": "code",
   "execution_count": 173,
   "metadata": {},
   "outputs": [
    {
     "name": "stdout",
     "output_type": "stream",
     "text": [
      "Step 1: one-hot-encoding...\n",
      "Step 2: Formatting into dataframe...\n",
      "Dimension of the output file:  (884262, 40)\n",
      "Step 3: Writing the output file...\n"
     ]
    }
   ],
   "source": [
    "write_results(results_m1,'results_m1')"
   ]
  },
  {
   "cell_type": "code",
   "execution_count": 180,
   "metadata": {},
   "outputs": [
    {
     "name": "stdout",
     "output_type": "stream",
     "text": [
      "Step 1: one-hot-encoding...\n",
      "Step 2: Formatting into dataframe...\n",
      "Dimension of the output file:  (884262, 40)\n",
      "Step 3: Writing the output file...\n"
     ]
    }
   ],
   "source": [
    "write_results(results_m2,'results_m2')"
   ]
  },
  {
   "cell_type": "code",
   "execution_count": 181,
   "metadata": {},
   "outputs": [
    {
     "name": "stdout",
     "output_type": "stream",
     "text": [
      "Step 1: one-hot-encoding...\n",
      "Step 2: Formatting into dataframe...\n",
      "Dimension of the output file:  (884262, 40)\n",
      "Step 3: Writing the output file...\n"
     ]
    }
   ],
   "source": [
    "write_results(results_m3,'results_m3')"
   ]
  },
  {
   "cell_type": "code",
   "execution_count": 182,
   "metadata": {},
   "outputs": [
    {
     "name": "stdout",
     "output_type": "stream",
     "text": [
      "Step 1: one-hot-encoding...\n",
      "Step 2: Formatting into dataframe...\n",
      "Dimension of the output file:  (884262, 40)\n",
      "Step 3: Writing the output file...\n"
     ]
    }
   ],
   "source": [
    "write_results(results_m4,'results_m4')"
   ]
  },
  {
   "cell_type": "code",
   "execution_count": 183,
   "metadata": {},
   "outputs": [
    {
     "name": "stdout",
     "output_type": "stream",
     "text": [
      "Step 1: one-hot-encoding...\n",
      "Step 2: Formatting into dataframe...\n",
      "Dimension of the output file:  (884262, 40)\n",
      "Step 3: Writing the output file...\n"
     ]
    }
   ],
   "source": [
    "write_results(results_m5,'results_m5')"
   ]
  },
  {
   "cell_type": "code",
   "execution_count": 184,
   "metadata": {},
   "outputs": [
    {
     "name": "stdout",
     "output_type": "stream",
     "text": [
      "Step 1: one-hot-encoding...\n",
      "Step 2: Formatting into dataframe...\n",
      "Dimension of the output file:  (884262, 40)\n",
      "Step 3: Writing the output file...\n"
     ]
    }
   ],
   "source": [
    "write_results(results_m6,'results_m6')"
   ]
  },
  {
   "cell_type": "markdown",
   "metadata": {},
   "source": [
    "### 9. Results based on kaggle evaluation script"
   ]
  },
  {
   "cell_type": "markdown",
   "metadata": {},
   "source": [
    "model - m1 ; score - 24.68536\n",
    "#model - m2 ; score - TBS\n",
    "model - m3 ; score - 24.65935\n",
    "model - m4 ; score - 24.04209\n",
    "#model - m5 ; score - TBS\n",
    "model - m6 ; score - 24.01581"
   ]
  },
  {
   "cell_type": "markdown",
   "metadata": {},
   "source": [
    "### 10. What to try next?"
   ]
  },
  {
   "cell_type": "markdown",
   "metadata": {},
   "source": [
    "#### More features:"
   ]
  },
  {
   "cell_type": "markdown",
   "metadata": {},
   "source": [
    "- Weekday vs weekend\n",
    "- Year-month combo"
   ]
  },
  {
   "cell_type": "markdown",
   "metadata": {},
   "source": [
    "#### Methodology:"
   ]
  },
  {
   "cell_type": "markdown",
   "metadata": {},
   "source": [
    "- One hot encoding for categorical variables?"
   ]
  },
  {
   "cell_type": "markdown",
   "metadata": {},
   "source": [
    "#### Other models:"
   ]
  },
  {
   "cell_type": "markdown",
   "metadata": {},
   "source": [
    "- NeuralNet\n",
    "- LightGBM\n",
    "- XGBoost"
   ]
  },
  {
   "cell_type": "code",
   "execution_count": null,
   "metadata": {},
   "outputs": [],
   "source": []
  }
 ],
 "metadata": {
  "kernelspec": {
   "display_name": "Python 3",
   "language": "python",
   "name": "python3"
  },
  "language_info": {
   "codemirror_mode": {
    "name": "ipython",
    "version": 3
   },
   "file_extension": ".py",
   "mimetype": "text/x-python",
   "name": "python",
   "nbconvert_exporter": "python",
   "pygments_lexer": "ipython3",
   "version": "3.6.5"
  }
 },
 "nbformat": 4,
 "nbformat_minor": 2
}
