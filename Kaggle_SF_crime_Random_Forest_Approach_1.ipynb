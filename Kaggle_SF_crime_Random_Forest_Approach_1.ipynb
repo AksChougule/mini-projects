{
 "cells": [
  {
   "cell_type": "markdown",
   "metadata": {},
   "source": [
    "## SF-crime Kaggle competition"
   ]
  },
  {
   "cell_type": "markdown",
   "metadata": {},
   "source": [
    "#### This is an attempt to build a standard tabular data model using Random Forest on Kaggle data"
   ]
  },
  {
   "cell_type": "code",
   "execution_count": 1,
   "metadata": {},
   "outputs": [],
   "source": [
    "# Let's start by some standard code\n",
    "%load_ext autoreload\n",
    "%autoreload 2\n",
    "%matplotlib inline"
   ]
  },
  {
   "cell_type": "code",
   "execution_count": 2,
   "metadata": {},
   "outputs": [],
   "source": [
    "from fastai.imports import *\n",
    "from fastai.structured import *\n",
    "\n",
    "from pandas_summary import DataFrameSummary\n",
    "from sklearn.ensemble import RandomForestClassifier\n",
    "from sklearn.decomposition import PCA\n",
    "from IPython.display import display\n",
    "\n",
    "from sklearn import metrics\n",
    "from graphviz import *"
   ]
  },
  {
   "cell_type": "code",
   "execution_count": 6,
   "metadata": {},
   "outputs": [],
   "source": [
    "PATH = \"data/sf-crime/\""
   ]
  },
  {
   "cell_type": "code",
   "execution_count": 7,
   "metadata": {},
   "outputs": [
    {
     "name": "stdout",
     "output_type": "stream",
     "text": [
      "result_v1.csv        result_version1.csv  sampleSubmission.csv\r\n",
      "result_v2.csv        result_version2.csv  test.csv\r\n",
      "result_v3.csv        result_version3.csv  train.csv\r\n"
     ]
    }
   ],
   "source": [
    "!ls {PATH}"
   ]
  },
  {
   "cell_type": "markdown",
   "metadata": {},
   "source": [
    "### 1. Let's load and explore the data"
   ]
  },
  {
   "cell_type": "code",
   "execution_count": 8,
   "metadata": {},
   "outputs": [],
   "source": [
    "df_raw=pd.read_csv(f'{PATH}train.csv')"
   ]
  },
  {
   "cell_type": "code",
   "execution_count": 9,
   "metadata": {},
   "outputs": [
    {
     "data": {
      "text/plain": [
       "Index(['Dates', 'Category', 'Descript', 'DayOfWeek', 'PdDistrict',\n",
       "       'Resolution', 'Address', 'X', 'Y'],\n",
       "      dtype='object')"
      ]
     },
     "execution_count": 9,
     "metadata": {},
     "output_type": "execute_result"
    }
   ],
   "source": [
    "df_raw.columns"
   ]
  },
  {
   "cell_type": "code",
   "execution_count": 48,
   "metadata": {},
   "outputs": [],
   "source": [
    "df_raw=pd.read_csv(f'{PATH}train.csv',parse_dates=['Dates'])"
   ]
  },
  {
   "cell_type": "code",
   "execution_count": 49,
   "metadata": {},
   "outputs": [
    {
     "data": {
      "text/plain": [
       "(878049, 9)"
      ]
     },
     "execution_count": 49,
     "metadata": {},
     "output_type": "execute_result"
    }
   ],
   "source": [
    "df_raw.shape"
   ]
  },
  {
   "cell_type": "code",
   "execution_count": 50,
   "metadata": {},
   "outputs": [
    {
     "data": {
      "text/html": [
       "<div>\n",
       "<style scoped>\n",
       "    .dataframe tbody tr th:only-of-type {\n",
       "        vertical-align: middle;\n",
       "    }\n",
       "\n",
       "    .dataframe tbody tr th {\n",
       "        vertical-align: top;\n",
       "    }\n",
       "\n",
       "    .dataframe thead th {\n",
       "        text-align: right;\n",
       "    }\n",
       "</style>\n",
       "<table border=\"1\" class=\"dataframe\">\n",
       "  <thead>\n",
       "    <tr style=\"text-align: right;\">\n",
       "      <th></th>\n",
       "      <th>Dates</th>\n",
       "      <th>Category</th>\n",
       "      <th>Descript</th>\n",
       "      <th>DayOfWeek</th>\n",
       "      <th>PdDistrict</th>\n",
       "      <th>Resolution</th>\n",
       "      <th>Address</th>\n",
       "      <th>X</th>\n",
       "      <th>Y</th>\n",
       "    </tr>\n",
       "  </thead>\n",
       "  <tbody>\n",
       "    <tr>\n",
       "      <th>0</th>\n",
       "      <td>2015-05-13 23:53:00</td>\n",
       "      <td>WARRANTS</td>\n",
       "      <td>WARRANT ARREST</td>\n",
       "      <td>Wednesday</td>\n",
       "      <td>NORTHERN</td>\n",
       "      <td>ARREST, BOOKED</td>\n",
       "      <td>OAK ST / LAGUNA ST</td>\n",
       "      <td>-122.425892</td>\n",
       "      <td>37.774599</td>\n",
       "    </tr>\n",
       "    <tr>\n",
       "      <th>1</th>\n",
       "      <td>2015-05-13 23:53:00</td>\n",
       "      <td>OTHER OFFENSES</td>\n",
       "      <td>TRAFFIC VIOLATION ARREST</td>\n",
       "      <td>Wednesday</td>\n",
       "      <td>NORTHERN</td>\n",
       "      <td>ARREST, BOOKED</td>\n",
       "      <td>OAK ST / LAGUNA ST</td>\n",
       "      <td>-122.425892</td>\n",
       "      <td>37.774599</td>\n",
       "    </tr>\n",
       "    <tr>\n",
       "      <th>2</th>\n",
       "      <td>2015-05-13 23:33:00</td>\n",
       "      <td>OTHER OFFENSES</td>\n",
       "      <td>TRAFFIC VIOLATION ARREST</td>\n",
       "      <td>Wednesday</td>\n",
       "      <td>NORTHERN</td>\n",
       "      <td>ARREST, BOOKED</td>\n",
       "      <td>VANNESS AV / GREENWICH ST</td>\n",
       "      <td>-122.424363</td>\n",
       "      <td>37.800414</td>\n",
       "    </tr>\n",
       "    <tr>\n",
       "      <th>3</th>\n",
       "      <td>2015-05-13 23:30:00</td>\n",
       "      <td>LARCENY/THEFT</td>\n",
       "      <td>GRAND THEFT FROM LOCKED AUTO</td>\n",
       "      <td>Wednesday</td>\n",
       "      <td>NORTHERN</td>\n",
       "      <td>NONE</td>\n",
       "      <td>1500 Block of LOMBARD ST</td>\n",
       "      <td>-122.426995</td>\n",
       "      <td>37.800873</td>\n",
       "    </tr>\n",
       "    <tr>\n",
       "      <th>4</th>\n",
       "      <td>2015-05-13 23:30:00</td>\n",
       "      <td>LARCENY/THEFT</td>\n",
       "      <td>GRAND THEFT FROM LOCKED AUTO</td>\n",
       "      <td>Wednesday</td>\n",
       "      <td>PARK</td>\n",
       "      <td>NONE</td>\n",
       "      <td>100 Block of BRODERICK ST</td>\n",
       "      <td>-122.438738</td>\n",
       "      <td>37.771541</td>\n",
       "    </tr>\n",
       "  </tbody>\n",
       "</table>\n",
       "</div>"
      ],
      "text/plain": [
       "                Dates        Category                      Descript  \\\n",
       "0 2015-05-13 23:53:00        WARRANTS                WARRANT ARREST   \n",
       "1 2015-05-13 23:53:00  OTHER OFFENSES      TRAFFIC VIOLATION ARREST   \n",
       "2 2015-05-13 23:33:00  OTHER OFFENSES      TRAFFIC VIOLATION ARREST   \n",
       "3 2015-05-13 23:30:00   LARCENY/THEFT  GRAND THEFT FROM LOCKED AUTO   \n",
       "4 2015-05-13 23:30:00   LARCENY/THEFT  GRAND THEFT FROM LOCKED AUTO   \n",
       "\n",
       "   DayOfWeek PdDistrict      Resolution                    Address  \\\n",
       "0  Wednesday   NORTHERN  ARREST, BOOKED         OAK ST / LAGUNA ST   \n",
       "1  Wednesday   NORTHERN  ARREST, BOOKED         OAK ST / LAGUNA ST   \n",
       "2  Wednesday   NORTHERN  ARREST, BOOKED  VANNESS AV / GREENWICH ST   \n",
       "3  Wednesday   NORTHERN            NONE   1500 Block of LOMBARD ST   \n",
       "4  Wednesday       PARK            NONE  100 Block of BRODERICK ST   \n",
       "\n",
       "            X          Y  \n",
       "0 -122.425892  37.774599  \n",
       "1 -122.425892  37.774599  \n",
       "2 -122.424363  37.800414  \n",
       "3 -122.426995  37.800873  \n",
       "4 -122.438738  37.771541  "
      ]
     },
     "metadata": {},
     "output_type": "display_data"
    }
   ],
   "source": [
    "display(df_raw.head())"
   ]
  },
  {
   "cell_type": "code",
   "execution_count": 51,
   "metadata": {},
   "outputs": [
    {
     "data": {
      "text/plain": [
       "Address       0.0\n",
       "Category      0.0\n",
       "Dates         0.0\n",
       "DayOfWeek     0.0\n",
       "Descript      0.0\n",
       "PdDistrict    0.0\n",
       "Resolution    0.0\n",
       "X             0.0\n",
       "Y             0.0\n",
       "dtype: float64"
      ]
     },
     "metadata": {},
     "output_type": "display_data"
    }
   ],
   "source": [
    "display(df_raw.isnull().sum().sort_index()/len(df_raw))"
   ]
  },
  {
   "cell_type": "markdown",
   "metadata": {},
   "source": [
    "### What we see in the data\n",
    "1. One date field. So the date formatting and feature extraction is required.\n",
    "2. A few categorical variables. We will have to convert these into numbers.\n",
    "3. No missing values."
   ]
  },
  {
   "cell_type": "markdown",
   "metadata": {},
   "source": [
    "### Let's explore the response variable (y)"
   ]
  },
  {
   "cell_type": "code",
   "execution_count": 52,
   "metadata": {},
   "outputs": [
    {
     "data": {
      "text/plain": [
       "array(['WARRANTS', 'OTHER OFFENSES', 'LARCENY/THEFT', 'VEHICLE THEFT', 'VANDALISM', 'NON-CRIMINAL',\n",
       "       'ROBBERY', 'ASSAULT', 'WEAPON LAWS', 'BURGLARY', 'SUSPICIOUS OCC', 'DRUNKENNESS',\n",
       "       'FORGERY/COUNTERFEITING', 'DRUG/NARCOTIC', 'STOLEN PROPERTY', 'SECONDARY CODES', 'TRESPASS',\n",
       "       'MISSING PERSON', 'FRAUD', 'KIDNAPPING', 'RUNAWAY', 'DRIVING UNDER THE INFLUENCE',\n",
       "       'SEX OFFENSES FORCIBLE', 'PROSTITUTION', 'DISORDERLY CONDUCT', 'ARSON', 'FAMILY OFFENSES',\n",
       "       'LIQUOR LAWS', 'BRIBERY', 'EMBEZZLEMENT', 'SUICIDE', 'LOITERING', 'SEX OFFENSES NON FORCIBLE',\n",
       "       'EXTORTION', 'GAMBLING', 'BAD CHECKS', 'TREA', 'RECOVERED VEHICLE', 'PORNOGRAPHY/OBSCENE MAT'],\n",
       "      dtype=object)"
      ]
     },
     "execution_count": 52,
     "metadata": {},
     "output_type": "execute_result"
    }
   ],
   "source": [
    "df_raw['Category'].unique()"
   ]
  },
  {
   "cell_type": "code",
   "execution_count": 53,
   "metadata": {},
   "outputs": [
    {
     "data": {
      "text/html": [
       "<div>\n",
       "<style scoped>\n",
       "    .dataframe tbody tr th:only-of-type {\n",
       "        vertical-align: middle;\n",
       "    }\n",
       "\n",
       "    .dataframe tbody tr th {\n",
       "        vertical-align: top;\n",
       "    }\n",
       "\n",
       "    .dataframe thead th {\n",
       "        text-align: right;\n",
       "    }\n",
       "</style>\n",
       "<table border=\"1\" class=\"dataframe\">\n",
       "  <thead>\n",
       "    <tr style=\"text-align: right;\">\n",
       "      <th></th>\n",
       "      <th>Dates</th>\n",
       "      <th>Descript</th>\n",
       "      <th>DayOfWeek</th>\n",
       "      <th>PdDistrict</th>\n",
       "      <th>Resolution</th>\n",
       "      <th>Address</th>\n",
       "      <th>X</th>\n",
       "      <th>Y</th>\n",
       "    </tr>\n",
       "    <tr>\n",
       "      <th>Category</th>\n",
       "      <th></th>\n",
       "      <th></th>\n",
       "      <th></th>\n",
       "      <th></th>\n",
       "      <th></th>\n",
       "      <th></th>\n",
       "      <th></th>\n",
       "      <th></th>\n",
       "    </tr>\n",
       "  </thead>\n",
       "  <tbody>\n",
       "    <tr>\n",
       "      <th>TREA</th>\n",
       "      <td>6</td>\n",
       "      <td>6</td>\n",
       "      <td>6</td>\n",
       "      <td>6</td>\n",
       "      <td>6</td>\n",
       "      <td>6</td>\n",
       "      <td>6</td>\n",
       "      <td>6</td>\n",
       "    </tr>\n",
       "    <tr>\n",
       "      <th>PORNOGRAPHY/OBSCENE MAT</th>\n",
       "      <td>22</td>\n",
       "      <td>22</td>\n",
       "      <td>22</td>\n",
       "      <td>22</td>\n",
       "      <td>22</td>\n",
       "      <td>22</td>\n",
       "      <td>22</td>\n",
       "      <td>22</td>\n",
       "    </tr>\n",
       "    <tr>\n",
       "      <th>GAMBLING</th>\n",
       "      <td>146</td>\n",
       "      <td>146</td>\n",
       "      <td>146</td>\n",
       "      <td>146</td>\n",
       "      <td>146</td>\n",
       "      <td>146</td>\n",
       "      <td>146</td>\n",
       "      <td>146</td>\n",
       "    </tr>\n",
       "    <tr>\n",
       "      <th>SEX OFFENSES NON FORCIBLE</th>\n",
       "      <td>148</td>\n",
       "      <td>148</td>\n",
       "      <td>148</td>\n",
       "      <td>148</td>\n",
       "      <td>148</td>\n",
       "      <td>148</td>\n",
       "      <td>148</td>\n",
       "      <td>148</td>\n",
       "    </tr>\n",
       "    <tr>\n",
       "      <th>EXTORTION</th>\n",
       "      <td>256</td>\n",
       "      <td>256</td>\n",
       "      <td>256</td>\n",
       "      <td>256</td>\n",
       "      <td>256</td>\n",
       "      <td>256</td>\n",
       "      <td>256</td>\n",
       "      <td>256</td>\n",
       "    </tr>\n",
       "    <tr>\n",
       "      <th>BRIBERY</th>\n",
       "      <td>289</td>\n",
       "      <td>289</td>\n",
       "      <td>289</td>\n",
       "      <td>289</td>\n",
       "      <td>289</td>\n",
       "      <td>289</td>\n",
       "      <td>289</td>\n",
       "      <td>289</td>\n",
       "    </tr>\n",
       "    <tr>\n",
       "      <th>BAD CHECKS</th>\n",
       "      <td>406</td>\n",
       "      <td>406</td>\n",
       "      <td>406</td>\n",
       "      <td>406</td>\n",
       "      <td>406</td>\n",
       "      <td>406</td>\n",
       "      <td>406</td>\n",
       "      <td>406</td>\n",
       "    </tr>\n",
       "    <tr>\n",
       "      <th>FAMILY OFFENSES</th>\n",
       "      <td>491</td>\n",
       "      <td>491</td>\n",
       "      <td>491</td>\n",
       "      <td>491</td>\n",
       "      <td>491</td>\n",
       "      <td>491</td>\n",
       "      <td>491</td>\n",
       "      <td>491</td>\n",
       "    </tr>\n",
       "    <tr>\n",
       "      <th>SUICIDE</th>\n",
       "      <td>508</td>\n",
       "      <td>508</td>\n",
       "      <td>508</td>\n",
       "      <td>508</td>\n",
       "      <td>508</td>\n",
       "      <td>508</td>\n",
       "      <td>508</td>\n",
       "      <td>508</td>\n",
       "    </tr>\n",
       "    <tr>\n",
       "      <th>EMBEZZLEMENT</th>\n",
       "      <td>1166</td>\n",
       "      <td>1166</td>\n",
       "      <td>1166</td>\n",
       "      <td>1166</td>\n",
       "      <td>1166</td>\n",
       "      <td>1166</td>\n",
       "      <td>1166</td>\n",
       "      <td>1166</td>\n",
       "    </tr>\n",
       "    <tr>\n",
       "      <th>LOITERING</th>\n",
       "      <td>1225</td>\n",
       "      <td>1225</td>\n",
       "      <td>1225</td>\n",
       "      <td>1225</td>\n",
       "      <td>1225</td>\n",
       "      <td>1225</td>\n",
       "      <td>1225</td>\n",
       "      <td>1225</td>\n",
       "    </tr>\n",
       "    <tr>\n",
       "      <th>ARSON</th>\n",
       "      <td>1513</td>\n",
       "      <td>1513</td>\n",
       "      <td>1513</td>\n",
       "      <td>1513</td>\n",
       "      <td>1513</td>\n",
       "      <td>1513</td>\n",
       "      <td>1513</td>\n",
       "      <td>1513</td>\n",
       "    </tr>\n",
       "    <tr>\n",
       "      <th>LIQUOR LAWS</th>\n",
       "      <td>1903</td>\n",
       "      <td>1903</td>\n",
       "      <td>1903</td>\n",
       "      <td>1903</td>\n",
       "      <td>1903</td>\n",
       "      <td>1903</td>\n",
       "      <td>1903</td>\n",
       "      <td>1903</td>\n",
       "    </tr>\n",
       "    <tr>\n",
       "      <th>RUNAWAY</th>\n",
       "      <td>1946</td>\n",
       "      <td>1946</td>\n",
       "      <td>1946</td>\n",
       "      <td>1946</td>\n",
       "      <td>1946</td>\n",
       "      <td>1946</td>\n",
       "      <td>1946</td>\n",
       "      <td>1946</td>\n",
       "    </tr>\n",
       "    <tr>\n",
       "      <th>DRIVING UNDER THE INFLUENCE</th>\n",
       "      <td>2268</td>\n",
       "      <td>2268</td>\n",
       "      <td>2268</td>\n",
       "      <td>2268</td>\n",
       "      <td>2268</td>\n",
       "      <td>2268</td>\n",
       "      <td>2268</td>\n",
       "      <td>2268</td>\n",
       "    </tr>\n",
       "    <tr>\n",
       "      <th>KIDNAPPING</th>\n",
       "      <td>2341</td>\n",
       "      <td>2341</td>\n",
       "      <td>2341</td>\n",
       "      <td>2341</td>\n",
       "      <td>2341</td>\n",
       "      <td>2341</td>\n",
       "      <td>2341</td>\n",
       "      <td>2341</td>\n",
       "    </tr>\n",
       "    <tr>\n",
       "      <th>RECOVERED VEHICLE</th>\n",
       "      <td>3138</td>\n",
       "      <td>3138</td>\n",
       "      <td>3138</td>\n",
       "      <td>3138</td>\n",
       "      <td>3138</td>\n",
       "      <td>3138</td>\n",
       "      <td>3138</td>\n",
       "      <td>3138</td>\n",
       "    </tr>\n",
       "    <tr>\n",
       "      <th>DRUNKENNESS</th>\n",
       "      <td>4280</td>\n",
       "      <td>4280</td>\n",
       "      <td>4280</td>\n",
       "      <td>4280</td>\n",
       "      <td>4280</td>\n",
       "      <td>4280</td>\n",
       "      <td>4280</td>\n",
       "      <td>4280</td>\n",
       "    </tr>\n",
       "    <tr>\n",
       "      <th>DISORDERLY CONDUCT</th>\n",
       "      <td>4320</td>\n",
       "      <td>4320</td>\n",
       "      <td>4320</td>\n",
       "      <td>4320</td>\n",
       "      <td>4320</td>\n",
       "      <td>4320</td>\n",
       "      <td>4320</td>\n",
       "      <td>4320</td>\n",
       "    </tr>\n",
       "    <tr>\n",
       "      <th>SEX OFFENSES FORCIBLE</th>\n",
       "      <td>4388</td>\n",
       "      <td>4388</td>\n",
       "      <td>4388</td>\n",
       "      <td>4388</td>\n",
       "      <td>4388</td>\n",
       "      <td>4388</td>\n",
       "      <td>4388</td>\n",
       "      <td>4388</td>\n",
       "    </tr>\n",
       "    <tr>\n",
       "      <th>STOLEN PROPERTY</th>\n",
       "      <td>4540</td>\n",
       "      <td>4540</td>\n",
       "      <td>4540</td>\n",
       "      <td>4540</td>\n",
       "      <td>4540</td>\n",
       "      <td>4540</td>\n",
       "      <td>4540</td>\n",
       "      <td>4540</td>\n",
       "    </tr>\n",
       "    <tr>\n",
       "      <th>TRESPASS</th>\n",
       "      <td>7326</td>\n",
       "      <td>7326</td>\n",
       "      <td>7326</td>\n",
       "      <td>7326</td>\n",
       "      <td>7326</td>\n",
       "      <td>7326</td>\n",
       "      <td>7326</td>\n",
       "      <td>7326</td>\n",
       "    </tr>\n",
       "    <tr>\n",
       "      <th>PROSTITUTION</th>\n",
       "      <td>7484</td>\n",
       "      <td>7484</td>\n",
       "      <td>7484</td>\n",
       "      <td>7484</td>\n",
       "      <td>7484</td>\n",
       "      <td>7484</td>\n",
       "      <td>7484</td>\n",
       "      <td>7484</td>\n",
       "    </tr>\n",
       "    <tr>\n",
       "      <th>WEAPON LAWS</th>\n",
       "      <td>8555</td>\n",
       "      <td>8555</td>\n",
       "      <td>8555</td>\n",
       "      <td>8555</td>\n",
       "      <td>8555</td>\n",
       "      <td>8555</td>\n",
       "      <td>8555</td>\n",
       "      <td>8555</td>\n",
       "    </tr>\n",
       "    <tr>\n",
       "      <th>SECONDARY CODES</th>\n",
       "      <td>9985</td>\n",
       "      <td>9985</td>\n",
       "      <td>9985</td>\n",
       "      <td>9985</td>\n",
       "      <td>9985</td>\n",
       "      <td>9985</td>\n",
       "      <td>9985</td>\n",
       "      <td>9985</td>\n",
       "    </tr>\n",
       "    <tr>\n",
       "      <th>FORGERY/COUNTERFEITING</th>\n",
       "      <td>10609</td>\n",
       "      <td>10609</td>\n",
       "      <td>10609</td>\n",
       "      <td>10609</td>\n",
       "      <td>10609</td>\n",
       "      <td>10609</td>\n",
       "      <td>10609</td>\n",
       "      <td>10609</td>\n",
       "    </tr>\n",
       "    <tr>\n",
       "      <th>FRAUD</th>\n",
       "      <td>16679</td>\n",
       "      <td>16679</td>\n",
       "      <td>16679</td>\n",
       "      <td>16679</td>\n",
       "      <td>16679</td>\n",
       "      <td>16679</td>\n",
       "      <td>16679</td>\n",
       "      <td>16679</td>\n",
       "    </tr>\n",
       "    <tr>\n",
       "      <th>ROBBERY</th>\n",
       "      <td>23000</td>\n",
       "      <td>23000</td>\n",
       "      <td>23000</td>\n",
       "      <td>23000</td>\n",
       "      <td>23000</td>\n",
       "      <td>23000</td>\n",
       "      <td>23000</td>\n",
       "      <td>23000</td>\n",
       "    </tr>\n",
       "    <tr>\n",
       "      <th>MISSING PERSON</th>\n",
       "      <td>25989</td>\n",
       "      <td>25989</td>\n",
       "      <td>25989</td>\n",
       "      <td>25989</td>\n",
       "      <td>25989</td>\n",
       "      <td>25989</td>\n",
       "      <td>25989</td>\n",
       "      <td>25989</td>\n",
       "    </tr>\n",
       "    <tr>\n",
       "      <th>SUSPICIOUS OCC</th>\n",
       "      <td>31414</td>\n",
       "      <td>31414</td>\n",
       "      <td>31414</td>\n",
       "      <td>31414</td>\n",
       "      <td>31414</td>\n",
       "      <td>31414</td>\n",
       "      <td>31414</td>\n",
       "      <td>31414</td>\n",
       "    </tr>\n",
       "    <tr>\n",
       "      <th>BURGLARY</th>\n",
       "      <td>36755</td>\n",
       "      <td>36755</td>\n",
       "      <td>36755</td>\n",
       "      <td>36755</td>\n",
       "      <td>36755</td>\n",
       "      <td>36755</td>\n",
       "      <td>36755</td>\n",
       "      <td>36755</td>\n",
       "    </tr>\n",
       "    <tr>\n",
       "      <th>WARRANTS</th>\n",
       "      <td>42214</td>\n",
       "      <td>42214</td>\n",
       "      <td>42214</td>\n",
       "      <td>42214</td>\n",
       "      <td>42214</td>\n",
       "      <td>42214</td>\n",
       "      <td>42214</td>\n",
       "      <td>42214</td>\n",
       "    </tr>\n",
       "    <tr>\n",
       "      <th>VANDALISM</th>\n",
       "      <td>44725</td>\n",
       "      <td>44725</td>\n",
       "      <td>44725</td>\n",
       "      <td>44725</td>\n",
       "      <td>44725</td>\n",
       "      <td>44725</td>\n",
       "      <td>44725</td>\n",
       "      <td>44725</td>\n",
       "    </tr>\n",
       "    <tr>\n",
       "      <th>VEHICLE THEFT</th>\n",
       "      <td>53781</td>\n",
       "      <td>53781</td>\n",
       "      <td>53781</td>\n",
       "      <td>53781</td>\n",
       "      <td>53781</td>\n",
       "      <td>53781</td>\n",
       "      <td>53781</td>\n",
       "      <td>53781</td>\n",
       "    </tr>\n",
       "    <tr>\n",
       "      <th>DRUG/NARCOTIC</th>\n",
       "      <td>53971</td>\n",
       "      <td>53971</td>\n",
       "      <td>53971</td>\n",
       "      <td>53971</td>\n",
       "      <td>53971</td>\n",
       "      <td>53971</td>\n",
       "      <td>53971</td>\n",
       "      <td>53971</td>\n",
       "    </tr>\n",
       "    <tr>\n",
       "      <th>ASSAULT</th>\n",
       "      <td>76876</td>\n",
       "      <td>76876</td>\n",
       "      <td>76876</td>\n",
       "      <td>76876</td>\n",
       "      <td>76876</td>\n",
       "      <td>76876</td>\n",
       "      <td>76876</td>\n",
       "      <td>76876</td>\n",
       "    </tr>\n",
       "    <tr>\n",
       "      <th>NON-CRIMINAL</th>\n",
       "      <td>92304</td>\n",
       "      <td>92304</td>\n",
       "      <td>92304</td>\n",
       "      <td>92304</td>\n",
       "      <td>92304</td>\n",
       "      <td>92304</td>\n",
       "      <td>92304</td>\n",
       "      <td>92304</td>\n",
       "    </tr>\n",
       "    <tr>\n",
       "      <th>OTHER OFFENSES</th>\n",
       "      <td>126182</td>\n",
       "      <td>126182</td>\n",
       "      <td>126182</td>\n",
       "      <td>126182</td>\n",
       "      <td>126182</td>\n",
       "      <td>126182</td>\n",
       "      <td>126182</td>\n",
       "      <td>126182</td>\n",
       "    </tr>\n",
       "    <tr>\n",
       "      <th>LARCENY/THEFT</th>\n",
       "      <td>174900</td>\n",
       "      <td>174900</td>\n",
       "      <td>174900</td>\n",
       "      <td>174900</td>\n",
       "      <td>174900</td>\n",
       "      <td>174900</td>\n",
       "      <td>174900</td>\n",
       "      <td>174900</td>\n",
       "    </tr>\n",
       "  </tbody>\n",
       "</table>\n",
       "</div>"
      ],
      "text/plain": [
       "                              Dates  Descript  DayOfWeek  PdDistrict  \\\n",
       "Category                                                               \n",
       "TREA                              6         6          6           6   \n",
       "PORNOGRAPHY/OBSCENE MAT          22        22         22          22   \n",
       "GAMBLING                        146       146        146         146   \n",
       "SEX OFFENSES NON FORCIBLE       148       148        148         148   \n",
       "EXTORTION                       256       256        256         256   \n",
       "BRIBERY                         289       289        289         289   \n",
       "BAD CHECKS                      406       406        406         406   \n",
       "FAMILY OFFENSES                 491       491        491         491   \n",
       "SUICIDE                         508       508        508         508   \n",
       "EMBEZZLEMENT                   1166      1166       1166        1166   \n",
       "LOITERING                      1225      1225       1225        1225   \n",
       "ARSON                          1513      1513       1513        1513   \n",
       "LIQUOR LAWS                    1903      1903       1903        1903   \n",
       "RUNAWAY                        1946      1946       1946        1946   \n",
       "DRIVING UNDER THE INFLUENCE    2268      2268       2268        2268   \n",
       "KIDNAPPING                     2341      2341       2341        2341   \n",
       "RECOVERED VEHICLE              3138      3138       3138        3138   \n",
       "DRUNKENNESS                    4280      4280       4280        4280   \n",
       "DISORDERLY CONDUCT             4320      4320       4320        4320   \n",
       "SEX OFFENSES FORCIBLE          4388      4388       4388        4388   \n",
       "STOLEN PROPERTY                4540      4540       4540        4540   \n",
       "TRESPASS                       7326      7326       7326        7326   \n",
       "PROSTITUTION                   7484      7484       7484        7484   \n",
       "WEAPON LAWS                    8555      8555       8555        8555   \n",
       "SECONDARY CODES                9985      9985       9985        9985   \n",
       "FORGERY/COUNTERFEITING        10609     10609      10609       10609   \n",
       "FRAUD                         16679     16679      16679       16679   \n",
       "ROBBERY                       23000     23000      23000       23000   \n",
       "MISSING PERSON                25989     25989      25989       25989   \n",
       "SUSPICIOUS OCC                31414     31414      31414       31414   \n",
       "BURGLARY                      36755     36755      36755       36755   \n",
       "WARRANTS                      42214     42214      42214       42214   \n",
       "VANDALISM                     44725     44725      44725       44725   \n",
       "VEHICLE THEFT                 53781     53781      53781       53781   \n",
       "DRUG/NARCOTIC                 53971     53971      53971       53971   \n",
       "ASSAULT                       76876     76876      76876       76876   \n",
       "NON-CRIMINAL                  92304     92304      92304       92304   \n",
       "OTHER OFFENSES               126182    126182     126182      126182   \n",
       "LARCENY/THEFT                174900    174900     174900      174900   \n",
       "\n",
       "                             Resolution  Address       X       Y  \n",
       "Category                                                          \n",
       "TREA                                  6        6       6       6  \n",
       "PORNOGRAPHY/OBSCENE MAT              22       22      22      22  \n",
       "GAMBLING                            146      146     146     146  \n",
       "SEX OFFENSES NON FORCIBLE           148      148     148     148  \n",
       "EXTORTION                           256      256     256     256  \n",
       "BRIBERY                             289      289     289     289  \n",
       "BAD CHECKS                          406      406     406     406  \n",
       "FAMILY OFFENSES                     491      491     491     491  \n",
       "SUICIDE                             508      508     508     508  \n",
       "EMBEZZLEMENT                       1166     1166    1166    1166  \n",
       "LOITERING                          1225     1225    1225    1225  \n",
       "ARSON                              1513     1513    1513    1513  \n",
       "LIQUOR LAWS                        1903     1903    1903    1903  \n",
       "RUNAWAY                            1946     1946    1946    1946  \n",
       "DRIVING UNDER THE INFLUENCE        2268     2268    2268    2268  \n",
       "KIDNAPPING                         2341     2341    2341    2341  \n",
       "RECOVERED VEHICLE                  3138     3138    3138    3138  \n",
       "DRUNKENNESS                        4280     4280    4280    4280  \n",
       "DISORDERLY CONDUCT                 4320     4320    4320    4320  \n",
       "SEX OFFENSES FORCIBLE              4388     4388    4388    4388  \n",
       "STOLEN PROPERTY                    4540     4540    4540    4540  \n",
       "TRESPASS                           7326     7326    7326    7326  \n",
       "PROSTITUTION                       7484     7484    7484    7484  \n",
       "WEAPON LAWS                        8555     8555    8555    8555  \n",
       "SECONDARY CODES                    9985     9985    9985    9985  \n",
       "FORGERY/COUNTERFEITING            10609    10609   10609   10609  \n",
       "FRAUD                             16679    16679   16679   16679  \n",
       "ROBBERY                           23000    23000   23000   23000  \n",
       "MISSING PERSON                    25989    25989   25989   25989  \n",
       "SUSPICIOUS OCC                    31414    31414   31414   31414  \n",
       "BURGLARY                          36755    36755   36755   36755  \n",
       "WARRANTS                          42214    42214   42214   42214  \n",
       "VANDALISM                         44725    44725   44725   44725  \n",
       "VEHICLE THEFT                     53781    53781   53781   53781  \n",
       "DRUG/NARCOTIC                     53971    53971   53971   53971  \n",
       "ASSAULT                           76876    76876   76876   76876  \n",
       "NON-CRIMINAL                      92304    92304   92304   92304  \n",
       "OTHER OFFENSES                   126182   126182  126182  126182  \n",
       "LARCENY/THEFT                    174900   174900  174900  174900  "
      ]
     },
     "execution_count": 53,
     "metadata": {},
     "output_type": "execute_result"
    }
   ],
   "source": [
    "df_raw.groupby('Category').count().sort_values('Dates')"
   ]
  },
  {
   "cell_type": "markdown",
   "metadata": {},
   "source": [
    "Some categories seem very rare to occur. "
   ]
  },
  {
   "cell_type": "code",
   "execution_count": 54,
   "metadata": {},
   "outputs": [
    {
     "data": {
      "text/plain": [
       "878.049"
      ]
     },
     "execution_count": 54,
     "metadata": {},
     "output_type": "execute_result"
    }
   ],
   "source": [
    "# The 0.1% of the data would be:\n",
    "len(df_raw)*0.001"
   ]
  },
  {
   "cell_type": "markdown",
   "metadata": {},
   "source": [
    "We could try to build the model by eliminating category count less than 878 for now. Later we can revisit these."
   ]
  },
  {
   "cell_type": "code",
   "execution_count": 55,
   "metadata": {},
   "outputs": [
    {
     "data": {
      "text/html": [
       "<div>\n",
       "<style scoped>\n",
       "    .dataframe tbody tr th:only-of-type {\n",
       "        vertical-align: middle;\n",
       "    }\n",
       "\n",
       "    .dataframe tbody tr th {\n",
       "        vertical-align: top;\n",
       "    }\n",
       "\n",
       "    .dataframe thead th {\n",
       "        text-align: right;\n",
       "    }\n",
       "</style>\n",
       "<table border=\"1\" class=\"dataframe\">\n",
       "  <thead>\n",
       "    <tr style=\"text-align: right;\">\n",
       "      <th></th>\n",
       "      <th>Dates</th>\n",
       "      <th>Descript</th>\n",
       "      <th>DayOfWeek</th>\n",
       "      <th>PdDistrict</th>\n",
       "      <th>Resolution</th>\n",
       "      <th>Address</th>\n",
       "      <th>X</th>\n",
       "      <th>Y</th>\n",
       "    </tr>\n",
       "    <tr>\n",
       "      <th>Category</th>\n",
       "      <th></th>\n",
       "      <th></th>\n",
       "      <th></th>\n",
       "      <th></th>\n",
       "      <th></th>\n",
       "      <th></th>\n",
       "      <th></th>\n",
       "      <th></th>\n",
       "    </tr>\n",
       "  </thead>\n",
       "  <tbody>\n",
       "    <tr>\n",
       "      <th>TREA</th>\n",
       "      <td>6</td>\n",
       "      <td>6</td>\n",
       "      <td>6</td>\n",
       "      <td>6</td>\n",
       "      <td>6</td>\n",
       "      <td>6</td>\n",
       "      <td>6</td>\n",
       "      <td>6</td>\n",
       "    </tr>\n",
       "    <tr>\n",
       "      <th>PORNOGRAPHY/OBSCENE MAT</th>\n",
       "      <td>22</td>\n",
       "      <td>22</td>\n",
       "      <td>22</td>\n",
       "      <td>22</td>\n",
       "      <td>22</td>\n",
       "      <td>22</td>\n",
       "      <td>22</td>\n",
       "      <td>22</td>\n",
       "    </tr>\n",
       "    <tr>\n",
       "      <th>GAMBLING</th>\n",
       "      <td>146</td>\n",
       "      <td>146</td>\n",
       "      <td>146</td>\n",
       "      <td>146</td>\n",
       "      <td>146</td>\n",
       "      <td>146</td>\n",
       "      <td>146</td>\n",
       "      <td>146</td>\n",
       "    </tr>\n",
       "    <tr>\n",
       "      <th>SEX OFFENSES NON FORCIBLE</th>\n",
       "      <td>148</td>\n",
       "      <td>148</td>\n",
       "      <td>148</td>\n",
       "      <td>148</td>\n",
       "      <td>148</td>\n",
       "      <td>148</td>\n",
       "      <td>148</td>\n",
       "      <td>148</td>\n",
       "    </tr>\n",
       "    <tr>\n",
       "      <th>EXTORTION</th>\n",
       "      <td>256</td>\n",
       "      <td>256</td>\n",
       "      <td>256</td>\n",
       "      <td>256</td>\n",
       "      <td>256</td>\n",
       "      <td>256</td>\n",
       "      <td>256</td>\n",
       "      <td>256</td>\n",
       "    </tr>\n",
       "    <tr>\n",
       "      <th>BRIBERY</th>\n",
       "      <td>289</td>\n",
       "      <td>289</td>\n",
       "      <td>289</td>\n",
       "      <td>289</td>\n",
       "      <td>289</td>\n",
       "      <td>289</td>\n",
       "      <td>289</td>\n",
       "      <td>289</td>\n",
       "    </tr>\n",
       "    <tr>\n",
       "      <th>BAD CHECKS</th>\n",
       "      <td>406</td>\n",
       "      <td>406</td>\n",
       "      <td>406</td>\n",
       "      <td>406</td>\n",
       "      <td>406</td>\n",
       "      <td>406</td>\n",
       "      <td>406</td>\n",
       "      <td>406</td>\n",
       "    </tr>\n",
       "    <tr>\n",
       "      <th>FAMILY OFFENSES</th>\n",
       "      <td>491</td>\n",
       "      <td>491</td>\n",
       "      <td>491</td>\n",
       "      <td>491</td>\n",
       "      <td>491</td>\n",
       "      <td>491</td>\n",
       "      <td>491</td>\n",
       "      <td>491</td>\n",
       "    </tr>\n",
       "    <tr>\n",
       "      <th>SUICIDE</th>\n",
       "      <td>508</td>\n",
       "      <td>508</td>\n",
       "      <td>508</td>\n",
       "      <td>508</td>\n",
       "      <td>508</td>\n",
       "      <td>508</td>\n",
       "      <td>508</td>\n",
       "      <td>508</td>\n",
       "    </tr>\n",
       "    <tr>\n",
       "      <th>EMBEZZLEMENT</th>\n",
       "      <td>1166</td>\n",
       "      <td>1166</td>\n",
       "      <td>1166</td>\n",
       "      <td>1166</td>\n",
       "      <td>1166</td>\n",
       "      <td>1166</td>\n",
       "      <td>1166</td>\n",
       "      <td>1166</td>\n",
       "    </tr>\n",
       "  </tbody>\n",
       "</table>\n",
       "</div>"
      ],
      "text/plain": [
       "                           Dates  Descript  DayOfWeek  PdDistrict  Resolution  \\\n",
       "Category                                                                        \n",
       "TREA                           6         6          6           6           6   \n",
       "PORNOGRAPHY/OBSCENE MAT       22        22         22          22          22   \n",
       "GAMBLING                     146       146        146         146         146   \n",
       "SEX OFFENSES NON FORCIBLE    148       148        148         148         148   \n",
       "EXTORTION                    256       256        256         256         256   \n",
       "BRIBERY                      289       289        289         289         289   \n",
       "BAD CHECKS                   406       406        406         406         406   \n",
       "FAMILY OFFENSES              491       491        491         491         491   \n",
       "SUICIDE                      508       508        508         508         508   \n",
       "EMBEZZLEMENT                1166      1166       1166        1166        1166   \n",
       "\n",
       "                           Address     X     Y  \n",
       "Category                                        \n",
       "TREA                             6     6     6  \n",
       "PORNOGRAPHY/OBSCENE MAT         22    22    22  \n",
       "GAMBLING                       146   146   146  \n",
       "SEX OFFENSES NON FORCIBLE      148   148   148  \n",
       "EXTORTION                      256   256   256  \n",
       "BRIBERY                        289   289   289  \n",
       "BAD CHECKS                     406   406   406  \n",
       "FAMILY OFFENSES                491   491   491  \n",
       "SUICIDE                        508   508   508  \n",
       "EMBEZZLEMENT                  1166  1166  1166  "
      ]
     },
     "execution_count": 55,
     "metadata": {},
     "output_type": "execute_result"
    }
   ],
   "source": [
    "df_raw.groupby('Category').count().sort_values('Dates').head(10)"
   ]
  },
  {
   "cell_type": "code",
   "execution_count": 56,
   "metadata": {},
   "outputs": [],
   "source": [
    "## Skip this step\n",
    "#rare_cats = set(['SUICIDE','FAMILY OFFENSES', 'BAD CHECKS', 'BRIBERY', 'EXTORTION',\n",
    "#       'SEX OFFENSES NON FORCIBLE', 'GAMBLING', 'PORNOGRAPHY/OBSCENE MAT',\n",
    "#       'TREA'])\n",
    "#all_cats = set(df_raw['Category'].unique())\n",
    "#common_cats = all_cats-rare_cats\n",
    "#df_raw = df_raw[df_raw['Category'].isin(common_cats)]\n",
    "#train = df_raw.reset_index(drop = True)"
   ]
  },
  {
   "cell_type": "code",
   "execution_count": 57,
   "metadata": {},
   "outputs": [
    {
     "data": {
      "text/plain": [
       "878049"
      ]
     },
     "execution_count": 57,
     "metadata": {},
     "output_type": "execute_result"
    }
   ],
   "source": [
    "# Old len was 878049, let's check the new len without rare_cats\n",
    "len(df_raw)"
   ]
  },
  {
   "cell_type": "code",
   "execution_count": 58,
   "metadata": {},
   "outputs": [
    {
     "data": {
      "text/plain": [
       "array(['WARRANTS', 'OTHER OFFENSES', 'LARCENY/THEFT', 'VEHICLE THEFT', 'VANDALISM', 'NON-CRIMINAL',\n",
       "       'ROBBERY', 'ASSAULT', 'WEAPON LAWS', 'BURGLARY', 'SUSPICIOUS OCC', 'DRUNKENNESS',\n",
       "       'FORGERY/COUNTERFEITING', 'DRUG/NARCOTIC', 'STOLEN PROPERTY', 'SECONDARY CODES', 'TRESPASS',\n",
       "       'MISSING PERSON', 'FRAUD', 'KIDNAPPING', 'RUNAWAY', 'DRIVING UNDER THE INFLUENCE',\n",
       "       'SEX OFFENSES FORCIBLE', 'PROSTITUTION', 'DISORDERLY CONDUCT', 'ARSON', 'FAMILY OFFENSES',\n",
       "       'LIQUOR LAWS', 'BRIBERY', 'EMBEZZLEMENT', 'SUICIDE', 'LOITERING', 'SEX OFFENSES NON FORCIBLE',\n",
       "       'EXTORTION', 'GAMBLING', 'BAD CHECKS', 'TREA', 'RECOVERED VEHICLE', 'PORNOGRAPHY/OBSCENE MAT'],\n",
       "      dtype=object)"
      ]
     },
     "execution_count": 58,
     "metadata": {},
     "output_type": "execute_result"
    }
   ],
   "source": [
    "df_raw[\"Category\"].unique()"
   ]
  },
  {
   "cell_type": "code",
   "execution_count": 59,
   "metadata": {},
   "outputs": [
    {
     "data": {
      "text/plain": [
       "39"
      ]
     },
     "execution_count": 59,
     "metadata": {},
     "output_type": "execute_result"
    }
   ],
   "source": [
    "len(df_raw[\"Category\"].unique())"
   ]
  },
  {
   "cell_type": "markdown",
   "metadata": {},
   "source": [
    "### 2. Format the data"
   ]
  },
  {
   "cell_type": "code",
   "execution_count": 60,
   "metadata": {},
   "outputs": [
    {
     "data": {
      "text/plain": [
       "Dates         datetime64[ns]\n",
       "Category              object\n",
       "Descript              object\n",
       "DayOfWeek             object\n",
       "PdDistrict            object\n",
       "Resolution            object\n",
       "Address               object\n",
       "X                    float64\n",
       "Y                    float64\n",
       "dtype: object"
      ]
     },
     "execution_count": 60,
     "metadata": {},
     "output_type": "execute_result"
    }
   ],
   "source": [
    "df_raw.dtypes"
   ]
  },
  {
   "cell_type": "markdown",
   "metadata": {},
   "source": [
    "We would not see the codes in the actual dataframe but we can check using the following code."
   ]
  },
  {
   "cell_type": "markdown",
   "metadata": {},
   "source": [
    "## Feature Engineering"
   ]
  },
  {
   "cell_type": "markdown",
   "metadata": {},
   "source": [
    "### Feature engineering on date-time"
   ]
  },
  {
   "cell_type": "code",
   "execution_count": 61,
   "metadata": {},
   "outputs": [
    {
     "data": {
      "text/html": [
       "<div>\n",
       "<style scoped>\n",
       "    .dataframe tbody tr th:only-of-type {\n",
       "        vertical-align: middle;\n",
       "    }\n",
       "\n",
       "    .dataframe tbody tr th {\n",
       "        vertical-align: top;\n",
       "    }\n",
       "\n",
       "    .dataframe thead th {\n",
       "        text-align: right;\n",
       "    }\n",
       "</style>\n",
       "<table border=\"1\" class=\"dataframe\">\n",
       "  <thead>\n",
       "    <tr style=\"text-align: right;\">\n",
       "      <th></th>\n",
       "      <th>Category</th>\n",
       "      <th>Descript</th>\n",
       "      <th>DayOfWeek</th>\n",
       "      <th>PdDistrict</th>\n",
       "      <th>Resolution</th>\n",
       "      <th>Address</th>\n",
       "      <th>X</th>\n",
       "      <th>Y</th>\n",
       "      <th>DatesYear</th>\n",
       "      <th>DatesMonth</th>\n",
       "      <th>...</th>\n",
       "      <th>DatesIs_month_end</th>\n",
       "      <th>DatesIs_month_start</th>\n",
       "      <th>DatesIs_quarter_end</th>\n",
       "      <th>DatesIs_quarter_start</th>\n",
       "      <th>DatesIs_year_end</th>\n",
       "      <th>DatesIs_year_start</th>\n",
       "      <th>DatesHour</th>\n",
       "      <th>DatesMinute</th>\n",
       "      <th>DatesSecond</th>\n",
       "      <th>DatesElapsed</th>\n",
       "    </tr>\n",
       "  </thead>\n",
       "  <tbody>\n",
       "    <tr>\n",
       "      <th>0</th>\n",
       "      <td>WARRANTS</td>\n",
       "      <td>WARRANT ARREST</td>\n",
       "      <td>Wednesday</td>\n",
       "      <td>NORTHERN</td>\n",
       "      <td>ARREST, BOOKED</td>\n",
       "      <td>OAK ST / LAGUNA ST</td>\n",
       "      <td>-122.425892</td>\n",
       "      <td>37.774599</td>\n",
       "      <td>2015</td>\n",
       "      <td>5</td>\n",
       "      <td>...</td>\n",
       "      <td>False</td>\n",
       "      <td>False</td>\n",
       "      <td>False</td>\n",
       "      <td>False</td>\n",
       "      <td>False</td>\n",
       "      <td>False</td>\n",
       "      <td>23</td>\n",
       "      <td>53</td>\n",
       "      <td>0</td>\n",
       "      <td>1431561180</td>\n",
       "    </tr>\n",
       "    <tr>\n",
       "      <th>1</th>\n",
       "      <td>OTHER OFFENSES</td>\n",
       "      <td>TRAFFIC VIOLATION ARREST</td>\n",
       "      <td>Wednesday</td>\n",
       "      <td>NORTHERN</td>\n",
       "      <td>ARREST, BOOKED</td>\n",
       "      <td>OAK ST / LAGUNA ST</td>\n",
       "      <td>-122.425892</td>\n",
       "      <td>37.774599</td>\n",
       "      <td>2015</td>\n",
       "      <td>5</td>\n",
       "      <td>...</td>\n",
       "      <td>False</td>\n",
       "      <td>False</td>\n",
       "      <td>False</td>\n",
       "      <td>False</td>\n",
       "      <td>False</td>\n",
       "      <td>False</td>\n",
       "      <td>23</td>\n",
       "      <td>53</td>\n",
       "      <td>0</td>\n",
       "      <td>1431561180</td>\n",
       "    </tr>\n",
       "    <tr>\n",
       "      <th>2</th>\n",
       "      <td>OTHER OFFENSES</td>\n",
       "      <td>TRAFFIC VIOLATION ARREST</td>\n",
       "      <td>Wednesday</td>\n",
       "      <td>NORTHERN</td>\n",
       "      <td>ARREST, BOOKED</td>\n",
       "      <td>VANNESS AV / GREENWICH ST</td>\n",
       "      <td>-122.424363</td>\n",
       "      <td>37.800414</td>\n",
       "      <td>2015</td>\n",
       "      <td>5</td>\n",
       "      <td>...</td>\n",
       "      <td>False</td>\n",
       "      <td>False</td>\n",
       "      <td>False</td>\n",
       "      <td>False</td>\n",
       "      <td>False</td>\n",
       "      <td>False</td>\n",
       "      <td>23</td>\n",
       "      <td>33</td>\n",
       "      <td>0</td>\n",
       "      <td>1431559980</td>\n",
       "    </tr>\n",
       "    <tr>\n",
       "      <th>3</th>\n",
       "      <td>LARCENY/THEFT</td>\n",
       "      <td>GRAND THEFT FROM LOCKED AUTO</td>\n",
       "      <td>Wednesday</td>\n",
       "      <td>NORTHERN</td>\n",
       "      <td>NONE</td>\n",
       "      <td>1500 Block of LOMBARD ST</td>\n",
       "      <td>-122.426995</td>\n",
       "      <td>37.800873</td>\n",
       "      <td>2015</td>\n",
       "      <td>5</td>\n",
       "      <td>...</td>\n",
       "      <td>False</td>\n",
       "      <td>False</td>\n",
       "      <td>False</td>\n",
       "      <td>False</td>\n",
       "      <td>False</td>\n",
       "      <td>False</td>\n",
       "      <td>23</td>\n",
       "      <td>30</td>\n",
       "      <td>0</td>\n",
       "      <td>1431559800</td>\n",
       "    </tr>\n",
       "    <tr>\n",
       "      <th>4</th>\n",
       "      <td>LARCENY/THEFT</td>\n",
       "      <td>GRAND THEFT FROM LOCKED AUTO</td>\n",
       "      <td>Wednesday</td>\n",
       "      <td>PARK</td>\n",
       "      <td>NONE</td>\n",
       "      <td>100 Block of BRODERICK ST</td>\n",
       "      <td>-122.438738</td>\n",
       "      <td>37.771541</td>\n",
       "      <td>2015</td>\n",
       "      <td>5</td>\n",
       "      <td>...</td>\n",
       "      <td>False</td>\n",
       "      <td>False</td>\n",
       "      <td>False</td>\n",
       "      <td>False</td>\n",
       "      <td>False</td>\n",
       "      <td>False</td>\n",
       "      <td>23</td>\n",
       "      <td>30</td>\n",
       "      <td>0</td>\n",
       "      <td>1431559800</td>\n",
       "    </tr>\n",
       "  </tbody>\n",
       "</table>\n",
       "<p>5 rows × 24 columns</p>\n",
       "</div>"
      ],
      "text/plain": [
       "         Category                      Descript  DayOfWeek PdDistrict  \\\n",
       "0        WARRANTS                WARRANT ARREST  Wednesday   NORTHERN   \n",
       "1  OTHER OFFENSES      TRAFFIC VIOLATION ARREST  Wednesday   NORTHERN   \n",
       "2  OTHER OFFENSES      TRAFFIC VIOLATION ARREST  Wednesday   NORTHERN   \n",
       "3   LARCENY/THEFT  GRAND THEFT FROM LOCKED AUTO  Wednesday   NORTHERN   \n",
       "4   LARCENY/THEFT  GRAND THEFT FROM LOCKED AUTO  Wednesday       PARK   \n",
       "\n",
       "       Resolution                    Address           X          Y  \\\n",
       "0  ARREST, BOOKED         OAK ST / LAGUNA ST -122.425892  37.774599   \n",
       "1  ARREST, BOOKED         OAK ST / LAGUNA ST -122.425892  37.774599   \n",
       "2  ARREST, BOOKED  VANNESS AV / GREENWICH ST -122.424363  37.800414   \n",
       "3            NONE   1500 Block of LOMBARD ST -122.426995  37.800873   \n",
       "4            NONE  100 Block of BRODERICK ST -122.438738  37.771541   \n",
       "\n",
       "   DatesYear  DatesMonth      ...       DatesIs_month_end  \\\n",
       "0       2015           5      ...                   False   \n",
       "1       2015           5      ...                   False   \n",
       "2       2015           5      ...                   False   \n",
       "3       2015           5      ...                   False   \n",
       "4       2015           5      ...                   False   \n",
       "\n",
       "   DatesIs_month_start  DatesIs_quarter_end  DatesIs_quarter_start  \\\n",
       "0                False                False                  False   \n",
       "1                False                False                  False   \n",
       "2                False                False                  False   \n",
       "3                False                False                  False   \n",
       "4                False                False                  False   \n",
       "\n",
       "   DatesIs_year_end  DatesIs_year_start  DatesHour  DatesMinute  DatesSecond  \\\n",
       "0             False               False         23           53            0   \n",
       "1             False               False         23           53            0   \n",
       "2             False               False         23           33            0   \n",
       "3             False               False         23           30            0   \n",
       "4             False               False         23           30            0   \n",
       "\n",
       "   DatesElapsed  \n",
       "0    1431561180  \n",
       "1    1431561180  \n",
       "2    1431559980  \n",
       "3    1431559800  \n",
       "4    1431559800  \n",
       "\n",
       "[5 rows x 24 columns]"
      ]
     },
     "execution_count": 61,
     "metadata": {},
     "output_type": "execute_result"
    }
   ],
   "source": [
    "# You should always consider this feature extraction step when working with date-time.\n",
    "add_datepart(df_raw,fldname='Dates',time=True)\n",
    "df_raw.head()"
   ]
  },
  {
   "cell_type": "markdown",
   "metadata": {},
   "source": [
    "### Feature Engineering on X, Y"
   ]
  },
  {
   "cell_type": "code",
   "execution_count": 62,
   "metadata": {},
   "outputs": [
    {
     "data": {
      "text/plain": [
       "(numpy.ndarray, (878049, 2), array([[-0.1079 ,  0.00783],\n",
       "        [-0.1079 ,  0.00783],\n",
       "        [-0.05754,  0.06433],\n",
       "        ...,\n",
       "        [ 0.6334 ,  0.02024],\n",
       "        [ 1.05704,  0.02098],\n",
       "        [ 0.91227, -0.07181]]))"
      ]
     },
     "execution_count": 62,
     "metadata": {},
     "output_type": "execute_result"
    }
   ],
   "source": [
    "# Lets' created scaled transform of the X and Y coordinates\n",
    "xy_scaler = StandardScaler()\n",
    "xy_scaler.fit(df_raw.loc[:,['X','Y']])\n",
    "xy_scaled = xy_scaler.transform(df_raw.loc[:,['X','Y']])\n",
    "type(xy_scaled), np.shape(xy_scaled), xy_scaled"
   ]
  },
  {
   "cell_type": "code",
   "execution_count": 63,
   "metadata": {},
   "outputs": [
    {
     "data": {
      "text/plain": [
       "(numpy.ndarray, (878049, 2), array([[-0.05667,  0.12328],\n",
       "        [-0.05667,  0.12328],\n",
       "        [ 0.00385,  0.12982],\n",
       "        ...,\n",
       "        [ 0.37013, -0.65315],\n",
       "        [ 0.61044, -1.10361],\n",
       "        [ 0.47592, -1.04824]]))"
      ]
     },
     "execution_count": 63,
     "metadata": {},
     "output_type": "execute_result"
    }
   ],
   "source": [
    "# PCA on X and Y, select top 2 components\n",
    "xy_pca = PCA(n_components=2, whiten=True).fit_transform(xy_scaled)\n",
    "type(xy_pca), np.shape(xy_pca), xy_pca"
   ]
  },
  {
   "cell_type": "code",
   "execution_count": 64,
   "metadata": {},
   "outputs": [
    {
     "data": {
      "text/plain": [
       "(878049, 878049)"
      ]
     },
     "execution_count": 64,
     "metadata": {},
     "output_type": "execute_result"
    }
   ],
   "source": [
    "# Rotation\n",
    "rot45_X = .707* xy_scaled[:,1] + .707* xy_scaled[:,0] \n",
    "rot45_Y = .707* xy_scaled[:,1] - .707* xy_scaled[:,0]\n",
    "\n",
    "rot30_X = (1.732/2)* xy_scaled[:,0] + (1./2)* xy_scaled[:,1]\n",
    "rot30_Y = (1.732/2)* xy_scaled[:,1] - (1./2)* xy_scaled[:,0]\n",
    "\n",
    "rot60_X = (1./2)* xy_scaled[:,0] + (1.732/2)* xy_scaled[:,1] \n",
    "rot60_Y = (1./2)* xy_scaled[:,1] - (1.732/2)* xy_scaled[:,0]\n",
    "\n",
    "len(rot45_X),len(rot60_Y)"
   ]
  },
  {
   "cell_type": "markdown",
   "metadata": {},
   "source": [
    "The first feature that we engineer is obtained by standardizing and pca-ing latitude and longitude"
   ]
  },
  {
   "cell_type": "code",
   "execution_count": 65,
   "metadata": {},
   "outputs": [],
   "source": [
    "# Polar coordinates\n",
    "radial_r = np.sqrt( np.power(xy_scaled[:,1],2) + np.power(xy_scaled[:,0],2) )\n",
    "radial_phi = np.arctan2(xy_scaled[:,1], xy_scaled[:,0])"
   ]
  },
  {
   "cell_type": "markdown",
   "metadata": {},
   "source": [
    "#### Let's add these to the main df"
   ]
  },
  {
   "cell_type": "code",
   "execution_count": 66,
   "metadata": {},
   "outputs": [],
   "source": [
    "df_raw_backup=df_raw\n",
    "xy_scaled_df=pd.DataFrame(xy_scaled)\n",
    "xy_pca_df=pd.DataFrame(xy_pca)"
   ]
  },
  {
   "cell_type": "code",
   "execution_count": 67,
   "metadata": {},
   "outputs": [],
   "source": [
    "df_raw['xy_scaled_1']    = xy_scaled_df[0]\n",
    "df_raw['xy_scaled_2']    = xy_scaled_df[1]\n",
    "df_raw['xy_pca_1']       = xy_pca_df[0]\n",
    "df_raw['xy_pca_2']       = xy_pca_df[1]\n",
    "df_raw['xy_x_rotate_30'] = rot30_X\n",
    "df_raw['xy_x_rotate_45'] = rot45_X\n",
    "df_raw['xy_x_rotate_60'] = rot60_X\n",
    "df_raw['xy_y_rotate_30'] = rot30_Y\n",
    "df_raw['xy_y_rotate_45'] = rot45_Y\n",
    "df_raw['xy_y_rotate_60'] = rot60_Y\n",
    "df_raw['xy_radial_r']    = radial_r\n",
    "df_raw['xy_radial_phi']  = radial_phi"
   ]
  },
  {
   "cell_type": "code",
   "execution_count": 68,
   "metadata": {},
   "outputs": [
    {
     "data": {
      "text/html": [
       "<div>\n",
       "<style scoped>\n",
       "    .dataframe tbody tr th:only-of-type {\n",
       "        vertical-align: middle;\n",
       "    }\n",
       "\n",
       "    .dataframe tbody tr th {\n",
       "        vertical-align: top;\n",
       "    }\n",
       "\n",
       "    .dataframe thead th {\n",
       "        text-align: right;\n",
       "    }\n",
       "</style>\n",
       "<table border=\"1\" class=\"dataframe\">\n",
       "  <thead>\n",
       "    <tr style=\"text-align: right;\">\n",
       "      <th></th>\n",
       "      <th>Category</th>\n",
       "      <th>Descript</th>\n",
       "      <th>DayOfWeek</th>\n",
       "      <th>PdDistrict</th>\n",
       "      <th>Resolution</th>\n",
       "      <th>Address</th>\n",
       "      <th>X</th>\n",
       "      <th>Y</th>\n",
       "      <th>DatesYear</th>\n",
       "      <th>DatesMonth</th>\n",
       "      <th>...</th>\n",
       "      <th>xy_pca_1</th>\n",
       "      <th>xy_pca_2</th>\n",
       "      <th>xy_x_rotate_30</th>\n",
       "      <th>xy_x_rotate_45</th>\n",
       "      <th>xy_x_rotate_60</th>\n",
       "      <th>xy_y_rotate_30</th>\n",
       "      <th>xy_y_rotate_45</th>\n",
       "      <th>xy_y_rotate_60</th>\n",
       "      <th>xy_radial_r</th>\n",
       "      <th>xy_radial_phi</th>\n",
       "    </tr>\n",
       "  </thead>\n",
       "  <tbody>\n",
       "    <tr>\n",
       "      <th>0</th>\n",
       "      <td>WARRANTS</td>\n",
       "      <td>WARRANT ARREST</td>\n",
       "      <td>Wednesday</td>\n",
       "      <td>NORTHERN</td>\n",
       "      <td>ARREST, BOOKED</td>\n",
       "      <td>OAK ST / LAGUNA ST</td>\n",
       "      <td>-122.425892</td>\n",
       "      <td>37.774599</td>\n",
       "      <td>2015</td>\n",
       "      <td>5</td>\n",
       "      <td>...</td>\n",
       "      <td>-0.056666</td>\n",
       "      <td>0.123280</td>\n",
       "      <td>-0.089527</td>\n",
       "      <td>-0.070750</td>\n",
       "      <td>-0.047169</td>\n",
       "      <td>0.060733</td>\n",
       "      <td>0.081824</td>\n",
       "      <td>0.097359</td>\n",
       "      <td>0.108186</td>\n",
       "      <td>3.069137</td>\n",
       "    </tr>\n",
       "    <tr>\n",
       "      <th>1</th>\n",
       "      <td>OTHER OFFENSES</td>\n",
       "      <td>TRAFFIC VIOLATION ARREST</td>\n",
       "      <td>Wednesday</td>\n",
       "      <td>NORTHERN</td>\n",
       "      <td>ARREST, BOOKED</td>\n",
       "      <td>OAK ST / LAGUNA ST</td>\n",
       "      <td>-122.425892</td>\n",
       "      <td>37.774599</td>\n",
       "      <td>2015</td>\n",
       "      <td>5</td>\n",
       "      <td>...</td>\n",
       "      <td>-0.056666</td>\n",
       "      <td>0.123280</td>\n",
       "      <td>-0.089527</td>\n",
       "      <td>-0.070750</td>\n",
       "      <td>-0.047169</td>\n",
       "      <td>0.060733</td>\n",
       "      <td>0.081824</td>\n",
       "      <td>0.097359</td>\n",
       "      <td>0.108186</td>\n",
       "      <td>3.069137</td>\n",
       "    </tr>\n",
       "    <tr>\n",
       "      <th>2</th>\n",
       "      <td>OTHER OFFENSES</td>\n",
       "      <td>TRAFFIC VIOLATION ARREST</td>\n",
       "      <td>Wednesday</td>\n",
       "      <td>NORTHERN</td>\n",
       "      <td>ARREST, BOOKED</td>\n",
       "      <td>VANNESS AV / GREENWICH ST</td>\n",
       "      <td>-122.424363</td>\n",
       "      <td>37.800414</td>\n",
       "      <td>2015</td>\n",
       "      <td>5</td>\n",
       "      <td>...</td>\n",
       "      <td>0.003847</td>\n",
       "      <td>0.129822</td>\n",
       "      <td>-0.017663</td>\n",
       "      <td>0.004803</td>\n",
       "      <td>0.026943</td>\n",
       "      <td>0.084484</td>\n",
       "      <td>0.086166</td>\n",
       "      <td>0.081998</td>\n",
       "      <td>0.086313</td>\n",
       "      <td>2.300507</td>\n",
       "    </tr>\n",
       "    <tr>\n",
       "      <th>3</th>\n",
       "      <td>LARCENY/THEFT</td>\n",
       "      <td>GRAND THEFT FROM LOCKED AUTO</td>\n",
       "      <td>Wednesday</td>\n",
       "      <td>NORTHERN</td>\n",
       "      <td>NONE</td>\n",
       "      <td>1500 Block of LOMBARD ST</td>\n",
       "      <td>-122.426995</td>\n",
       "      <td>37.800873</td>\n",
       "      <td>2015</td>\n",
       "      <td>5</td>\n",
       "      <td>...</td>\n",
       "      <td>-0.044692</td>\n",
       "      <td>0.223266</td>\n",
       "      <td>-0.092262</td>\n",
       "      <td>-0.055799</td>\n",
       "      <td>-0.015549</td>\n",
       "      <td>0.128713</td>\n",
       "      <td>0.148187</td>\n",
       "      <td>0.157600</td>\n",
       "      <td>0.158368</td>\n",
       "      <td>2.716321</td>\n",
       "    </tr>\n",
       "    <tr>\n",
       "      <th>4</th>\n",
       "      <td>LARCENY/THEFT</td>\n",
       "      <td>GRAND THEFT FROM LOCKED AUTO</td>\n",
       "      <td>Wednesday</td>\n",
       "      <td>PARK</td>\n",
       "      <td>NONE</td>\n",
       "      <td>100 Block of BRODERICK ST</td>\n",
       "      <td>-122.438738</td>\n",
       "      <td>37.771541</td>\n",
       "      <td>2015</td>\n",
       "      <td>5</td>\n",
       "      <td>...</td>\n",
       "      <td>-0.300101</td>\n",
       "      <td>0.566956</td>\n",
       "      <td>-0.459373</td>\n",
       "      <td>-0.374690</td>\n",
       "      <td>-0.264569</td>\n",
       "      <td>0.266543</td>\n",
       "      <td>0.376302</td>\n",
       "      <td>0.460513</td>\n",
       "      <td>0.531113</td>\n",
       "      <td>3.139446</td>\n",
       "    </tr>\n",
       "  </tbody>\n",
       "</table>\n",
       "<p>5 rows × 36 columns</p>\n",
       "</div>"
      ],
      "text/plain": [
       "         Category                      Descript  DayOfWeek PdDistrict  \\\n",
       "0        WARRANTS                WARRANT ARREST  Wednesday   NORTHERN   \n",
       "1  OTHER OFFENSES      TRAFFIC VIOLATION ARREST  Wednesday   NORTHERN   \n",
       "2  OTHER OFFENSES      TRAFFIC VIOLATION ARREST  Wednesday   NORTHERN   \n",
       "3   LARCENY/THEFT  GRAND THEFT FROM LOCKED AUTO  Wednesday   NORTHERN   \n",
       "4   LARCENY/THEFT  GRAND THEFT FROM LOCKED AUTO  Wednesday       PARK   \n",
       "\n",
       "       Resolution                    Address           X          Y  \\\n",
       "0  ARREST, BOOKED         OAK ST / LAGUNA ST -122.425892  37.774599   \n",
       "1  ARREST, BOOKED         OAK ST / LAGUNA ST -122.425892  37.774599   \n",
       "2  ARREST, BOOKED  VANNESS AV / GREENWICH ST -122.424363  37.800414   \n",
       "3            NONE   1500 Block of LOMBARD ST -122.426995  37.800873   \n",
       "4            NONE  100 Block of BRODERICK ST -122.438738  37.771541   \n",
       "\n",
       "   DatesYear  DatesMonth      ...        xy_pca_1  xy_pca_2  xy_x_rotate_30  \\\n",
       "0       2015           5      ...       -0.056666  0.123280       -0.089527   \n",
       "1       2015           5      ...       -0.056666  0.123280       -0.089527   \n",
       "2       2015           5      ...        0.003847  0.129822       -0.017663   \n",
       "3       2015           5      ...       -0.044692  0.223266       -0.092262   \n",
       "4       2015           5      ...       -0.300101  0.566956       -0.459373   \n",
       "\n",
       "   xy_x_rotate_45  xy_x_rotate_60  xy_y_rotate_30  xy_y_rotate_45  \\\n",
       "0       -0.070750       -0.047169        0.060733        0.081824   \n",
       "1       -0.070750       -0.047169        0.060733        0.081824   \n",
       "2        0.004803        0.026943        0.084484        0.086166   \n",
       "3       -0.055799       -0.015549        0.128713        0.148187   \n",
       "4       -0.374690       -0.264569        0.266543        0.376302   \n",
       "\n",
       "   xy_y_rotate_60  xy_radial_r  xy_radial_phi  \n",
       "0        0.097359     0.108186       3.069137  \n",
       "1        0.097359     0.108186       3.069137  \n",
       "2        0.081998     0.086313       2.300507  \n",
       "3        0.157600     0.158368       2.716321  \n",
       "4        0.460513     0.531113       3.139446  \n",
       "\n",
       "[5 rows x 36 columns]"
      ]
     },
     "execution_count": 68,
     "metadata": {},
     "output_type": "execute_result"
    }
   ],
   "source": [
    "df_raw.head()"
   ]
  },
  {
   "cell_type": "markdown",
   "metadata": {},
   "source": [
    "### Feature Engineering on address"
   ]
  },
  {
   "cell_type": "code",
   "execution_count": 69,
   "metadata": {},
   "outputs": [
    {
     "data": {
      "text/plain": [
       "0                OAK ST / LAGUNA ST\n",
       "1                OAK ST / LAGUNA ST\n",
       "2         VANNESS AV / GREENWICH ST\n",
       "3          1500 Block of LOMBARD ST\n",
       "4         100 Block of BRODERICK ST\n",
       "5               0 Block of TEDDY AV\n",
       "6               AVALON AV / PERU AV\n",
       "7          KIRKWOOD AV / DONAHUE ST\n",
       "8              600 Block of 47TH AV\n",
       "9     JEFFERSON ST / LEAVENWORTH ST\n",
       "10    JEFFERSON ST / LEAVENWORTH ST\n",
       "11            0 Block of ESCOLTA WY\n",
       "12               TURK ST / JONES ST\n",
       "13           FILLMORE ST / GEARY BL\n",
       "14         200 Block of WILLIAMS AV\n",
       "15            0 Block of MENDELL ST\n",
       "16               EDDY ST / JONES ST\n",
       "17           GODEUS ST / MISSION ST\n",
       "18           MENDELL ST / HUDSON AV\n",
       "19            100 Block of JONES ST\n",
       "Name: Address, dtype: object"
      ]
     },
     "execution_count": 69,
     "metadata": {},
     "output_type": "execute_result"
    }
   ],
   "source": [
    "df_raw['Address'].head(20)"
   ]
  },
  {
   "cell_type": "code",
   "execution_count": 70,
   "metadata": {},
   "outputs": [
    {
     "data": {
      "text/html": [
       "<div>\n",
       "<style scoped>\n",
       "    .dataframe tbody tr th:only-of-type {\n",
       "        vertical-align: middle;\n",
       "    }\n",
       "\n",
       "    .dataframe tbody tr th {\n",
       "        vertical-align: top;\n",
       "    }\n",
       "\n",
       "    .dataframe thead th {\n",
       "        text-align: right;\n",
       "    }\n",
       "</style>\n",
       "<table border=\"1\" class=\"dataframe\">\n",
       "  <thead>\n",
       "    <tr style=\"text-align: right;\">\n",
       "      <th></th>\n",
       "      <th>ad_contains_intersection</th>\n",
       "      <th>Address</th>\n",
       "    </tr>\n",
       "  </thead>\n",
       "  <tbody>\n",
       "    <tr>\n",
       "      <th>878044</th>\n",
       "      <td>True</td>\n",
       "      <td>FARALLONES ST / CAPITOL AV</td>\n",
       "    </tr>\n",
       "    <tr>\n",
       "      <th>878045</th>\n",
       "      <td>False</td>\n",
       "      <td>600 Block of EDNA ST</td>\n",
       "    </tr>\n",
       "    <tr>\n",
       "      <th>878046</th>\n",
       "      <td>True</td>\n",
       "      <td>5TH ST / FOLSOM ST</td>\n",
       "    </tr>\n",
       "    <tr>\n",
       "      <th>878047</th>\n",
       "      <td>True</td>\n",
       "      <td>TOWNSEND ST / 2ND ST</td>\n",
       "    </tr>\n",
       "    <tr>\n",
       "      <th>878048</th>\n",
       "      <td>False</td>\n",
       "      <td>1800 Block of NEWCOMB AV</td>\n",
       "    </tr>\n",
       "  </tbody>\n",
       "</table>\n",
       "</div>"
      ],
      "text/plain": [
       "        ad_contains_intersection                     Address\n",
       "878044                      True  FARALLONES ST / CAPITOL AV\n",
       "878045                     False        600 Block of EDNA ST\n",
       "878046                      True          5TH ST / FOLSOM ST\n",
       "878047                      True        TOWNSEND ST / 2ND ST\n",
       "878048                     False    1800 Block of NEWCOMB AV"
      ]
     },
     "execution_count": 70,
     "metadata": {},
     "output_type": "execute_result"
    }
   ],
   "source": [
    "# Create a feature for street intersection\n",
    "df_raw['ad_contains_intersection']=df_raw['Address'].str.contains('/')\n",
    "df_raw[['ad_contains_intersection','Address']].tail()"
   ]
  },
  {
   "cell_type": "code",
   "execution_count": 71,
   "metadata": {},
   "outputs": [
    {
     "data": {
      "text/html": [
       "<div>\n",
       "<style scoped>\n",
       "    .dataframe tbody tr th:only-of-type {\n",
       "        vertical-align: middle;\n",
       "    }\n",
       "\n",
       "    .dataframe tbody tr th {\n",
       "        vertical-align: top;\n",
       "    }\n",
       "\n",
       "    .dataframe thead th {\n",
       "        text-align: right;\n",
       "    }\n",
       "</style>\n",
       "<table border=\"1\" class=\"dataframe\">\n",
       "  <thead>\n",
       "    <tr style=\"text-align: right;\">\n",
       "      <th></th>\n",
       "      <th>ad_contains_block</th>\n",
       "      <th>Address</th>\n",
       "    </tr>\n",
       "  </thead>\n",
       "  <tbody>\n",
       "    <tr>\n",
       "      <th>0</th>\n",
       "      <td>False</td>\n",
       "      <td>OAK ST / LAGUNA ST</td>\n",
       "    </tr>\n",
       "    <tr>\n",
       "      <th>1</th>\n",
       "      <td>False</td>\n",
       "      <td>OAK ST / LAGUNA ST</td>\n",
       "    </tr>\n",
       "    <tr>\n",
       "      <th>2</th>\n",
       "      <td>False</td>\n",
       "      <td>VANNESS AV / GREENWICH ST</td>\n",
       "    </tr>\n",
       "    <tr>\n",
       "      <th>3</th>\n",
       "      <td>True</td>\n",
       "      <td>1500 Block of LOMBARD ST</td>\n",
       "    </tr>\n",
       "    <tr>\n",
       "      <th>4</th>\n",
       "      <td>True</td>\n",
       "      <td>100 Block of BRODERICK ST</td>\n",
       "    </tr>\n",
       "  </tbody>\n",
       "</table>\n",
       "</div>"
      ],
      "text/plain": [
       "   ad_contains_block                    Address\n",
       "0              False         OAK ST / LAGUNA ST\n",
       "1              False         OAK ST / LAGUNA ST\n",
       "2              False  VANNESS AV / GREENWICH ST\n",
       "3               True   1500 Block of LOMBARD ST\n",
       "4               True  100 Block of BRODERICK ST"
      ]
     },
     "execution_count": 71,
     "metadata": {},
     "output_type": "execute_result"
    }
   ],
   "source": [
    "# Create a feature for block or no-block in the address\n",
    "add_upper=df_raw['Address'].str.upper()\n",
    "df_raw['ad_contains_block']=add_upper.str.contains('BLOCK')\n",
    "df_raw[['ad_contains_block','Address']].head()"
   ]
  },
  {
   "cell_type": "code",
   "execution_count": 72,
   "metadata": {},
   "outputs": [
    {
     "data": {
      "text/html": [
       "<div>\n",
       "<style scoped>\n",
       "    .dataframe tbody tr th:only-of-type {\n",
       "        vertical-align: middle;\n",
       "    }\n",
       "\n",
       "    .dataframe tbody tr th {\n",
       "        vertical-align: top;\n",
       "    }\n",
       "\n",
       "    .dataframe thead th {\n",
       "        text-align: right;\n",
       "    }\n",
       "</style>\n",
       "<table border=\"1\" class=\"dataframe\">\n",
       "  <thead>\n",
       "    <tr style=\"text-align: right;\">\n",
       "      <th></th>\n",
       "      <th>Address</th>\n",
       "      <th>add_p1</th>\n",
       "      <th>add_p2</th>\n",
       "    </tr>\n",
       "  </thead>\n",
       "  <tbody>\n",
       "    <tr>\n",
       "      <th>0</th>\n",
       "      <td>OAK ST / LAGUNA ST</td>\n",
       "      <td>OAK ST</td>\n",
       "      <td>LAGUNA ST</td>\n",
       "    </tr>\n",
       "    <tr>\n",
       "      <th>1</th>\n",
       "      <td>OAK ST / LAGUNA ST</td>\n",
       "      <td>OAK ST</td>\n",
       "      <td>LAGUNA ST</td>\n",
       "    </tr>\n",
       "    <tr>\n",
       "      <th>2</th>\n",
       "      <td>VANNESS AV / GREENWICH ST</td>\n",
       "      <td>VANNESS AV</td>\n",
       "      <td>GREENWICH ST</td>\n",
       "    </tr>\n",
       "    <tr>\n",
       "      <th>3</th>\n",
       "      <td>1500 Block of LOMBARD ST</td>\n",
       "      <td>1500 Block of LOMBARD ST</td>\n",
       "      <td>NaN</td>\n",
       "    </tr>\n",
       "    <tr>\n",
       "      <th>4</th>\n",
       "      <td>100 Block of BRODERICK ST</td>\n",
       "      <td>100 Block of BRODERICK ST</td>\n",
       "      <td>NaN</td>\n",
       "    </tr>\n",
       "    <tr>\n",
       "      <th>5</th>\n",
       "      <td>0 Block of TEDDY AV</td>\n",
       "      <td>0 Block of TEDDY AV</td>\n",
       "      <td>NaN</td>\n",
       "    </tr>\n",
       "    <tr>\n",
       "      <th>6</th>\n",
       "      <td>AVALON AV / PERU AV</td>\n",
       "      <td>AVALON AV</td>\n",
       "      <td>PERU AV</td>\n",
       "    </tr>\n",
       "    <tr>\n",
       "      <th>7</th>\n",
       "      <td>KIRKWOOD AV / DONAHUE ST</td>\n",
       "      <td>KIRKWOOD AV</td>\n",
       "      <td>DONAHUE ST</td>\n",
       "    </tr>\n",
       "    <tr>\n",
       "      <th>8</th>\n",
       "      <td>600 Block of 47TH AV</td>\n",
       "      <td>600 Block of 47TH AV</td>\n",
       "      <td>NaN</td>\n",
       "    </tr>\n",
       "    <tr>\n",
       "      <th>9</th>\n",
       "      <td>JEFFERSON ST / LEAVENWORTH ST</td>\n",
       "      <td>JEFFERSON ST</td>\n",
       "      <td>LEAVENWORTH ST</td>\n",
       "    </tr>\n",
       "    <tr>\n",
       "      <th>10</th>\n",
       "      <td>JEFFERSON ST / LEAVENWORTH ST</td>\n",
       "      <td>JEFFERSON ST</td>\n",
       "      <td>LEAVENWORTH ST</td>\n",
       "    </tr>\n",
       "    <tr>\n",
       "      <th>11</th>\n",
       "      <td>0 Block of ESCOLTA WY</td>\n",
       "      <td>0 Block of ESCOLTA WY</td>\n",
       "      <td>NaN</td>\n",
       "    </tr>\n",
       "    <tr>\n",
       "      <th>12</th>\n",
       "      <td>TURK ST / JONES ST</td>\n",
       "      <td>TURK ST</td>\n",
       "      <td>JONES ST</td>\n",
       "    </tr>\n",
       "    <tr>\n",
       "      <th>13</th>\n",
       "      <td>FILLMORE ST / GEARY BL</td>\n",
       "      <td>FILLMORE ST</td>\n",
       "      <td>GEARY BL</td>\n",
       "    </tr>\n",
       "    <tr>\n",
       "      <th>14</th>\n",
       "      <td>200 Block of WILLIAMS AV</td>\n",
       "      <td>200 Block of WILLIAMS AV</td>\n",
       "      <td>NaN</td>\n",
       "    </tr>\n",
       "  </tbody>\n",
       "</table>\n",
       "</div>"
      ],
      "text/plain": [
       "                          Address                     add_p1          add_p2\n",
       "0              OAK ST / LAGUNA ST                     OAK ST       LAGUNA ST\n",
       "1              OAK ST / LAGUNA ST                     OAK ST       LAGUNA ST\n",
       "2       VANNESS AV / GREENWICH ST                 VANNESS AV    GREENWICH ST\n",
       "3        1500 Block of LOMBARD ST   1500 Block of LOMBARD ST             NaN\n",
       "4       100 Block of BRODERICK ST  100 Block of BRODERICK ST             NaN\n",
       "5             0 Block of TEDDY AV        0 Block of TEDDY AV             NaN\n",
       "6             AVALON AV / PERU AV                  AVALON AV         PERU AV\n",
       "7        KIRKWOOD AV / DONAHUE ST                KIRKWOOD AV      DONAHUE ST\n",
       "8            600 Block of 47TH AV       600 Block of 47TH AV             NaN\n",
       "9   JEFFERSON ST / LEAVENWORTH ST               JEFFERSON ST  LEAVENWORTH ST\n",
       "10  JEFFERSON ST / LEAVENWORTH ST               JEFFERSON ST  LEAVENWORTH ST\n",
       "11          0 Block of ESCOLTA WY      0 Block of ESCOLTA WY             NaN\n",
       "12             TURK ST / JONES ST                    TURK ST        JONES ST\n",
       "13         FILLMORE ST / GEARY BL                FILLMORE ST        GEARY BL\n",
       "14       200 Block of WILLIAMS AV   200 Block of WILLIAMS AV             NaN"
      ]
     },
     "execution_count": 72,
     "metadata": {},
     "output_type": "execute_result"
    }
   ],
   "source": [
    "# Create a feature to capture the data before and after the '/'\n",
    "add_p1, add_p2 = df_raw['Address'].str.split('/', 1).str\n",
    "\n",
    "add_p1=add_p1.str.rstrip()\n",
    "df_raw['add_p1']=add_p1.str.lstrip()\n",
    "\n",
    "add_p2=add_p2.str.rstrip()\n",
    "df_raw['add_p2']=add_p2.str.lstrip()\n",
    "\n",
    "# Check if the split went well\n",
    "df_raw[['Address','add_p1','add_p2']].head(15)"
   ]
  },
  {
   "cell_type": "code",
   "execution_count": 73,
   "metadata": {},
   "outputs": [
    {
     "data": {
      "text/plain": [
       "array(['80', 'AL', 'AR', 'AV', 'AY', 'BL', 'CR', 'CT', 'DR', 'ER', 'EX', 'HY', 'LN', 'MS', 'NO', 'PL', 'PZ',\n",
       "       'RD', 'RK', 'RW', 'ST', 'TI', 'TR', 'WK', 'WY'], dtype=object)"
      ]
     },
     "execution_count": 73,
     "metadata": {},
     "output_type": "execute_result"
    }
   ],
   "source": [
    "# Type of the first part of address (ST, AV BL etc)\n",
    "df_raw['add_p1_type']=df_raw['add_p1'].str[-2:]\n",
    "np.unique(df_raw['add_p1_type'])"
   ]
  },
  {
   "cell_type": "code",
   "execution_count": 33,
   "metadata": {},
   "outputs": [],
   "source": [
    "# Type of the second part of address (ST, AV BL etc)\n",
    "# Need to do a vectorized version of this.\n",
    "\n",
    "#add_p2_type = []\n",
    "\n",
    "#for i in range(1,len(add_p2)-1):\n",
    "#    print(i)\n",
    "#    try:\n",
    "#        val=add_intersection[i]\n",
    "#    except:\n",
    "#        continue\n",
    "#            \n",
    "#    if val==True:        \n",
    "#        try:\n",
    "#            add_p2_type.append(add_p2.str[-2:])\n",
    "#        except:\n",
    "#            add_p2_type.append('None')\n",
    "#    else:\n",
    "#        add_p2_type.append('None')"
   ]
  },
  {
   "cell_type": "markdown",
   "metadata": {},
   "source": [
    "### Creating df_train "
   ]
  },
  {
   "cell_type": "code",
   "execution_count": 74,
   "metadata": {},
   "outputs": [
    {
     "data": {
      "text/plain": [
       "(878049, 41)"
      ]
     },
     "execution_count": 74,
     "metadata": {},
     "output_type": "execute_result"
    }
   ],
   "source": [
    "# Let's confirm the shapes \n",
    "df_raw.shape"
   ]
  },
  {
   "cell_type": "code",
   "execution_count": 75,
   "metadata": {},
   "outputs": [
    {
     "data": {
      "text/html": [
       "<div>\n",
       "<style scoped>\n",
       "    .dataframe tbody tr th:only-of-type {\n",
       "        vertical-align: middle;\n",
       "    }\n",
       "\n",
       "    .dataframe tbody tr th {\n",
       "        vertical-align: top;\n",
       "    }\n",
       "\n",
       "    .dataframe thead th {\n",
       "        text-align: right;\n",
       "    }\n",
       "</style>\n",
       "<table border=\"1\" class=\"dataframe\">\n",
       "  <thead>\n",
       "    <tr style=\"text-align: right;\">\n",
       "      <th></th>\n",
       "      <th>Category</th>\n",
       "      <th>Descript</th>\n",
       "      <th>DayOfWeek</th>\n",
       "      <th>PdDistrict</th>\n",
       "      <th>Resolution</th>\n",
       "      <th>Address</th>\n",
       "      <th>X</th>\n",
       "      <th>Y</th>\n",
       "      <th>DatesYear</th>\n",
       "      <th>DatesMonth</th>\n",
       "      <th>...</th>\n",
       "      <th>xy_y_rotate_30</th>\n",
       "      <th>xy_y_rotate_45</th>\n",
       "      <th>xy_y_rotate_60</th>\n",
       "      <th>xy_radial_r</th>\n",
       "      <th>xy_radial_phi</th>\n",
       "      <th>ad_contains_intersection</th>\n",
       "      <th>ad_contains_block</th>\n",
       "      <th>add_p1</th>\n",
       "      <th>add_p2</th>\n",
       "      <th>add_p1_type</th>\n",
       "    </tr>\n",
       "  </thead>\n",
       "  <tbody>\n",
       "    <tr>\n",
       "      <th>0</th>\n",
       "      <td>WARRANTS</td>\n",
       "      <td>WARRANT ARREST</td>\n",
       "      <td>Wednesday</td>\n",
       "      <td>NORTHERN</td>\n",
       "      <td>ARREST, BOOKED</td>\n",
       "      <td>OAK ST / LAGUNA ST</td>\n",
       "      <td>-122.425892</td>\n",
       "      <td>37.774599</td>\n",
       "      <td>2015</td>\n",
       "      <td>5</td>\n",
       "      <td>...</td>\n",
       "      <td>0.060733</td>\n",
       "      <td>0.081824</td>\n",
       "      <td>0.097359</td>\n",
       "      <td>0.108186</td>\n",
       "      <td>3.069137</td>\n",
       "      <td>True</td>\n",
       "      <td>False</td>\n",
       "      <td>OAK ST</td>\n",
       "      <td>LAGUNA ST</td>\n",
       "      <td>ST</td>\n",
       "    </tr>\n",
       "    <tr>\n",
       "      <th>1</th>\n",
       "      <td>OTHER OFFENSES</td>\n",
       "      <td>TRAFFIC VIOLATION ARREST</td>\n",
       "      <td>Wednesday</td>\n",
       "      <td>NORTHERN</td>\n",
       "      <td>ARREST, BOOKED</td>\n",
       "      <td>OAK ST / LAGUNA ST</td>\n",
       "      <td>-122.425892</td>\n",
       "      <td>37.774599</td>\n",
       "      <td>2015</td>\n",
       "      <td>5</td>\n",
       "      <td>...</td>\n",
       "      <td>0.060733</td>\n",
       "      <td>0.081824</td>\n",
       "      <td>0.097359</td>\n",
       "      <td>0.108186</td>\n",
       "      <td>3.069137</td>\n",
       "      <td>True</td>\n",
       "      <td>False</td>\n",
       "      <td>OAK ST</td>\n",
       "      <td>LAGUNA ST</td>\n",
       "      <td>ST</td>\n",
       "    </tr>\n",
       "    <tr>\n",
       "      <th>2</th>\n",
       "      <td>OTHER OFFENSES</td>\n",
       "      <td>TRAFFIC VIOLATION ARREST</td>\n",
       "      <td>Wednesday</td>\n",
       "      <td>NORTHERN</td>\n",
       "      <td>ARREST, BOOKED</td>\n",
       "      <td>VANNESS AV / GREENWICH ST</td>\n",
       "      <td>-122.424363</td>\n",
       "      <td>37.800414</td>\n",
       "      <td>2015</td>\n",
       "      <td>5</td>\n",
       "      <td>...</td>\n",
       "      <td>0.084484</td>\n",
       "      <td>0.086166</td>\n",
       "      <td>0.081998</td>\n",
       "      <td>0.086313</td>\n",
       "      <td>2.300507</td>\n",
       "      <td>True</td>\n",
       "      <td>False</td>\n",
       "      <td>VANNESS AV</td>\n",
       "      <td>GREENWICH ST</td>\n",
       "      <td>AV</td>\n",
       "    </tr>\n",
       "    <tr>\n",
       "      <th>3</th>\n",
       "      <td>LARCENY/THEFT</td>\n",
       "      <td>GRAND THEFT FROM LOCKED AUTO</td>\n",
       "      <td>Wednesday</td>\n",
       "      <td>NORTHERN</td>\n",
       "      <td>NONE</td>\n",
       "      <td>1500 Block of LOMBARD ST</td>\n",
       "      <td>-122.426995</td>\n",
       "      <td>37.800873</td>\n",
       "      <td>2015</td>\n",
       "      <td>5</td>\n",
       "      <td>...</td>\n",
       "      <td>0.128713</td>\n",
       "      <td>0.148187</td>\n",
       "      <td>0.157600</td>\n",
       "      <td>0.158368</td>\n",
       "      <td>2.716321</td>\n",
       "      <td>False</td>\n",
       "      <td>True</td>\n",
       "      <td>1500 Block of LOMBARD ST</td>\n",
       "      <td>NaN</td>\n",
       "      <td>ST</td>\n",
       "    </tr>\n",
       "    <tr>\n",
       "      <th>4</th>\n",
       "      <td>LARCENY/THEFT</td>\n",
       "      <td>GRAND THEFT FROM LOCKED AUTO</td>\n",
       "      <td>Wednesday</td>\n",
       "      <td>PARK</td>\n",
       "      <td>NONE</td>\n",
       "      <td>100 Block of BRODERICK ST</td>\n",
       "      <td>-122.438738</td>\n",
       "      <td>37.771541</td>\n",
       "      <td>2015</td>\n",
       "      <td>5</td>\n",
       "      <td>...</td>\n",
       "      <td>0.266543</td>\n",
       "      <td>0.376302</td>\n",
       "      <td>0.460513</td>\n",
       "      <td>0.531113</td>\n",
       "      <td>3.139446</td>\n",
       "      <td>False</td>\n",
       "      <td>True</td>\n",
       "      <td>100 Block of BRODERICK ST</td>\n",
       "      <td>NaN</td>\n",
       "      <td>ST</td>\n",
       "    </tr>\n",
       "  </tbody>\n",
       "</table>\n",
       "<p>5 rows × 41 columns</p>\n",
       "</div>"
      ],
      "text/plain": [
       "         Category                      Descript  DayOfWeek PdDistrict  \\\n",
       "0        WARRANTS                WARRANT ARREST  Wednesday   NORTHERN   \n",
       "1  OTHER OFFENSES      TRAFFIC VIOLATION ARREST  Wednesday   NORTHERN   \n",
       "2  OTHER OFFENSES      TRAFFIC VIOLATION ARREST  Wednesday   NORTHERN   \n",
       "3   LARCENY/THEFT  GRAND THEFT FROM LOCKED AUTO  Wednesday   NORTHERN   \n",
       "4   LARCENY/THEFT  GRAND THEFT FROM LOCKED AUTO  Wednesday       PARK   \n",
       "\n",
       "       Resolution                    Address           X          Y  \\\n",
       "0  ARREST, BOOKED         OAK ST / LAGUNA ST -122.425892  37.774599   \n",
       "1  ARREST, BOOKED         OAK ST / LAGUNA ST -122.425892  37.774599   \n",
       "2  ARREST, BOOKED  VANNESS AV / GREENWICH ST -122.424363  37.800414   \n",
       "3            NONE   1500 Block of LOMBARD ST -122.426995  37.800873   \n",
       "4            NONE  100 Block of BRODERICK ST -122.438738  37.771541   \n",
       "\n",
       "   DatesYear  DatesMonth     ...       xy_y_rotate_30  xy_y_rotate_45  \\\n",
       "0       2015           5     ...             0.060733        0.081824   \n",
       "1       2015           5     ...             0.060733        0.081824   \n",
       "2       2015           5     ...             0.084484        0.086166   \n",
       "3       2015           5     ...             0.128713        0.148187   \n",
       "4       2015           5     ...             0.266543        0.376302   \n",
       "\n",
       "   xy_y_rotate_60  xy_radial_r  xy_radial_phi  ad_contains_intersection  \\\n",
       "0        0.097359     0.108186       3.069137                      True   \n",
       "1        0.097359     0.108186       3.069137                      True   \n",
       "2        0.081998     0.086313       2.300507                      True   \n",
       "3        0.157600     0.158368       2.716321                     False   \n",
       "4        0.460513     0.531113       3.139446                     False   \n",
       "\n",
       "   ad_contains_block                     add_p1        add_p2  add_p1_type  \n",
       "0              False                     OAK ST     LAGUNA ST           ST  \n",
       "1              False                     OAK ST     LAGUNA ST           ST  \n",
       "2              False                 VANNESS AV  GREENWICH ST           AV  \n",
       "3               True   1500 Block of LOMBARD ST           NaN           ST  \n",
       "4               True  100 Block of BRODERICK ST           NaN           ST  \n",
       "\n",
       "[5 rows x 41 columns]"
      ]
     },
     "execution_count": 75,
     "metadata": {},
     "output_type": "execute_result"
    }
   ],
   "source": [
    "df_raw.head()"
   ]
  },
  {
   "cell_type": "code",
   "execution_count": 76,
   "metadata": {},
   "outputs": [
    {
     "data": {
      "text/html": [
       "<div>\n",
       "<style scoped>\n",
       "    .dataframe tbody tr th:only-of-type {\n",
       "        vertical-align: middle;\n",
       "    }\n",
       "\n",
       "    .dataframe tbody tr th {\n",
       "        vertical-align: top;\n",
       "    }\n",
       "\n",
       "    .dataframe thead th {\n",
       "        text-align: right;\n",
       "    }\n",
       "</style>\n",
       "<table border=\"1\" class=\"dataframe\">\n",
       "  <thead>\n",
       "    <tr style=\"text-align: right;\">\n",
       "      <th></th>\n",
       "      <th>Category</th>\n",
       "      <th>Descript</th>\n",
       "      <th>DayOfWeek</th>\n",
       "      <th>PdDistrict</th>\n",
       "      <th>Resolution</th>\n",
       "      <th>Address</th>\n",
       "      <th>X</th>\n",
       "      <th>Y</th>\n",
       "      <th>DatesYear</th>\n",
       "      <th>DatesMonth</th>\n",
       "      <th>...</th>\n",
       "      <th>xy_y_rotate_30</th>\n",
       "      <th>xy_y_rotate_45</th>\n",
       "      <th>xy_y_rotate_60</th>\n",
       "      <th>xy_radial_r</th>\n",
       "      <th>xy_radial_phi</th>\n",
       "      <th>ad_contains_intersection</th>\n",
       "      <th>ad_contains_block</th>\n",
       "      <th>add_p1</th>\n",
       "      <th>add_p2</th>\n",
       "      <th>add_p1_type</th>\n",
       "    </tr>\n",
       "  </thead>\n",
       "  <tbody>\n",
       "    <tr>\n",
       "      <th>878044</th>\n",
       "      <td>ROBBERY</td>\n",
       "      <td>ROBBERY ON THE STREET WITH A GUN</td>\n",
       "      <td>Monday</td>\n",
       "      <td>TARAVAL</td>\n",
       "      <td>NONE</td>\n",
       "      <td>FARALLONES ST / CAPITOL AV</td>\n",
       "      <td>-122.459033</td>\n",
       "      <td>37.714056</td>\n",
       "      <td>2003</td>\n",
       "      <td>1</td>\n",
       "      <td>...</td>\n",
       "      <td>0.491903</td>\n",
       "      <td>0.760074</td>\n",
       "      <td>0.976642</td>\n",
       "      <td>1.206208</td>\n",
       "      <td>-3.038045</td>\n",
       "      <td>True</td>\n",
       "      <td>False</td>\n",
       "      <td>FARALLONES ST</td>\n",
       "      <td>CAPITOL AV</td>\n",
       "      <td>ST</td>\n",
       "    </tr>\n",
       "    <tr>\n",
       "      <th>878045</th>\n",
       "      <td>LARCENY/THEFT</td>\n",
       "      <td>GRAND THEFT FROM LOCKED AUTO</td>\n",
       "      <td>Monday</td>\n",
       "      <td>INGLESIDE</td>\n",
       "      <td>NONE</td>\n",
       "      <td>600 Block of EDNA ST</td>\n",
       "      <td>-122.447364</td>\n",
       "      <td>37.731948</td>\n",
       "      <td>2003</td>\n",
       "      <td>1</td>\n",
       "      <td>...</td>\n",
       "      <td>0.333587</td>\n",
       "      <td>0.515950</td>\n",
       "      <td>0.663284</td>\n",
       "      <td>0.819765</td>\n",
       "      <td>-3.037082</td>\n",
       "      <td>False</td>\n",
       "      <td>True</td>\n",
       "      <td>600 Block of EDNA ST</td>\n",
       "      <td>NaN</td>\n",
       "      <td>ST</td>\n",
       "    </tr>\n",
       "    <tr>\n",
       "      <th>878046</th>\n",
       "      <td>LARCENY/THEFT</td>\n",
       "      <td>GRAND THEFT FROM LOCKED AUTO</td>\n",
       "      <td>Monday</td>\n",
       "      <td>SOUTHERN</td>\n",
       "      <td>NONE</td>\n",
       "      <td>5TH ST / FOLSOM ST</td>\n",
       "      <td>-122.403390</td>\n",
       "      <td>37.780266</td>\n",
       "      <td>2003</td>\n",
       "      <td>1</td>\n",
       "      <td>...</td>\n",
       "      <td>-0.299178</td>\n",
       "      <td>-0.433510</td>\n",
       "      <td>-0.538410</td>\n",
       "      <td>0.633727</td>\n",
       "      <td>0.031936</td>\n",
       "      <td>True</td>\n",
       "      <td>False</td>\n",
       "      <td>5TH ST</td>\n",
       "      <td>FOLSOM ST</td>\n",
       "      <td>ST</td>\n",
       "    </tr>\n",
       "    <tr>\n",
       "      <th>878047</th>\n",
       "      <td>VANDALISM</td>\n",
       "      <td>MALICIOUS MISCHIEF, VANDALISM OF VEHICLES</td>\n",
       "      <td>Monday</td>\n",
       "      <td>SOUTHERN</td>\n",
       "      <td>NONE</td>\n",
       "      <td>TOWNSEND ST / 2ND ST</td>\n",
       "      <td>-122.390531</td>\n",
       "      <td>37.780607</td>\n",
       "      <td>2003</td>\n",
       "      <td>1</td>\n",
       "      <td>...</td>\n",
       "      <td>-0.510350</td>\n",
       "      <td>-0.732494</td>\n",
       "      <td>-0.904908</td>\n",
       "      <td>1.057251</td>\n",
       "      <td>0.019848</td>\n",
       "      <td>True</td>\n",
       "      <td>False</td>\n",
       "      <td>TOWNSEND ST</td>\n",
       "      <td>2ND ST</td>\n",
       "      <td>ST</td>\n",
       "    </tr>\n",
       "    <tr>\n",
       "      <th>878048</th>\n",
       "      <td>FORGERY/COUNTERFEITING</td>\n",
       "      <td>CHECKS, FORGERY (FELONY)</td>\n",
       "      <td>Monday</td>\n",
       "      <td>BAYVIEW</td>\n",
       "      <td>NONE</td>\n",
       "      <td>1800 Block of NEWCOMB AV</td>\n",
       "      <td>-122.394926</td>\n",
       "      <td>37.738212</td>\n",
       "      <td>2003</td>\n",
       "      <td>1</td>\n",
       "      <td>...</td>\n",
       "      <td>-0.518322</td>\n",
       "      <td>-0.695745</td>\n",
       "      <td>-0.825931</td>\n",
       "      <td>0.915093</td>\n",
       "      <td>-0.078552</td>\n",
       "      <td>False</td>\n",
       "      <td>True</td>\n",
       "      <td>1800 Block of NEWCOMB AV</td>\n",
       "      <td>NaN</td>\n",
       "      <td>AV</td>\n",
       "    </tr>\n",
       "  </tbody>\n",
       "</table>\n",
       "<p>5 rows × 41 columns</p>\n",
       "</div>"
      ],
      "text/plain": [
       "                      Category                                   Descript  \\\n",
       "878044                 ROBBERY           ROBBERY ON THE STREET WITH A GUN   \n",
       "878045           LARCENY/THEFT               GRAND THEFT FROM LOCKED AUTO   \n",
       "878046           LARCENY/THEFT               GRAND THEFT FROM LOCKED AUTO   \n",
       "878047               VANDALISM  MALICIOUS MISCHIEF, VANDALISM OF VEHICLES   \n",
       "878048  FORGERY/COUNTERFEITING                   CHECKS, FORGERY (FELONY)   \n",
       "\n",
       "       DayOfWeek PdDistrict Resolution                     Address  \\\n",
       "878044    Monday    TARAVAL       NONE  FARALLONES ST / CAPITOL AV   \n",
       "878045    Monday  INGLESIDE       NONE        600 Block of EDNA ST   \n",
       "878046    Monday   SOUTHERN       NONE          5TH ST / FOLSOM ST   \n",
       "878047    Monday   SOUTHERN       NONE        TOWNSEND ST / 2ND ST   \n",
       "878048    Monday    BAYVIEW       NONE    1800 Block of NEWCOMB AV   \n",
       "\n",
       "                 X          Y  DatesYear  DatesMonth     ...       \\\n",
       "878044 -122.459033  37.714056       2003           1     ...        \n",
       "878045 -122.447364  37.731948       2003           1     ...        \n",
       "878046 -122.403390  37.780266       2003           1     ...        \n",
       "878047 -122.390531  37.780607       2003           1     ...        \n",
       "878048 -122.394926  37.738212       2003           1     ...        \n",
       "\n",
       "        xy_y_rotate_30  xy_y_rotate_45  xy_y_rotate_60  xy_radial_r  \\\n",
       "878044        0.491903        0.760074        0.976642     1.206208   \n",
       "878045        0.333587        0.515950        0.663284     0.819765   \n",
       "878046       -0.299178       -0.433510       -0.538410     0.633727   \n",
       "878047       -0.510350       -0.732494       -0.904908     1.057251   \n",
       "878048       -0.518322       -0.695745       -0.825931     0.915093   \n",
       "\n",
       "        xy_radial_phi  ad_contains_intersection  ad_contains_block  \\\n",
       "878044      -3.038045                      True              False   \n",
       "878045      -3.037082                     False               True   \n",
       "878046       0.031936                      True              False   \n",
       "878047       0.019848                      True              False   \n",
       "878048      -0.078552                     False               True   \n",
       "\n",
       "                          add_p1      add_p2  add_p1_type  \n",
       "878044             FARALLONES ST  CAPITOL AV           ST  \n",
       "878045      600 Block of EDNA ST         NaN           ST  \n",
       "878046                    5TH ST   FOLSOM ST           ST  \n",
       "878047               TOWNSEND ST      2ND ST           ST  \n",
       "878048  1800 Block of NEWCOMB AV         NaN           AV  \n",
       "\n",
       "[5 rows x 41 columns]"
      ]
     },
     "execution_count": 76,
     "metadata": {},
     "output_type": "execute_result"
    }
   ],
   "source": [
    "df_raw.tail()"
   ]
  },
  {
   "cell_type": "code",
   "execution_count": 77,
   "metadata": {},
   "outputs": [
    {
     "data": {
      "text/plain": [
       "Index(['Category', 'Descript', 'DayOfWeek', 'PdDistrict', 'Resolution',\n",
       "       'Address', 'X', 'Y', 'DatesYear', 'DatesMonth', 'DatesWeek', 'DatesDay',\n",
       "       'DatesDayofweek', 'DatesDayofyear', 'DatesIs_month_end',\n",
       "       'DatesIs_month_start', 'DatesIs_quarter_end', 'DatesIs_quarter_start',\n",
       "       'DatesIs_year_end', 'DatesIs_year_start', 'DatesHour', 'DatesMinute',\n",
       "       'DatesSecond', 'DatesElapsed', 'xy_scaled_1', 'xy_scaled_2', 'xy_pca_1',\n",
       "       'xy_pca_2', 'xy_x_rotate_30', 'xy_x_rotate_45', 'xy_x_rotate_60',\n",
       "       'xy_y_rotate_30', 'xy_y_rotate_45', 'xy_y_rotate_60', 'xy_radial_r',\n",
       "       'xy_radial_phi', 'ad_contains_intersection', 'ad_contains_block',\n",
       "       'add_p1', 'add_p2', 'add_p1_type'],\n",
       "      dtype='object')"
      ]
     },
     "execution_count": 77,
     "metadata": {},
     "output_type": "execute_result"
    }
   ],
   "source": [
    "df_raw.columns"
   ]
  },
  {
   "cell_type": "code",
   "execution_count": 78,
   "metadata": {},
   "outputs": [
    {
     "data": {
      "text/html": [
       "<div>\n",
       "<style scoped>\n",
       "    .dataframe tbody tr th:only-of-type {\n",
       "        vertical-align: middle;\n",
       "    }\n",
       "\n",
       "    .dataframe tbody tr th {\n",
       "        vertical-align: top;\n",
       "    }\n",
       "\n",
       "    .dataframe thead th {\n",
       "        text-align: right;\n",
       "    }\n",
       "</style>\n",
       "<table border=\"1\" class=\"dataframe\">\n",
       "  <thead>\n",
       "    <tr style=\"text-align: right;\">\n",
       "      <th></th>\n",
       "      <th>DayOfWeek</th>\n",
       "      <th>DatesDayofweek</th>\n",
       "    </tr>\n",
       "  </thead>\n",
       "  <tbody>\n",
       "    <tr>\n",
       "      <th>0</th>\n",
       "      <td>Wednesday</td>\n",
       "      <td>2</td>\n",
       "    </tr>\n",
       "    <tr>\n",
       "      <th>1</th>\n",
       "      <td>Wednesday</td>\n",
       "      <td>2</td>\n",
       "    </tr>\n",
       "    <tr>\n",
       "      <th>2</th>\n",
       "      <td>Wednesday</td>\n",
       "      <td>2</td>\n",
       "    </tr>\n",
       "    <tr>\n",
       "      <th>3</th>\n",
       "      <td>Wednesday</td>\n",
       "      <td>2</td>\n",
       "    </tr>\n",
       "    <tr>\n",
       "      <th>4</th>\n",
       "      <td>Wednesday</td>\n",
       "      <td>2</td>\n",
       "    </tr>\n",
       "  </tbody>\n",
       "</table>\n",
       "</div>"
      ],
      "text/plain": [
       "   DayOfWeek  DatesDayofweek\n",
       "0  Wednesday               2\n",
       "1  Wednesday               2\n",
       "2  Wednesday               2\n",
       "3  Wednesday               2\n",
       "4  Wednesday               2"
      ]
     },
     "execution_count": 78,
     "metadata": {},
     "output_type": "execute_result"
    }
   ],
   "source": [
    "df_raw[['DayOfWeek','DatesDayofweek']].head()"
   ]
  },
  {
   "cell_type": "markdown",
   "metadata": {},
   "source": [
    "Let's delete the duplicate column."
   ]
  },
  {
   "cell_type": "code",
   "execution_count": 79,
   "metadata": {},
   "outputs": [],
   "source": [
    "df_raw.drop('DayOfWeek',axis=1,inplace=True)"
   ]
  },
  {
   "cell_type": "markdown",
   "metadata": {},
   "source": [
    "Also, the \"Descript\" and \"Resolution\" columns are part of only training dataset and not the target variable. So let's drop that as well."
   ]
  },
  {
   "cell_type": "code",
   "execution_count": 80,
   "metadata": {},
   "outputs": [],
   "source": [
    "df_raw.drop(['Descript','Resolution'],axis=1,inplace=True)"
   ]
  },
  {
   "cell_type": "code",
   "execution_count": 81,
   "metadata": {},
   "outputs": [
    {
     "data": {
      "text/plain": [
       "Category                     object\n",
       "PdDistrict                   object\n",
       "Address                      object\n",
       "X                           float64\n",
       "Y                           float64\n",
       "DatesYear                     int64\n",
       "DatesMonth                    int64\n",
       "DatesWeek                     int64\n",
       "DatesDay                      int64\n",
       "DatesDayofweek                int64\n",
       "DatesDayofyear                int64\n",
       "DatesIs_month_end              bool\n",
       "DatesIs_month_start            bool\n",
       "DatesIs_quarter_end            bool\n",
       "DatesIs_quarter_start          bool\n",
       "DatesIs_year_end               bool\n",
       "DatesIs_year_start             bool\n",
       "DatesHour                     int64\n",
       "DatesMinute                   int64\n",
       "DatesSecond                   int64\n",
       "DatesElapsed                  int64\n",
       "xy_scaled_1                 float64\n",
       "xy_scaled_2                 float64\n",
       "xy_pca_1                    float64\n",
       "xy_pca_2                    float64\n",
       "xy_x_rotate_30              float64\n",
       "xy_x_rotate_45              float64\n",
       "xy_x_rotate_60              float64\n",
       "xy_y_rotate_30              float64\n",
       "xy_y_rotate_45              float64\n",
       "xy_y_rotate_60              float64\n",
       "xy_radial_r                 float64\n",
       "xy_radial_phi               float64\n",
       "ad_contains_intersection       bool\n",
       "ad_contains_block              bool\n",
       "add_p1                       object\n",
       "add_p2                       object\n",
       "add_p1_type                  object\n",
       "dtype: object"
      ]
     },
     "execution_count": 81,
     "metadata": {},
     "output_type": "execute_result"
    }
   ],
   "source": [
    "df_raw.dtypes"
   ]
  },
  {
   "cell_type": "markdown",
   "metadata": {},
   "source": [
    "Perhaps no explicit datatype conversions are required into a category type."
   ]
  },
  {
   "cell_type": "code",
   "execution_count": 82,
   "metadata": {},
   "outputs": [],
   "source": [
    "#df_raw.PdDistrict.cat"
   ]
  },
  {
   "cell_type": "code",
   "execution_count": 83,
   "metadata": {},
   "outputs": [],
   "source": [
    "train_cats(df_raw)"
   ]
  },
  {
   "cell_type": "code",
   "execution_count": 84,
   "metadata": {},
   "outputs": [
    {
     "data": {
      "text/plain": [
       "0    4\n",
       "1    4\n",
       "2    4\n",
       "3    4\n",
       "4    5\n",
       "dtype: int8"
      ]
     },
     "execution_count": 84,
     "metadata": {},
     "output_type": "execute_result"
    }
   ],
   "source": [
    "df_raw.PdDistrict.cat.codes.head()\n",
    "# Before calling \"train_cats\" we got error for this, but now as we can see the codes are ready."
   ]
  },
  {
   "cell_type": "code",
   "execution_count": 85,
   "metadata": {},
   "outputs": [
    {
     "data": {
      "text/html": [
       "<div>\n",
       "<style scoped>\n",
       "    .dataframe tbody tr th:only-of-type {\n",
       "        vertical-align: middle;\n",
       "    }\n",
       "\n",
       "    .dataframe tbody tr th {\n",
       "        vertical-align: top;\n",
       "    }\n",
       "\n",
       "    .dataframe thead th {\n",
       "        text-align: right;\n",
       "    }\n",
       "</style>\n",
       "<table border=\"1\" class=\"dataframe\">\n",
       "  <thead>\n",
       "    <tr style=\"text-align: right;\">\n",
       "      <th></th>\n",
       "      <th>Category</th>\n",
       "      <th>PdDistrict</th>\n",
       "      <th>Address</th>\n",
       "      <th>X</th>\n",
       "      <th>Y</th>\n",
       "      <th>DatesYear</th>\n",
       "      <th>DatesMonth</th>\n",
       "      <th>DatesWeek</th>\n",
       "      <th>DatesDay</th>\n",
       "      <th>DatesDayofweek</th>\n",
       "      <th>...</th>\n",
       "      <th>xy_y_rotate_30</th>\n",
       "      <th>xy_y_rotate_45</th>\n",
       "      <th>xy_y_rotate_60</th>\n",
       "      <th>xy_radial_r</th>\n",
       "      <th>xy_radial_phi</th>\n",
       "      <th>ad_contains_intersection</th>\n",
       "      <th>ad_contains_block</th>\n",
       "      <th>add_p1</th>\n",
       "      <th>add_p2</th>\n",
       "      <th>add_p1_type</th>\n",
       "    </tr>\n",
       "  </thead>\n",
       "  <tbody>\n",
       "    <tr>\n",
       "      <th>0</th>\n",
       "      <td>WARRANTS</td>\n",
       "      <td>NORTHERN</td>\n",
       "      <td>OAK ST / LAGUNA ST</td>\n",
       "      <td>-122.425892</td>\n",
       "      <td>37.774599</td>\n",
       "      <td>2015</td>\n",
       "      <td>5</td>\n",
       "      <td>20</td>\n",
       "      <td>13</td>\n",
       "      <td>2</td>\n",
       "      <td>...</td>\n",
       "      <td>0.060733</td>\n",
       "      <td>0.081824</td>\n",
       "      <td>0.097359</td>\n",
       "      <td>0.108186</td>\n",
       "      <td>3.069137</td>\n",
       "      <td>True</td>\n",
       "      <td>False</td>\n",
       "      <td>OAK ST</td>\n",
       "      <td>LAGUNA ST</td>\n",
       "      <td>ST</td>\n",
       "    </tr>\n",
       "    <tr>\n",
       "      <th>1</th>\n",
       "      <td>OTHER OFFENSES</td>\n",
       "      <td>NORTHERN</td>\n",
       "      <td>OAK ST / LAGUNA ST</td>\n",
       "      <td>-122.425892</td>\n",
       "      <td>37.774599</td>\n",
       "      <td>2015</td>\n",
       "      <td>5</td>\n",
       "      <td>20</td>\n",
       "      <td>13</td>\n",
       "      <td>2</td>\n",
       "      <td>...</td>\n",
       "      <td>0.060733</td>\n",
       "      <td>0.081824</td>\n",
       "      <td>0.097359</td>\n",
       "      <td>0.108186</td>\n",
       "      <td>3.069137</td>\n",
       "      <td>True</td>\n",
       "      <td>False</td>\n",
       "      <td>OAK ST</td>\n",
       "      <td>LAGUNA ST</td>\n",
       "      <td>ST</td>\n",
       "    </tr>\n",
       "    <tr>\n",
       "      <th>2</th>\n",
       "      <td>OTHER OFFENSES</td>\n",
       "      <td>NORTHERN</td>\n",
       "      <td>VANNESS AV / GREENWICH ST</td>\n",
       "      <td>-122.424363</td>\n",
       "      <td>37.800414</td>\n",
       "      <td>2015</td>\n",
       "      <td>5</td>\n",
       "      <td>20</td>\n",
       "      <td>13</td>\n",
       "      <td>2</td>\n",
       "      <td>...</td>\n",
       "      <td>0.084484</td>\n",
       "      <td>0.086166</td>\n",
       "      <td>0.081998</td>\n",
       "      <td>0.086313</td>\n",
       "      <td>2.300507</td>\n",
       "      <td>True</td>\n",
       "      <td>False</td>\n",
       "      <td>VANNESS AV</td>\n",
       "      <td>GREENWICH ST</td>\n",
       "      <td>AV</td>\n",
       "    </tr>\n",
       "    <tr>\n",
       "      <th>3</th>\n",
       "      <td>LARCENY/THEFT</td>\n",
       "      <td>NORTHERN</td>\n",
       "      <td>1500 Block of LOMBARD ST</td>\n",
       "      <td>-122.426995</td>\n",
       "      <td>37.800873</td>\n",
       "      <td>2015</td>\n",
       "      <td>5</td>\n",
       "      <td>20</td>\n",
       "      <td>13</td>\n",
       "      <td>2</td>\n",
       "      <td>...</td>\n",
       "      <td>0.128713</td>\n",
       "      <td>0.148187</td>\n",
       "      <td>0.157600</td>\n",
       "      <td>0.158368</td>\n",
       "      <td>2.716321</td>\n",
       "      <td>False</td>\n",
       "      <td>True</td>\n",
       "      <td>1500 Block of LOMBARD ST</td>\n",
       "      <td>NaN</td>\n",
       "      <td>ST</td>\n",
       "    </tr>\n",
       "    <tr>\n",
       "      <th>4</th>\n",
       "      <td>LARCENY/THEFT</td>\n",
       "      <td>PARK</td>\n",
       "      <td>100 Block of BRODERICK ST</td>\n",
       "      <td>-122.438738</td>\n",
       "      <td>37.771541</td>\n",
       "      <td>2015</td>\n",
       "      <td>5</td>\n",
       "      <td>20</td>\n",
       "      <td>13</td>\n",
       "      <td>2</td>\n",
       "      <td>...</td>\n",
       "      <td>0.266543</td>\n",
       "      <td>0.376302</td>\n",
       "      <td>0.460513</td>\n",
       "      <td>0.531113</td>\n",
       "      <td>3.139446</td>\n",
       "      <td>False</td>\n",
       "      <td>True</td>\n",
       "      <td>100 Block of BRODERICK ST</td>\n",
       "      <td>NaN</td>\n",
       "      <td>ST</td>\n",
       "    </tr>\n",
       "  </tbody>\n",
       "</table>\n",
       "<p>5 rows × 38 columns</p>\n",
       "</div>"
      ],
      "text/plain": [
       "         Category PdDistrict                    Address           X  \\\n",
       "0        WARRANTS   NORTHERN         OAK ST / LAGUNA ST -122.425892   \n",
       "1  OTHER OFFENSES   NORTHERN         OAK ST / LAGUNA ST -122.425892   \n",
       "2  OTHER OFFENSES   NORTHERN  VANNESS AV / GREENWICH ST -122.424363   \n",
       "3   LARCENY/THEFT   NORTHERN   1500 Block of LOMBARD ST -122.426995   \n",
       "4   LARCENY/THEFT       PARK  100 Block of BRODERICK ST -122.438738   \n",
       "\n",
       "           Y  DatesYear  DatesMonth  DatesWeek  DatesDay  DatesDayofweek  \\\n",
       "0  37.774599       2015           5         20        13               2   \n",
       "1  37.774599       2015           5         20        13               2   \n",
       "2  37.800414       2015           5         20        13               2   \n",
       "3  37.800873       2015           5         20        13               2   \n",
       "4  37.771541       2015           5         20        13               2   \n",
       "\n",
       "      ...       xy_y_rotate_30  xy_y_rotate_45  xy_y_rotate_60  xy_radial_r  \\\n",
       "0     ...             0.060733        0.081824        0.097359     0.108186   \n",
       "1     ...             0.060733        0.081824        0.097359     0.108186   \n",
       "2     ...             0.084484        0.086166        0.081998     0.086313   \n",
       "3     ...             0.128713        0.148187        0.157600     0.158368   \n",
       "4     ...             0.266543        0.376302        0.460513     0.531113   \n",
       "\n",
       "   xy_radial_phi  ad_contains_intersection  ad_contains_block  \\\n",
       "0       3.069137                      True              False   \n",
       "1       3.069137                      True              False   \n",
       "2       2.300507                      True              False   \n",
       "3       2.716321                     False               True   \n",
       "4       3.139446                     False               True   \n",
       "\n",
       "                      add_p1        add_p2  add_p1_type  \n",
       "0                     OAK ST     LAGUNA ST           ST  \n",
       "1                     OAK ST     LAGUNA ST           ST  \n",
       "2                 VANNESS AV  GREENWICH ST           AV  \n",
       "3   1500 Block of LOMBARD ST           NaN           ST  \n",
       "4  100 Block of BRODERICK ST           NaN           ST  \n",
       "\n",
       "[5 rows x 38 columns]"
      ]
     },
     "execution_count": 85,
     "metadata": {},
     "output_type": "execute_result"
    }
   ],
   "source": [
    "# Now although we have generated codes for Categorical variables we havn't used them in the orginal dataframe\n",
    "df_raw.head()"
   ]
  },
  {
   "cell_type": "code",
   "execution_count": 87,
   "metadata": {},
   "outputs": [],
   "source": [
    "## Skip this step\n",
    "rare_cats = set(['SUICIDE','FAMILY OFFENSES', 'BAD CHECKS', 'BRIBERY', 'EXTORTION',\n",
    "       'SEX OFFENSES NON FORCIBLE', 'GAMBLING', 'PORNOGRAPHY/OBSCENE MAT',\n",
    "       'TREA'])\n",
    "all_cats = set(df_raw['Category'].unique())\n",
    "common_cats = all_cats-rare_cats\n",
    "#df_raw = df_raw[df_raw['Category'].isin(common_cats)]\n",
    "#train = df_raw.reset_index(drop = True)"
   ]
  },
  {
   "cell_type": "code",
   "execution_count": 91,
   "metadata": {},
   "outputs": [],
   "source": [
    "common_cat_idx = df_raw['Category'].isin(common_cats)"
   ]
  },
  {
   "cell_type": "code",
   "execution_count": 92,
   "metadata": {},
   "outputs": [],
   "source": [
    "# We can add fix_missing as one of the parameter. \n",
    "# It works only on numeric, as pandas automatically takes care of categorical variable missing values \n",
    "# by setting them to -1.\n",
    "df_x, y, nas = proc_df(df_raw,'Category')"
   ]
  },
  {
   "cell_type": "code",
   "execution_count": 93,
   "metadata": {},
   "outputs": [
    {
     "data": {
      "text/html": [
       "<div>\n",
       "<style scoped>\n",
       "    .dataframe tbody tr th:only-of-type {\n",
       "        vertical-align: middle;\n",
       "    }\n",
       "\n",
       "    .dataframe tbody tr th {\n",
       "        vertical-align: top;\n",
       "    }\n",
       "\n",
       "    .dataframe thead th {\n",
       "        text-align: right;\n",
       "    }\n",
       "</style>\n",
       "<table border=\"1\" class=\"dataframe\">\n",
       "  <thead>\n",
       "    <tr style=\"text-align: right;\">\n",
       "      <th></th>\n",
       "      <th>PdDistrict</th>\n",
       "      <th>Address</th>\n",
       "      <th>X</th>\n",
       "      <th>Y</th>\n",
       "      <th>DatesYear</th>\n",
       "      <th>DatesMonth</th>\n",
       "      <th>DatesWeek</th>\n",
       "      <th>DatesDay</th>\n",
       "      <th>DatesDayofweek</th>\n",
       "      <th>DatesDayofyear</th>\n",
       "      <th>...</th>\n",
       "      <th>xy_y_rotate_30</th>\n",
       "      <th>xy_y_rotate_45</th>\n",
       "      <th>xy_y_rotate_60</th>\n",
       "      <th>xy_radial_r</th>\n",
       "      <th>xy_radial_phi</th>\n",
       "      <th>ad_contains_intersection</th>\n",
       "      <th>ad_contains_block</th>\n",
       "      <th>add_p1</th>\n",
       "      <th>add_p2</th>\n",
       "      <th>add_p1_type</th>\n",
       "    </tr>\n",
       "  </thead>\n",
       "  <tbody>\n",
       "    <tr>\n",
       "      <th>0</th>\n",
       "      <td>5</td>\n",
       "      <td>19791</td>\n",
       "      <td>-122.425892</td>\n",
       "      <td>37.774599</td>\n",
       "      <td>2015</td>\n",
       "      <td>5</td>\n",
       "      <td>20</td>\n",
       "      <td>13</td>\n",
       "      <td>2</td>\n",
       "      <td>133</td>\n",
       "      <td>...</td>\n",
       "      <td>0.060733</td>\n",
       "      <td>0.081824</td>\n",
       "      <td>0.097359</td>\n",
       "      <td>0.108186</td>\n",
       "      <td>3.069137</td>\n",
       "      <td>True</td>\n",
       "      <td>False</td>\n",
       "      <td>12045</td>\n",
       "      <td>883</td>\n",
       "      <td>21</td>\n",
       "    </tr>\n",
       "    <tr>\n",
       "      <th>1</th>\n",
       "      <td>5</td>\n",
       "      <td>19791</td>\n",
       "      <td>-122.425892</td>\n",
       "      <td>37.774599</td>\n",
       "      <td>2015</td>\n",
       "      <td>5</td>\n",
       "      <td>20</td>\n",
       "      <td>13</td>\n",
       "      <td>2</td>\n",
       "      <td>133</td>\n",
       "      <td>...</td>\n",
       "      <td>0.060733</td>\n",
       "      <td>0.081824</td>\n",
       "      <td>0.097359</td>\n",
       "      <td>0.108186</td>\n",
       "      <td>3.069137</td>\n",
       "      <td>True</td>\n",
       "      <td>False</td>\n",
       "      <td>12045</td>\n",
       "      <td>883</td>\n",
       "      <td>21</td>\n",
       "    </tr>\n",
       "    <tr>\n",
       "      <th>2</th>\n",
       "      <td>5</td>\n",
       "      <td>22698</td>\n",
       "      <td>-122.424363</td>\n",
       "      <td>37.800414</td>\n",
       "      <td>2015</td>\n",
       "      <td>5</td>\n",
       "      <td>20</td>\n",
       "      <td>13</td>\n",
       "      <td>2</td>\n",
       "      <td>133</td>\n",
       "      <td>...</td>\n",
       "      <td>0.084484</td>\n",
       "      <td>0.086166</td>\n",
       "      <td>0.081998</td>\n",
       "      <td>0.086313</td>\n",
       "      <td>2.300507</td>\n",
       "      <td>True</td>\n",
       "      <td>False</td>\n",
       "      <td>12461</td>\n",
       "      <td>693</td>\n",
       "      <td>4</td>\n",
       "    </tr>\n",
       "    <tr>\n",
       "      <th>3</th>\n",
       "      <td>5</td>\n",
       "      <td>4267</td>\n",
       "      <td>-122.426995</td>\n",
       "      <td>37.800873</td>\n",
       "      <td>2015</td>\n",
       "      <td>5</td>\n",
       "      <td>20</td>\n",
       "      <td>13</td>\n",
       "      <td>2</td>\n",
       "      <td>133</td>\n",
       "      <td>...</td>\n",
       "      <td>0.128713</td>\n",
       "      <td>0.148187</td>\n",
       "      <td>0.157600</td>\n",
       "      <td>0.158368</td>\n",
       "      <td>2.716321</td>\n",
       "      <td>False</td>\n",
       "      <td>True</td>\n",
       "      <td>4131</td>\n",
       "      <td>0</td>\n",
       "      <td>21</td>\n",
       "    </tr>\n",
       "    <tr>\n",
       "      <th>4</th>\n",
       "      <td>6</td>\n",
       "      <td>1844</td>\n",
       "      <td>-122.438738</td>\n",
       "      <td>37.771541</td>\n",
       "      <td>2015</td>\n",
       "      <td>5</td>\n",
       "      <td>20</td>\n",
       "      <td>13</td>\n",
       "      <td>2</td>\n",
       "      <td>133</td>\n",
       "      <td>...</td>\n",
       "      <td>0.266543</td>\n",
       "      <td>0.376302</td>\n",
       "      <td>0.460513</td>\n",
       "      <td>0.531113</td>\n",
       "      <td>3.139446</td>\n",
       "      <td>False</td>\n",
       "      <td>True</td>\n",
       "      <td>1844</td>\n",
       "      <td>0</td>\n",
       "      <td>21</td>\n",
       "    </tr>\n",
       "  </tbody>\n",
       "</table>\n",
       "<p>5 rows × 37 columns</p>\n",
       "</div>"
      ],
      "text/plain": [
       "   PdDistrict  Address           X          Y  DatesYear  DatesMonth  \\\n",
       "0           5    19791 -122.425892  37.774599       2015           5   \n",
       "1           5    19791 -122.425892  37.774599       2015           5   \n",
       "2           5    22698 -122.424363  37.800414       2015           5   \n",
       "3           5     4267 -122.426995  37.800873       2015           5   \n",
       "4           6     1844 -122.438738  37.771541       2015           5   \n",
       "\n",
       "   DatesWeek  DatesDay  DatesDayofweek  DatesDayofyear     ...       \\\n",
       "0         20        13               2             133     ...        \n",
       "1         20        13               2             133     ...        \n",
       "2         20        13               2             133     ...        \n",
       "3         20        13               2             133     ...        \n",
       "4         20        13               2             133     ...        \n",
       "\n",
       "   xy_y_rotate_30  xy_y_rotate_45  xy_y_rotate_60  xy_radial_r  xy_radial_phi  \\\n",
       "0        0.060733        0.081824        0.097359     0.108186       3.069137   \n",
       "1        0.060733        0.081824        0.097359     0.108186       3.069137   \n",
       "2        0.084484        0.086166        0.081998     0.086313       2.300507   \n",
       "3        0.128713        0.148187        0.157600     0.158368       2.716321   \n",
       "4        0.266543        0.376302        0.460513     0.531113       3.139446   \n",
       "\n",
       "   ad_contains_intersection  ad_contains_block  add_p1  add_p2  add_p1_type  \n",
       "0                      True              False   12045     883           21  \n",
       "1                      True              False   12045     883           21  \n",
       "2                      True              False   12461     693            4  \n",
       "3                     False               True    4131       0           21  \n",
       "4                     False               True    1844       0           21  \n",
       "\n",
       "[5 rows x 37 columns]"
      ]
     },
     "execution_count": 93,
     "metadata": {},
     "output_type": "execute_result"
    }
   ],
   "source": [
    "# Now it should all be numeric or boolean\n",
    "df_x.head()"
   ]
  },
  {
   "cell_type": "code",
   "execution_count": 94,
   "metadata": {},
   "outputs": [
    {
     "data": {
      "text/plain": [
       "array([37, 21, 21, 16, 16, 16, 36, 36, 16, 16], dtype=int8)"
      ]
     },
     "execution_count": 94,
     "metadata": {},
     "output_type": "execute_result"
    }
   ],
   "source": [
    "y[:10]"
   ]
  },
  {
   "cell_type": "code",
   "execution_count": 95,
   "metadata": {},
   "outputs": [
    {
     "data": {
      "text/plain": [
       "array([ 0,  1,  2,  3,  4,  5,  6,  7,  8,  9, 10, 11, 12, 13, 14, 15, 16, 17, 18, 19, 20, 21, 22, 23, 24,\n",
       "       25, 26, 27, 28, 29, 30, 31, 32, 33, 34, 35, 36, 37, 38], dtype=int8)"
      ]
     },
     "execution_count": 95,
     "metadata": {},
     "output_type": "execute_result"
    }
   ],
   "source": [
    "np.unique(y)"
   ]
  },
  {
   "cell_type": "code",
   "execution_count": 96,
   "metadata": {},
   "outputs": [
    {
     "data": {
      "text/plain": [
       "(878049, 878049)"
      ]
     },
     "execution_count": 96,
     "metadata": {},
     "output_type": "execute_result"
    }
   ],
   "source": [
    "# Let's check the encoding details\n",
    "len(df_x),len(df_raw)"
   ]
  },
  {
   "cell_type": "code",
   "execution_count": 103,
   "metadata": {},
   "outputs": [],
   "source": [
    "# Remove less common categories\n",
    "train = df_x[common_cat_idx]\n",
    "y_new = y[common_cat_idx]"
   ]
  },
  {
   "cell_type": "code",
   "execution_count": 104,
   "metadata": {},
   "outputs": [
    {
     "data": {
      "text/plain": [
       "(875777, 875777)"
      ]
     },
     "execution_count": 104,
     "metadata": {},
     "output_type": "execute_result"
    }
   ],
   "source": [
    "len(train),len(y_new)"
   ]
  },
  {
   "cell_type": "code",
   "execution_count": 108,
   "metadata": {},
   "outputs": [
    {
     "data": {
      "text/plain": [
       "array([ 0,  1,  4,  5,  6,  7,  8,  9, 12, 13, 15, 16, 17, 18, 19, 20, 21, 23, 24, 25, 26, 27, 28, 30, 32,\n",
       "       34, 35, 36, 37, 38], dtype=int8)"
      ]
     },
     "execution_count": 108,
     "metadata": {},
     "output_type": "execute_result"
    }
   ],
   "source": [
    "np.unique(y_new)"
   ]
  },
  {
   "cell_type": "code",
   "execution_count": 105,
   "metadata": {},
   "outputs": [
    {
     "data": {
      "text/plain": [
       "(Index(['PdDistrict', 'Address', 'X', 'Y', 'DatesYear', 'DatesMonth',\n",
       "        'DatesWeek', 'DatesDay', 'DatesDayofweek', 'DatesDayofyear',\n",
       "        'DatesIs_month_end', 'DatesIs_month_start', 'DatesIs_quarter_end',\n",
       "        'DatesIs_quarter_start', 'DatesIs_year_end', 'DatesIs_year_start',\n",
       "        'DatesHour', 'DatesMinute', 'DatesSecond', 'DatesElapsed',\n",
       "        'xy_scaled_1', 'xy_scaled_2', 'xy_pca_1', 'xy_pca_2', 'xy_x_rotate_30',\n",
       "        'xy_x_rotate_45', 'xy_x_rotate_60', 'xy_y_rotate_30', 'xy_y_rotate_45',\n",
       "        'xy_y_rotate_60', 'xy_radial_r', 'xy_radial_phi',\n",
       "        'ad_contains_intersection', 'ad_contains_block', 'add_p1', 'add_p2',\n",
       "        'add_p1_type'],\n",
       "       dtype='object'),\n",
       " Index(['Category', 'PdDistrict', 'Address', 'X', 'Y', 'DatesYear',\n",
       "        'DatesMonth', 'DatesWeek', 'DatesDay', 'DatesDayofweek',\n",
       "        'DatesDayofyear', 'DatesIs_month_end', 'DatesIs_month_start',\n",
       "        'DatesIs_quarter_end', 'DatesIs_quarter_start', 'DatesIs_year_end',\n",
       "        'DatesIs_year_start', 'DatesHour', 'DatesMinute', 'DatesSecond',\n",
       "        'DatesElapsed', 'xy_scaled_1', 'xy_scaled_2', 'xy_pca_1', 'xy_pca_2',\n",
       "        'xy_x_rotate_30', 'xy_x_rotate_45', 'xy_x_rotate_60', 'xy_y_rotate_30',\n",
       "        'xy_y_rotate_45', 'xy_y_rotate_60', 'xy_radial_r', 'xy_radial_phi',\n",
       "        'ad_contains_intersection', 'ad_contains_block', 'add_p1', 'add_p2',\n",
       "        'add_p1_type'],\n",
       "       dtype='object'))"
      ]
     },
     "execution_count": 105,
     "metadata": {},
     "output_type": "execute_result"
    }
   ],
   "source": [
    "df_x.columns,df_raw.columns"
   ]
  },
  {
   "cell_type": "code",
   "execution_count": 52,
   "metadata": {},
   "outputs": [],
   "source": [
    "#df_x.drop(['xy_pca_1_na','xy_pca_2_na'],axis=1,inplace=True)"
   ]
  },
  {
   "cell_type": "markdown",
   "metadata": {},
   "source": [
    "### 3. Build the model"
   ]
  },
  {
   "cell_type": "code",
   "execution_count": 106,
   "metadata": {},
   "outputs": [
    {
     "data": {
      "text/plain": [
       "0.847852454703553"
      ]
     },
     "execution_count": 106,
     "metadata": {},
     "output_type": "execute_result"
    }
   ],
   "source": [
    "# n_jobs=-1 helps us to run the jobs in parallel (one per CPU core)\n",
    "m = RandomForestClassifier(n_jobs=-1)\n",
    "# Build a forest of trees from the training set (X, y).\n",
    "m.fit(df_x, y)\n",
    "# The score() Returns the mean accuracy on the given test data and labels.\n",
    "m.score(df_x,y)"
   ]
  },
  {
   "cell_type": "code",
   "execution_count": 107,
   "metadata": {},
   "outputs": [
    {
     "data": {
      "text/plain": [
       "0.8485950190516536"
      ]
     },
     "execution_count": 107,
     "metadata": {},
     "output_type": "execute_result"
    }
   ],
   "source": [
    "# Let's try with the data with no rare categories\n",
    "m = RandomForestClassifier(n_jobs=-1)\n",
    "# Build a forest of trees from the training set (X, y).\n",
    "m.fit(train, y_new)\n",
    "# The score() Returns the mean accuracy on the given test data and labels.\n",
    "m.score(train,y_new)"
   ]
  },
  {
   "cell_type": "markdown",
   "metadata": {},
   "source": [
    "This model we have is purely on training data, so the high score is not necessarily a good sign.\n",
    "\n",
    "### Let's load the test data and process it."
   ]
  },
  {
   "cell_type": "code",
   "execution_count": 109,
   "metadata": {},
   "outputs": [],
   "source": [
    "df_raw_test = pd.read_csv(f'{PATH}test.csv',date_parser='Dates')"
   ]
  },
  {
   "cell_type": "code",
   "execution_count": 110,
   "metadata": {},
   "outputs": [
    {
     "data": {
      "text/html": [
       "<div>\n",
       "<style scoped>\n",
       "    .dataframe tbody tr th:only-of-type {\n",
       "        vertical-align: middle;\n",
       "    }\n",
       "\n",
       "    .dataframe tbody tr th {\n",
       "        vertical-align: top;\n",
       "    }\n",
       "\n",
       "    .dataframe thead th {\n",
       "        text-align: right;\n",
       "    }\n",
       "</style>\n",
       "<table border=\"1\" class=\"dataframe\">\n",
       "  <thead>\n",
       "    <tr style=\"text-align: right;\">\n",
       "      <th></th>\n",
       "      <th>Id</th>\n",
       "      <th>Dates</th>\n",
       "      <th>DayOfWeek</th>\n",
       "      <th>PdDistrict</th>\n",
       "      <th>Address</th>\n",
       "      <th>X</th>\n",
       "      <th>Y</th>\n",
       "    </tr>\n",
       "  </thead>\n",
       "  <tbody>\n",
       "    <tr>\n",
       "      <th>0</th>\n",
       "      <td>0</td>\n",
       "      <td>2015-05-10 23:59:00</td>\n",
       "      <td>Sunday</td>\n",
       "      <td>BAYVIEW</td>\n",
       "      <td>2000 Block of THOMAS AV</td>\n",
       "      <td>-122.399588</td>\n",
       "      <td>37.735051</td>\n",
       "    </tr>\n",
       "    <tr>\n",
       "      <th>1</th>\n",
       "      <td>1</td>\n",
       "      <td>2015-05-10 23:51:00</td>\n",
       "      <td>Sunday</td>\n",
       "      <td>BAYVIEW</td>\n",
       "      <td>3RD ST / REVERE AV</td>\n",
       "      <td>-122.391523</td>\n",
       "      <td>37.732432</td>\n",
       "    </tr>\n",
       "    <tr>\n",
       "      <th>2</th>\n",
       "      <td>2</td>\n",
       "      <td>2015-05-10 23:50:00</td>\n",
       "      <td>Sunday</td>\n",
       "      <td>NORTHERN</td>\n",
       "      <td>2000 Block of GOUGH ST</td>\n",
       "      <td>-122.426002</td>\n",
       "      <td>37.792212</td>\n",
       "    </tr>\n",
       "    <tr>\n",
       "      <th>3</th>\n",
       "      <td>3</td>\n",
       "      <td>2015-05-10 23:45:00</td>\n",
       "      <td>Sunday</td>\n",
       "      <td>INGLESIDE</td>\n",
       "      <td>4700 Block of MISSION ST</td>\n",
       "      <td>-122.437394</td>\n",
       "      <td>37.721412</td>\n",
       "    </tr>\n",
       "    <tr>\n",
       "      <th>4</th>\n",
       "      <td>4</td>\n",
       "      <td>2015-05-10 23:45:00</td>\n",
       "      <td>Sunday</td>\n",
       "      <td>INGLESIDE</td>\n",
       "      <td>4700 Block of MISSION ST</td>\n",
       "      <td>-122.437394</td>\n",
       "      <td>37.721412</td>\n",
       "    </tr>\n",
       "  </tbody>\n",
       "</table>\n",
       "</div>"
      ],
      "text/plain": [
       "   Id                Dates DayOfWeek PdDistrict                   Address  \\\n",
       "0   0  2015-05-10 23:59:00    Sunday    BAYVIEW   2000 Block of THOMAS AV   \n",
       "1   1  2015-05-10 23:51:00    Sunday    BAYVIEW        3RD ST / REVERE AV   \n",
       "2   2  2015-05-10 23:50:00    Sunday   NORTHERN    2000 Block of GOUGH ST   \n",
       "3   3  2015-05-10 23:45:00    Sunday  INGLESIDE  4700 Block of MISSION ST   \n",
       "4   4  2015-05-10 23:45:00    Sunday  INGLESIDE  4700 Block of MISSION ST   \n",
       "\n",
       "            X          Y  \n",
       "0 -122.399588  37.735051  \n",
       "1 -122.391523  37.732432  \n",
       "2 -122.426002  37.792212  \n",
       "3 -122.437394  37.721412  \n",
       "4 -122.437394  37.721412  "
      ]
     },
     "execution_count": 110,
     "metadata": {},
     "output_type": "execute_result"
    }
   ],
   "source": [
    "df_raw_test.head()"
   ]
  },
  {
   "cell_type": "code",
   "execution_count": 111,
   "metadata": {},
   "outputs": [],
   "source": [
    "add_datepart(df=df_raw_test,fldname='Dates',time=True)"
   ]
  },
  {
   "cell_type": "markdown",
   "metadata": {},
   "source": [
    "#### Let's add the X, Y features"
   ]
  },
  {
   "cell_type": "code",
   "execution_count": 112,
   "metadata": {},
   "outputs": [],
   "source": [
    "# Lets' created scaled transform of the X and Y coordinates\n",
    "xy_scaler = StandardScaler()\n",
    "xy_scaler.fit(df_raw_test.loc[:,['X','Y']])\n",
    "xy_scaled = xy_scaler.transform(df_raw_test.loc[:,['X','Y']])\n",
    "\n",
    "# PCA on X and Y, select top 2 components\n",
    "xy_pca = PCA(n_components=2, whiten=True).fit_transform(xy_scaled)\n",
    "type(xy_pca), np.shape(xy_pca), xy_pca\n",
    "\n",
    "# Rotation\n",
    "rot45_X = .707* xy_scaled[:,1] + .707* xy_scaled[:,0] \n",
    "rot45_Y = .707* xy_scaled[:,1] - .707* xy_scaled[:,0]\n",
    "\n",
    "rot30_X = (1.732/2)* xy_scaled[:,0] + (1./2)* xy_scaled[:,1]\n",
    "rot30_Y = (1.732/2)* xy_scaled[:,1] - (1./2)* xy_scaled[:,0]\n",
    "\n",
    "rot60_X = (1./2)* xy_scaled[:,0] + (1.732/2)* xy_scaled[:,1] \n",
    "rot60_Y = (1./2)* xy_scaled[:,1] - (1.732/2)* xy_scaled[:,0]\n",
    "\n",
    "# Polar coordinates\n",
    "radial_r = np.sqrt( np.power(xy_scaled[:,1],2) + np.power(xy_scaled[:,0],2) )\n",
    "radial_phi = np.arctan2(xy_scaled[:,1], xy_scaled[:,0])\n",
    "\n",
    "y_scaled_df=pd.DataFrame(xy_scaled)\n",
    "xy_pca_df=pd.DataFrame(xy_pca)"
   ]
  },
  {
   "cell_type": "code",
   "execution_count": 113,
   "metadata": {},
   "outputs": [],
   "source": [
    "df_raw_test['xy_scaled_1']    = xy_scaled_df[0]\n",
    "df_raw_test['xy_scaled_2']    = xy_scaled_df[1]\n",
    "df_raw_test['xy_pca_1']       = xy_pca_df[0]\n",
    "df_raw_test['xy_pca_2']       = xy_pca_df[1]\n",
    "df_raw_test['xy_x_rotate_30'] = rot30_X\n",
    "df_raw_test['xy_x_rotate_45'] = rot45_X\n",
    "df_raw_test['xy_x_rotate_60'] = rot60_X\n",
    "df_raw_test['xy_y_rotate_30'] = rot30_Y\n",
    "df_raw_test['xy_y_rotate_45'] = rot45_Y\n",
    "df_raw_test['xy_y_rotate_60'] = rot60_Y\n",
    "df_raw_test['xy_radial_r']    = radial_r\n",
    "df_raw_test['xy_radial_phi']  = radial_phi"
   ]
  },
  {
   "cell_type": "markdown",
   "metadata": {},
   "source": [
    "#### Let's add the address features"
   ]
  },
  {
   "cell_type": "code",
   "execution_count": 114,
   "metadata": {},
   "outputs": [
    {
     "data": {
      "text/html": [
       "<div>\n",
       "<style scoped>\n",
       "    .dataframe tbody tr th:only-of-type {\n",
       "        vertical-align: middle;\n",
       "    }\n",
       "\n",
       "    .dataframe tbody tr th {\n",
       "        vertical-align: top;\n",
       "    }\n",
       "\n",
       "    .dataframe thead th {\n",
       "        text-align: right;\n",
       "    }\n",
       "</style>\n",
       "<table border=\"1\" class=\"dataframe\">\n",
       "  <thead>\n",
       "    <tr style=\"text-align: right;\">\n",
       "      <th></th>\n",
       "      <th>Address</th>\n",
       "      <th>add_p1</th>\n",
       "      <th>add_p2</th>\n",
       "    </tr>\n",
       "  </thead>\n",
       "  <tbody>\n",
       "    <tr>\n",
       "      <th>0</th>\n",
       "      <td>2000 Block of THOMAS AV</td>\n",
       "      <td>2000 Block of THOMAS AV</td>\n",
       "      <td>NaN</td>\n",
       "    </tr>\n",
       "    <tr>\n",
       "      <th>1</th>\n",
       "      <td>3RD ST / REVERE AV</td>\n",
       "      <td>3RD ST</td>\n",
       "      <td>REVERE AV</td>\n",
       "    </tr>\n",
       "    <tr>\n",
       "      <th>2</th>\n",
       "      <td>2000 Block of GOUGH ST</td>\n",
       "      <td>2000 Block of GOUGH ST</td>\n",
       "      <td>NaN</td>\n",
       "    </tr>\n",
       "    <tr>\n",
       "      <th>3</th>\n",
       "      <td>4700 Block of MISSION ST</td>\n",
       "      <td>4700 Block of MISSION ST</td>\n",
       "      <td>NaN</td>\n",
       "    </tr>\n",
       "    <tr>\n",
       "      <th>4</th>\n",
       "      <td>4700 Block of MISSION ST</td>\n",
       "      <td>4700 Block of MISSION ST</td>\n",
       "      <td>NaN</td>\n",
       "    </tr>\n",
       "    <tr>\n",
       "      <th>5</th>\n",
       "      <td>BROAD ST / CAPITOL AV</td>\n",
       "      <td>BROAD ST</td>\n",
       "      <td>CAPITOL AV</td>\n",
       "    </tr>\n",
       "    <tr>\n",
       "      <th>6</th>\n",
       "      <td>100 Block of CHENERY ST</td>\n",
       "      <td>100 Block of CHENERY ST</td>\n",
       "      <td>NaN</td>\n",
       "    </tr>\n",
       "    <tr>\n",
       "      <th>7</th>\n",
       "      <td>200 Block of BANKS ST</td>\n",
       "      <td>200 Block of BANKS ST</td>\n",
       "      <td>NaN</td>\n",
       "    </tr>\n",
       "    <tr>\n",
       "      <th>8</th>\n",
       "      <td>2900 Block of 16TH ST</td>\n",
       "      <td>2900 Block of 16TH ST</td>\n",
       "      <td>NaN</td>\n",
       "    </tr>\n",
       "    <tr>\n",
       "      <th>9</th>\n",
       "      <td>TAYLOR ST / GREEN ST</td>\n",
       "      <td>TAYLOR ST</td>\n",
       "      <td>GREEN ST</td>\n",
       "    </tr>\n",
       "    <tr>\n",
       "      <th>10</th>\n",
       "      <td>100 Block of PERALTA AV</td>\n",
       "      <td>100 Block of PERALTA AV</td>\n",
       "      <td>NaN</td>\n",
       "    </tr>\n",
       "    <tr>\n",
       "      <th>11</th>\n",
       "      <td>600 Block of FLORIDA ST</td>\n",
       "      <td>600 Block of FLORIDA ST</td>\n",
       "      <td>NaN</td>\n",
       "    </tr>\n",
       "    <tr>\n",
       "      <th>12</th>\n",
       "      <td>600 Block of FLORIDA ST</td>\n",
       "      <td>600 Block of FLORIDA ST</td>\n",
       "      <td>NaN</td>\n",
       "    </tr>\n",
       "    <tr>\n",
       "      <th>13</th>\n",
       "      <td>200 Block of VALLEJO ST</td>\n",
       "      <td>200 Block of VALLEJO ST</td>\n",
       "      <td>NaN</td>\n",
       "    </tr>\n",
       "    <tr>\n",
       "      <th>14</th>\n",
       "      <td>JEFFERSON ST / HYDE ST</td>\n",
       "      <td>JEFFERSON ST</td>\n",
       "      <td>HYDE ST</td>\n",
       "    </tr>\n",
       "  </tbody>\n",
       "</table>\n",
       "</div>"
      ],
      "text/plain": [
       "                     Address                    add_p1      add_p2\n",
       "0    2000 Block of THOMAS AV   2000 Block of THOMAS AV         NaN\n",
       "1         3RD ST / REVERE AV                    3RD ST   REVERE AV\n",
       "2     2000 Block of GOUGH ST    2000 Block of GOUGH ST         NaN\n",
       "3   4700 Block of MISSION ST  4700 Block of MISSION ST         NaN\n",
       "4   4700 Block of MISSION ST  4700 Block of MISSION ST         NaN\n",
       "5      BROAD ST / CAPITOL AV                  BROAD ST  CAPITOL AV\n",
       "6    100 Block of CHENERY ST   100 Block of CHENERY ST         NaN\n",
       "7      200 Block of BANKS ST     200 Block of BANKS ST         NaN\n",
       "8      2900 Block of 16TH ST     2900 Block of 16TH ST         NaN\n",
       "9       TAYLOR ST / GREEN ST                 TAYLOR ST    GREEN ST\n",
       "10   100 Block of PERALTA AV   100 Block of PERALTA AV         NaN\n",
       "11   600 Block of FLORIDA ST   600 Block of FLORIDA ST         NaN\n",
       "12   600 Block of FLORIDA ST   600 Block of FLORIDA ST         NaN\n",
       "13   200 Block of VALLEJO ST   200 Block of VALLEJO ST         NaN\n",
       "14    JEFFERSON ST / HYDE ST              JEFFERSON ST     HYDE ST"
      ]
     },
     "execution_count": 114,
     "metadata": {},
     "output_type": "execute_result"
    }
   ],
   "source": [
    "# Create a feature for street intersection\n",
    "df_raw_test['ad_contains_intersection']=df_raw_test['Address'].str.contains('/')\n",
    "\n",
    "# Create a feature for block or no-block in the address\n",
    "add_upper=df_raw_test['Address'].str.upper()\n",
    "df_raw_test['ad_contains_block']=add_upper.str.contains('BLOCK')\n",
    "\n",
    "# Create a feature to capture the data before and after the '/'\n",
    "add_p1, add_p2 = df_raw_test['Address'].str.split('/', 1).str\n",
    "\n",
    "add_p1=add_p1.str.rstrip()\n",
    "df_raw_test['add_p1']=add_p1.str.lstrip()\n",
    "add_p2=add_p2.str.rstrip()\n",
    "df_raw_test['add_p2']=add_p2.str.lstrip()\n",
    "\n",
    "# Check if the split went well\n",
    "df_raw_test[['Address','add_p1','add_p2']].head(15)"
   ]
  },
  {
   "cell_type": "code",
   "execution_count": 115,
   "metadata": {},
   "outputs": [
    {
     "data": {
      "text/plain": [
       "array(['80', 'AL', 'AR', 'AV', 'AY', 'BL', 'CR', 'CT', 'DR', 'ER', 'EX', 'HY', 'LN', 'MS', 'PL', 'PZ', 'RD',\n",
       "       'RK', 'RW', 'ST', 'TR', 'WK', 'WY'], dtype=object)"
      ]
     },
     "execution_count": 115,
     "metadata": {},
     "output_type": "execute_result"
    }
   ],
   "source": [
    "# Type of the first part of address (ST, AV BL etc)\n",
    "df_raw_test['add_p1_type']=df_raw_test['add_p1'].str[-2:]\n",
    "np.unique(df_raw_test['add_p1_type'])"
   ]
  },
  {
   "cell_type": "code",
   "execution_count": 116,
   "metadata": {},
   "outputs": [
    {
     "data": {
      "text/plain": [
       "Index(['Id', 'DayOfWeek', 'PdDistrict', 'Address', 'X', 'Y', 'DatesYear',\n",
       "       'DatesMonth', 'DatesWeek', 'DatesDay', 'DatesDayofweek',\n",
       "       'DatesDayofyear', 'DatesIs_month_end', 'DatesIs_month_start',\n",
       "       'DatesIs_quarter_end', 'DatesIs_quarter_start', 'DatesIs_year_end',\n",
       "       'DatesIs_year_start', 'DatesHour', 'DatesMinute', 'DatesSecond',\n",
       "       'DatesElapsed', 'xy_scaled_1', 'xy_scaled_2', 'xy_pca_1', 'xy_pca_2',\n",
       "       'xy_x_rotate_30', 'xy_x_rotate_45', 'xy_x_rotate_60', 'xy_y_rotate_30',\n",
       "       'xy_y_rotate_45', 'xy_y_rotate_60', 'xy_radial_r', 'xy_radial_phi',\n",
       "       'ad_contains_intersection', 'ad_contains_block', 'add_p1', 'add_p2',\n",
       "       'add_p1_type'],\n",
       "      dtype='object')"
      ]
     },
     "execution_count": 116,
     "metadata": {},
     "output_type": "execute_result"
    }
   ],
   "source": [
    "df_raw_test.columns"
   ]
  },
  {
   "cell_type": "code",
   "execution_count": 117,
   "metadata": {},
   "outputs": [
    {
     "data": {
      "text/plain": [
       "Index(['Category', 'PdDistrict', 'Address', 'X', 'Y', 'DatesYear',\n",
       "       'DatesMonth', 'DatesWeek', 'DatesDay', 'DatesDayofweek',\n",
       "       'DatesDayofyear', 'DatesIs_month_end', 'DatesIs_month_start',\n",
       "       'DatesIs_quarter_end', 'DatesIs_quarter_start', 'DatesIs_year_end',\n",
       "       'DatesIs_year_start', 'DatesHour', 'DatesMinute', 'DatesSecond',\n",
       "       'DatesElapsed', 'xy_scaled_1', 'xy_scaled_2', 'xy_pca_1', 'xy_pca_2',\n",
       "       'xy_x_rotate_30', 'xy_x_rotate_45', 'xy_x_rotate_60', 'xy_y_rotate_30',\n",
       "       'xy_y_rotate_45', 'xy_y_rotate_60', 'xy_radial_r', 'xy_radial_phi',\n",
       "       'ad_contains_intersection', 'ad_contains_block', 'add_p1', 'add_p2',\n",
       "       'add_p1_type'],\n",
       "      dtype='object')"
      ]
     },
     "execution_count": 117,
     "metadata": {},
     "output_type": "execute_result"
    }
   ],
   "source": [
    "# training dataset column\n",
    "df_raw.columns"
   ]
  },
  {
   "cell_type": "code",
   "execution_count": 118,
   "metadata": {},
   "outputs": [],
   "source": [
    "# Let's drop the duplicate column - DayOfWeek and the extra 'Id' column.\n",
    "df_raw_test.drop(['DayOfWeek','Id'],axis=1,inplace=True)"
   ]
  },
  {
   "cell_type": "code",
   "execution_count": 119,
   "metadata": {},
   "outputs": [
    {
     "data": {
      "text/html": [
       "<div>\n",
       "<style scoped>\n",
       "    .dataframe tbody tr th:only-of-type {\n",
       "        vertical-align: middle;\n",
       "    }\n",
       "\n",
       "    .dataframe tbody tr th {\n",
       "        vertical-align: top;\n",
       "    }\n",
       "\n",
       "    .dataframe thead th {\n",
       "        text-align: right;\n",
       "    }\n",
       "</style>\n",
       "<table border=\"1\" class=\"dataframe\">\n",
       "  <thead>\n",
       "    <tr style=\"text-align: right;\">\n",
       "      <th></th>\n",
       "      <th>PdDistrict</th>\n",
       "      <th>Address</th>\n",
       "      <th>X</th>\n",
       "      <th>Y</th>\n",
       "      <th>DatesYear</th>\n",
       "      <th>DatesMonth</th>\n",
       "      <th>DatesWeek</th>\n",
       "      <th>DatesDay</th>\n",
       "      <th>DatesDayofweek</th>\n",
       "      <th>DatesDayofyear</th>\n",
       "      <th>...</th>\n",
       "      <th>xy_y_rotate_30</th>\n",
       "      <th>xy_y_rotate_45</th>\n",
       "      <th>xy_y_rotate_60</th>\n",
       "      <th>xy_radial_r</th>\n",
       "      <th>xy_radial_phi</th>\n",
       "      <th>ad_contains_intersection</th>\n",
       "      <th>ad_contains_block</th>\n",
       "      <th>add_p1</th>\n",
       "      <th>add_p2</th>\n",
       "      <th>add_p1_type</th>\n",
       "    </tr>\n",
       "  </thead>\n",
       "  <tbody>\n",
       "    <tr>\n",
       "      <th>0</th>\n",
       "      <td>BAYVIEW</td>\n",
       "      <td>2000 Block of THOMAS AV</td>\n",
       "      <td>-122.399588</td>\n",
       "      <td>37.735051</td>\n",
       "      <td>2015</td>\n",
       "      <td>5</td>\n",
       "      <td>19</td>\n",
       "      <td>10</td>\n",
       "      <td>6</td>\n",
       "      <td>130</td>\n",
       "      <td>...</td>\n",
       "      <td>-0.437913</td>\n",
       "      <td>-0.580327</td>\n",
       "      <td>-0.683341</td>\n",
       "      <td>0.749475</td>\n",
       "      <td>-0.100412</td>\n",
       "      <td>False</td>\n",
       "      <td>True</td>\n",
       "      <td>2000 Block of THOMAS AV</td>\n",
       "      <td>NaN</td>\n",
       "      <td>AV</td>\n",
       "    </tr>\n",
       "    <tr>\n",
       "      <th>1</th>\n",
       "      <td>BAYVIEW</td>\n",
       "      <td>3RD ST / REVERE AV</td>\n",
       "      <td>-122.391523</td>\n",
       "      <td>37.732432</td>\n",
       "      <td>2015</td>\n",
       "      <td>5</td>\n",
       "      <td>19</td>\n",
       "      <td>10</td>\n",
       "      <td>6</td>\n",
       "      <td>130</td>\n",
       "      <td>...</td>\n",
       "      <td>-0.572731</td>\n",
       "      <td>-0.768164</td>\n",
       "      <td>-0.911446</td>\n",
       "      <td>1.009200</td>\n",
       "      <td>-0.079882</td>\n",
       "      <td>True</td>\n",
       "      <td>False</td>\n",
       "      <td>3RD ST</td>\n",
       "      <td>REVERE AV</td>\n",
       "      <td>ST</td>\n",
       "    </tr>\n",
       "    <tr>\n",
       "      <th>2</th>\n",
       "      <td>NORTHERN</td>\n",
       "      <td>2000 Block of GOUGH ST</td>\n",
       "      <td>-122.426002</td>\n",
       "      <td>37.792212</td>\n",
       "      <td>2015</td>\n",
       "      <td>5</td>\n",
       "      <td>19</td>\n",
       "      <td>10</td>\n",
       "      <td>6</td>\n",
       "      <td>130</td>\n",
       "      <td>...</td>\n",
       "      <td>0.090433</td>\n",
       "      <td>0.105737</td>\n",
       "      <td>0.113863</td>\n",
       "      <td>0.115033</td>\n",
       "      <td>2.760624</td>\n",
       "      <td>False</td>\n",
       "      <td>True</td>\n",
       "      <td>2000 Block of GOUGH ST</td>\n",
       "      <td>NaN</td>\n",
       "      <td>ST</td>\n",
       "    </tr>\n",
       "    <tr>\n",
       "      <th>3</th>\n",
       "      <td>INGLESIDE</td>\n",
       "      <td>4700 Block of MISSION ST</td>\n",
       "      <td>-122.437394</td>\n",
       "      <td>37.721412</td>\n",
       "      <td>2015</td>\n",
       "      <td>5</td>\n",
       "      <td>19</td>\n",
       "      <td>10</td>\n",
       "      <td>6</td>\n",
       "      <td>130</td>\n",
       "      <td>...</td>\n",
       "      <td>0.147800</td>\n",
       "      <td>0.262429</td>\n",
       "      <td>0.359242</td>\n",
       "      <td>0.485556</td>\n",
       "      <td>-2.927289</td>\n",
       "      <td>False</td>\n",
       "      <td>True</td>\n",
       "      <td>4700 Block of MISSION ST</td>\n",
       "      <td>NaN</td>\n",
       "      <td>ST</td>\n",
       "    </tr>\n",
       "    <tr>\n",
       "      <th>4</th>\n",
       "      <td>INGLESIDE</td>\n",
       "      <td>4700 Block of MISSION ST</td>\n",
       "      <td>-122.437394</td>\n",
       "      <td>37.721412</td>\n",
       "      <td>2015</td>\n",
       "      <td>5</td>\n",
       "      <td>19</td>\n",
       "      <td>10</td>\n",
       "      <td>6</td>\n",
       "      <td>130</td>\n",
       "      <td>...</td>\n",
       "      <td>0.147800</td>\n",
       "      <td>0.262429</td>\n",
       "      <td>0.359242</td>\n",
       "      <td>0.485556</td>\n",
       "      <td>-2.927289</td>\n",
       "      <td>False</td>\n",
       "      <td>True</td>\n",
       "      <td>4700 Block of MISSION ST</td>\n",
       "      <td>NaN</td>\n",
       "      <td>ST</td>\n",
       "    </tr>\n",
       "  </tbody>\n",
       "</table>\n",
       "<p>5 rows × 37 columns</p>\n",
       "</div>"
      ],
      "text/plain": [
       "  PdDistrict                   Address           X          Y  DatesYear  \\\n",
       "0    BAYVIEW   2000 Block of THOMAS AV -122.399588  37.735051       2015   \n",
       "1    BAYVIEW        3RD ST / REVERE AV -122.391523  37.732432       2015   \n",
       "2   NORTHERN    2000 Block of GOUGH ST -122.426002  37.792212       2015   \n",
       "3  INGLESIDE  4700 Block of MISSION ST -122.437394  37.721412       2015   \n",
       "4  INGLESIDE  4700 Block of MISSION ST -122.437394  37.721412       2015   \n",
       "\n",
       "   DatesMonth  DatesWeek  DatesDay  DatesDayofweek  DatesDayofyear  \\\n",
       "0           5         19        10               6             130   \n",
       "1           5         19        10               6             130   \n",
       "2           5         19        10               6             130   \n",
       "3           5         19        10               6             130   \n",
       "4           5         19        10               6             130   \n",
       "\n",
       "      ...       xy_y_rotate_30  xy_y_rotate_45  xy_y_rotate_60  xy_radial_r  \\\n",
       "0     ...            -0.437913       -0.580327       -0.683341     0.749475   \n",
       "1     ...            -0.572731       -0.768164       -0.911446     1.009200   \n",
       "2     ...             0.090433        0.105737        0.113863     0.115033   \n",
       "3     ...             0.147800        0.262429        0.359242     0.485556   \n",
       "4     ...             0.147800        0.262429        0.359242     0.485556   \n",
       "\n",
       "   xy_radial_phi  ad_contains_intersection  ad_contains_block  \\\n",
       "0      -0.100412                     False               True   \n",
       "1      -0.079882                      True              False   \n",
       "2       2.760624                     False               True   \n",
       "3      -2.927289                     False               True   \n",
       "4      -2.927289                     False               True   \n",
       "\n",
       "                     add_p1     add_p2  add_p1_type  \n",
       "0   2000 Block of THOMAS AV        NaN           AV  \n",
       "1                    3RD ST  REVERE AV           ST  \n",
       "2    2000 Block of GOUGH ST        NaN           ST  \n",
       "3  4700 Block of MISSION ST        NaN           ST  \n",
       "4  4700 Block of MISSION ST        NaN           ST  \n",
       "\n",
       "[5 rows x 37 columns]"
      ]
     },
     "execution_count": 119,
     "metadata": {},
     "output_type": "execute_result"
    }
   ],
   "source": [
    "df_raw_test.head()"
   ]
  },
  {
   "cell_type": "code",
   "execution_count": 120,
   "metadata": {},
   "outputs": [],
   "source": [
    "# Now, convert text into numbers\n",
    "# Changes any columns of strings in df into categorical variables using trn as a template for the category codes.\n",
    "apply_cats(df=df_raw_test,trn=df_raw)"
   ]
  },
  {
   "cell_type": "code",
   "execution_count": 121,
   "metadata": {},
   "outputs": [],
   "source": [
    "df_test_x = proc_df(df_raw_test)"
   ]
  },
  {
   "cell_type": "code",
   "execution_count": 122,
   "metadata": {},
   "outputs": [
    {
     "data": {
      "text/html": [
       "<div>\n",
       "<style scoped>\n",
       "    .dataframe tbody tr th:only-of-type {\n",
       "        vertical-align: middle;\n",
       "    }\n",
       "\n",
       "    .dataframe tbody tr th {\n",
       "        vertical-align: top;\n",
       "    }\n",
       "\n",
       "    .dataframe thead th {\n",
       "        text-align: right;\n",
       "    }\n",
       "</style>\n",
       "<table border=\"1\" class=\"dataframe\">\n",
       "  <thead>\n",
       "    <tr style=\"text-align: right;\">\n",
       "      <th></th>\n",
       "      <th>PdDistrict</th>\n",
       "      <th>Address</th>\n",
       "      <th>X</th>\n",
       "      <th>Y</th>\n",
       "      <th>DatesYear</th>\n",
       "      <th>DatesMonth</th>\n",
       "      <th>DatesWeek</th>\n",
       "      <th>DatesDay</th>\n",
       "      <th>DatesDayofweek</th>\n",
       "      <th>DatesDayofyear</th>\n",
       "      <th>...</th>\n",
       "      <th>xy_y_rotate_60</th>\n",
       "      <th>xy_radial_r</th>\n",
       "      <th>xy_radial_phi</th>\n",
       "      <th>ad_contains_intersection</th>\n",
       "      <th>ad_contains_block</th>\n",
       "      <th>add_p1</th>\n",
       "      <th>add_p2</th>\n",
       "      <th>add_p1_type</th>\n",
       "      <th>xy_scaled_1_na</th>\n",
       "      <th>xy_scaled_2_na</th>\n",
       "    </tr>\n",
       "  </thead>\n",
       "  <tbody>\n",
       "    <tr>\n",
       "      <th>0</th>\n",
       "      <td>1</td>\n",
       "      <td>6421</td>\n",
       "      <td>-122.399588</td>\n",
       "      <td>37.735051</td>\n",
       "      <td>2015</td>\n",
       "      <td>5</td>\n",
       "      <td>19</td>\n",
       "      <td>10</td>\n",
       "      <td>6</td>\n",
       "      <td>130</td>\n",
       "      <td>...</td>\n",
       "      <td>-0.683341</td>\n",
       "      <td>0.749475</td>\n",
       "      <td>-0.100412</td>\n",
       "      <td>False</td>\n",
       "      <td>True</td>\n",
       "      <td>5894</td>\n",
       "      <td>0</td>\n",
       "      <td>4</td>\n",
       "      <td>False</td>\n",
       "      <td>False</td>\n",
       "    </tr>\n",
       "    <tr>\n",
       "      <th>1</th>\n",
       "      <td>1</td>\n",
       "      <td>9761</td>\n",
       "      <td>-122.391523</td>\n",
       "      <td>37.732432</td>\n",
       "      <td>2015</td>\n",
       "      <td>5</td>\n",
       "      <td>19</td>\n",
       "      <td>10</td>\n",
       "      <td>6</td>\n",
       "      <td>130</td>\n",
       "      <td>...</td>\n",
       "      <td>-0.911446</td>\n",
       "      <td>1.009200</td>\n",
       "      <td>-0.079882</td>\n",
       "      <td>True</td>\n",
       "      <td>False</td>\n",
       "      <td>8307</td>\n",
       "      <td>1293</td>\n",
       "      <td>21</td>\n",
       "      <td>False</td>\n",
       "      <td>False</td>\n",
       "    </tr>\n",
       "    <tr>\n",
       "      <th>2</th>\n",
       "      <td>5</td>\n",
       "      <td>6350</td>\n",
       "      <td>-122.426002</td>\n",
       "      <td>37.792212</td>\n",
       "      <td>2015</td>\n",
       "      <td>5</td>\n",
       "      <td>19</td>\n",
       "      <td>10</td>\n",
       "      <td>6</td>\n",
       "      <td>130</td>\n",
       "      <td>...</td>\n",
       "      <td>0.113863</td>\n",
       "      <td>0.115033</td>\n",
       "      <td>2.760624</td>\n",
       "      <td>False</td>\n",
       "      <td>True</td>\n",
       "      <td>5823</td>\n",
       "      <td>0</td>\n",
       "      <td>21</td>\n",
       "      <td>False</td>\n",
       "      <td>False</td>\n",
       "    </tr>\n",
       "    <tr>\n",
       "      <th>3</th>\n",
       "      <td>3</td>\n",
       "      <td>10657</td>\n",
       "      <td>-122.437394</td>\n",
       "      <td>37.721412</td>\n",
       "      <td>2015</td>\n",
       "      <td>5</td>\n",
       "      <td>19</td>\n",
       "      <td>10</td>\n",
       "      <td>6</td>\n",
       "      <td>130</td>\n",
       "      <td>...</td>\n",
       "      <td>0.359242</td>\n",
       "      <td>0.485556</td>\n",
       "      <td>-2.927289</td>\n",
       "      <td>False</td>\n",
       "      <td>True</td>\n",
       "      <td>9034</td>\n",
       "      <td>0</td>\n",
       "      <td>21</td>\n",
       "      <td>False</td>\n",
       "      <td>False</td>\n",
       "    </tr>\n",
       "    <tr>\n",
       "      <th>4</th>\n",
       "      <td>3</td>\n",
       "      <td>10657</td>\n",
       "      <td>-122.437394</td>\n",
       "      <td>37.721412</td>\n",
       "      <td>2015</td>\n",
       "      <td>5</td>\n",
       "      <td>19</td>\n",
       "      <td>10</td>\n",
       "      <td>6</td>\n",
       "      <td>130</td>\n",
       "      <td>...</td>\n",
       "      <td>0.359242</td>\n",
       "      <td>0.485556</td>\n",
       "      <td>-2.927289</td>\n",
       "      <td>False</td>\n",
       "      <td>True</td>\n",
       "      <td>9034</td>\n",
       "      <td>0</td>\n",
       "      <td>21</td>\n",
       "      <td>False</td>\n",
       "      <td>False</td>\n",
       "    </tr>\n",
       "  </tbody>\n",
       "</table>\n",
       "<p>5 rows × 39 columns</p>\n",
       "</div>"
      ],
      "text/plain": [
       "   PdDistrict  Address           X          Y  DatesYear  DatesMonth  \\\n",
       "0           1     6421 -122.399588  37.735051       2015           5   \n",
       "1           1     9761 -122.391523  37.732432       2015           5   \n",
       "2           5     6350 -122.426002  37.792212       2015           5   \n",
       "3           3    10657 -122.437394  37.721412       2015           5   \n",
       "4           3    10657 -122.437394  37.721412       2015           5   \n",
       "\n",
       "   DatesWeek  DatesDay  DatesDayofweek  DatesDayofyear       ...        \\\n",
       "0         19        10               6             130       ...         \n",
       "1         19        10               6             130       ...         \n",
       "2         19        10               6             130       ...         \n",
       "3         19        10               6             130       ...         \n",
       "4         19        10               6             130       ...         \n",
       "\n",
       "   xy_y_rotate_60  xy_radial_r  xy_radial_phi  ad_contains_intersection  \\\n",
       "0       -0.683341     0.749475      -0.100412                     False   \n",
       "1       -0.911446     1.009200      -0.079882                      True   \n",
       "2        0.113863     0.115033       2.760624                     False   \n",
       "3        0.359242     0.485556      -2.927289                     False   \n",
       "4        0.359242     0.485556      -2.927289                     False   \n",
       "\n",
       "   ad_contains_block  add_p1  add_p2  add_p1_type  xy_scaled_1_na  \\\n",
       "0               True    5894       0            4           False   \n",
       "1              False    8307    1293           21           False   \n",
       "2               True    5823       0           21           False   \n",
       "3               True    9034       0           21           False   \n",
       "4               True    9034       0           21           False   \n",
       "\n",
       "   xy_scaled_2_na  \n",
       "0           False  \n",
       "1           False  \n",
       "2           False  \n",
       "3           False  \n",
       "4           False  \n",
       "\n",
       "[5 rows x 39 columns]"
      ]
     },
     "execution_count": 122,
     "metadata": {},
     "output_type": "execute_result"
    }
   ],
   "source": [
    "df_test_x[0].head()"
   ]
  },
  {
   "cell_type": "code",
   "execution_count": 123,
   "metadata": {},
   "outputs": [
    {
     "data": {
      "text/html": [
       "<div>\n",
       "<style scoped>\n",
       "    .dataframe tbody tr th:only-of-type {\n",
       "        vertical-align: middle;\n",
       "    }\n",
       "\n",
       "    .dataframe tbody tr th {\n",
       "        vertical-align: top;\n",
       "    }\n",
       "\n",
       "    .dataframe thead th {\n",
       "        text-align: right;\n",
       "    }\n",
       "</style>\n",
       "<table border=\"1\" class=\"dataframe\">\n",
       "  <thead>\n",
       "    <tr style=\"text-align: right;\">\n",
       "      <th></th>\n",
       "      <th>PdDistrict</th>\n",
       "      <th>PdDistrict</th>\n",
       "    </tr>\n",
       "  </thead>\n",
       "  <tbody>\n",
       "    <tr>\n",
       "      <th>0</th>\n",
       "      <td>NORTHERN</td>\n",
       "      <td>5</td>\n",
       "    </tr>\n",
       "    <tr>\n",
       "      <th>1</th>\n",
       "      <td>NORTHERN</td>\n",
       "      <td>5</td>\n",
       "    </tr>\n",
       "    <tr>\n",
       "      <th>2</th>\n",
       "      <td>NORTHERN</td>\n",
       "      <td>5</td>\n",
       "    </tr>\n",
       "    <tr>\n",
       "      <th>3</th>\n",
       "      <td>NORTHERN</td>\n",
       "      <td>5</td>\n",
       "    </tr>\n",
       "    <tr>\n",
       "      <th>4</th>\n",
       "      <td>PARK</td>\n",
       "      <td>6</td>\n",
       "    </tr>\n",
       "    <tr>\n",
       "      <th>5</th>\n",
       "      <td>INGLESIDE</td>\n",
       "      <td>3</td>\n",
       "    </tr>\n",
       "    <tr>\n",
       "      <th>6</th>\n",
       "      <td>INGLESIDE</td>\n",
       "      <td>3</td>\n",
       "    </tr>\n",
       "    <tr>\n",
       "      <th>7</th>\n",
       "      <td>BAYVIEW</td>\n",
       "      <td>1</td>\n",
       "    </tr>\n",
       "    <tr>\n",
       "      <th>8</th>\n",
       "      <td>RICHMOND</td>\n",
       "      <td>7</td>\n",
       "    </tr>\n",
       "    <tr>\n",
       "      <th>9</th>\n",
       "      <td>CENTRAL</td>\n",
       "      <td>2</td>\n",
       "    </tr>\n",
       "  </tbody>\n",
       "</table>\n",
       "</div>"
      ],
      "text/plain": [
       "   PdDistrict  PdDistrict\n",
       "0    NORTHERN           5\n",
       "1    NORTHERN           5\n",
       "2    NORTHERN           5\n",
       "3    NORTHERN           5\n",
       "4        PARK           6\n",
       "5   INGLESIDE           3\n",
       "6   INGLESIDE           3\n",
       "7     BAYVIEW           1\n",
       "8    RICHMOND           7\n",
       "9     CENTRAL           2"
      ]
     },
     "execution_count": 123,
     "metadata": {},
     "output_type": "execute_result"
    }
   ],
   "source": [
    "# pd.concat is similar to rbind/cbind in R\n",
    "pd.concat([df_raw[['PdDistrict']].head(10), df_x[['PdDistrict']].head(10)],axis=1)"
   ]
  },
  {
   "cell_type": "code",
   "execution_count": 124,
   "metadata": {},
   "outputs": [
    {
     "data": {
      "text/html": [
       "<div>\n",
       "<style scoped>\n",
       "    .dataframe tbody tr th:only-of-type {\n",
       "        vertical-align: middle;\n",
       "    }\n",
       "\n",
       "    .dataframe tbody tr th {\n",
       "        vertical-align: top;\n",
       "    }\n",
       "\n",
       "    .dataframe thead th {\n",
       "        text-align: right;\n",
       "    }\n",
       "</style>\n",
       "<table border=\"1\" class=\"dataframe\">\n",
       "  <thead>\n",
       "    <tr style=\"text-align: right;\">\n",
       "      <th></th>\n",
       "      <th>PdDistrict</th>\n",
       "      <th>PdDistrict</th>\n",
       "    </tr>\n",
       "  </thead>\n",
       "  <tbody>\n",
       "    <tr>\n",
       "      <th>0</th>\n",
       "      <td>BAYVIEW</td>\n",
       "      <td>1</td>\n",
       "    </tr>\n",
       "    <tr>\n",
       "      <th>1</th>\n",
       "      <td>BAYVIEW</td>\n",
       "      <td>1</td>\n",
       "    </tr>\n",
       "    <tr>\n",
       "      <th>2</th>\n",
       "      <td>NORTHERN</td>\n",
       "      <td>5</td>\n",
       "    </tr>\n",
       "    <tr>\n",
       "      <th>3</th>\n",
       "      <td>INGLESIDE</td>\n",
       "      <td>3</td>\n",
       "    </tr>\n",
       "    <tr>\n",
       "      <th>4</th>\n",
       "      <td>INGLESIDE</td>\n",
       "      <td>3</td>\n",
       "    </tr>\n",
       "    <tr>\n",
       "      <th>5</th>\n",
       "      <td>TARAVAL</td>\n",
       "      <td>9</td>\n",
       "    </tr>\n",
       "    <tr>\n",
       "      <th>6</th>\n",
       "      <td>INGLESIDE</td>\n",
       "      <td>3</td>\n",
       "    </tr>\n",
       "    <tr>\n",
       "      <th>7</th>\n",
       "      <td>INGLESIDE</td>\n",
       "      <td>3</td>\n",
       "    </tr>\n",
       "    <tr>\n",
       "      <th>8</th>\n",
       "      <td>MISSION</td>\n",
       "      <td>4</td>\n",
       "    </tr>\n",
       "    <tr>\n",
       "      <th>9</th>\n",
       "      <td>CENTRAL</td>\n",
       "      <td>2</td>\n",
       "    </tr>\n",
       "  </tbody>\n",
       "</table>\n",
       "</div>"
      ],
      "text/plain": [
       "   PdDistrict  PdDistrict\n",
       "0     BAYVIEW           1\n",
       "1     BAYVIEW           1\n",
       "2    NORTHERN           5\n",
       "3   INGLESIDE           3\n",
       "4   INGLESIDE           3\n",
       "5     TARAVAL           9\n",
       "6   INGLESIDE           3\n",
       "7   INGLESIDE           3\n",
       "8     MISSION           4\n",
       "9     CENTRAL           2"
      ]
     },
     "execution_count": 124,
     "metadata": {},
     "output_type": "execute_result"
    }
   ],
   "source": [
    "# pd.concat is similar to rbind/cbind in R\n",
    "pd.concat([df_raw_test.loc[:,'PdDistrict'].head(10),df_test_x[0].loc[:,'PdDistrict'].head(10)],axis=1)"
   ]
  },
  {
   "cell_type": "code",
   "execution_count": 125,
   "metadata": {},
   "outputs": [
    {
     "data": {
      "text/plain": [
       "pandas.core.frame.DataFrame"
      ]
     },
     "execution_count": 125,
     "metadata": {},
     "output_type": "execute_result"
    }
   ],
   "source": [
    "type(df_test_x[0])"
   ]
  },
  {
   "cell_type": "markdown",
   "metadata": {},
   "source": [
    "Now let's try the model on this test data"
   ]
  },
  {
   "cell_type": "code",
   "execution_count": 126,
   "metadata": {},
   "outputs": [
    {
     "data": {
      "text/plain": [
       "(884262, 39)"
      ]
     },
     "execution_count": 126,
     "metadata": {},
     "output_type": "execute_result"
    }
   ],
   "source": [
    "df_test_x[0].shape"
   ]
  },
  {
   "cell_type": "code",
   "execution_count": 127,
   "metadata": {},
   "outputs": [
    {
     "data": {
      "text/plain": [
       "Index(['PdDistrict', 'Address', 'X', 'Y', 'DatesYear', 'DatesMonth',\n",
       "       'DatesWeek', 'DatesDay', 'DatesDayofweek', 'DatesDayofyear',\n",
       "       'DatesIs_month_end', 'DatesIs_month_start', 'DatesIs_quarter_end',\n",
       "       'DatesIs_quarter_start', 'DatesIs_year_end', 'DatesIs_year_start',\n",
       "       'DatesHour', 'DatesMinute', 'DatesSecond', 'DatesElapsed',\n",
       "       'xy_scaled_1', 'xy_scaled_2', 'xy_pca_1', 'xy_pca_2', 'xy_x_rotate_30',\n",
       "       'xy_x_rotate_45', 'xy_x_rotate_60', 'xy_y_rotate_30', 'xy_y_rotate_45',\n",
       "       'xy_y_rotate_60', 'xy_radial_r', 'xy_radial_phi',\n",
       "       'ad_contains_intersection', 'ad_contains_block', 'add_p1', 'add_p2',\n",
       "       'add_p1_type'],\n",
       "      dtype='object')"
      ]
     },
     "execution_count": 127,
     "metadata": {},
     "output_type": "execute_result"
    }
   ],
   "source": [
    "df_x.columns"
   ]
  },
  {
   "cell_type": "code",
   "execution_count": 128,
   "metadata": {},
   "outputs": [
    {
     "data": {
      "text/plain": [
       "Index(['PdDistrict', 'Address', 'X', 'Y', 'DatesYear', 'DatesMonth',\n",
       "       'DatesWeek', 'DatesDay', 'DatesDayofweek', 'DatesDayofyear',\n",
       "       'DatesIs_month_end', 'DatesIs_month_start', 'DatesIs_quarter_end',\n",
       "       'DatesIs_quarter_start', 'DatesIs_year_end', 'DatesIs_year_start',\n",
       "       'DatesHour', 'DatesMinute', 'DatesSecond', 'DatesElapsed',\n",
       "       'xy_scaled_1', 'xy_scaled_2', 'xy_pca_1', 'xy_pca_2', 'xy_x_rotate_30',\n",
       "       'xy_x_rotate_45', 'xy_x_rotate_60', 'xy_y_rotate_30', 'xy_y_rotate_45',\n",
       "       'xy_y_rotate_60', 'xy_radial_r', 'xy_radial_phi',\n",
       "       'ad_contains_intersection', 'ad_contains_block', 'add_p1', 'add_p2',\n",
       "       'add_p1_type', 'xy_scaled_1_na', 'xy_scaled_2_na'],\n",
       "      dtype='object')"
      ]
     },
     "execution_count": 128,
     "metadata": {},
     "output_type": "execute_result"
    }
   ],
   "source": [
    "df_test_x[0].columns"
   ]
  },
  {
   "cell_type": "code",
   "execution_count": 129,
   "metadata": {},
   "outputs": [],
   "source": [
    "df_test = pd.DataFrame(df_test_x[0])\n",
    "df_test.drop(['xy_scaled_1_na', 'xy_scaled_2_na'],axis=1,inplace=True)"
   ]
  },
  {
   "cell_type": "code",
   "execution_count": 130,
   "metadata": {},
   "outputs": [
    {
     "data": {
      "text/plain": [
       "Index(['PdDistrict', 'Address', 'X', 'Y', 'DatesYear', 'DatesMonth',\n",
       "       'DatesWeek', 'DatesDay', 'DatesDayofweek', 'DatesDayofyear',\n",
       "       'DatesIs_month_end', 'DatesIs_month_start', 'DatesIs_quarter_end',\n",
       "       'DatesIs_quarter_start', 'DatesIs_year_end', 'DatesIs_year_start',\n",
       "       'DatesHour', 'DatesMinute', 'DatesSecond', 'DatesElapsed',\n",
       "       'xy_scaled_1', 'xy_scaled_2', 'xy_pca_1', 'xy_pca_2', 'xy_x_rotate_30',\n",
       "       'xy_x_rotate_45', 'xy_x_rotate_60', 'xy_y_rotate_30', 'xy_y_rotate_45',\n",
       "       'xy_y_rotate_60', 'xy_radial_r', 'xy_radial_phi',\n",
       "       'ad_contains_intersection', 'ad_contains_block', 'add_p1', 'add_p2',\n",
       "       'add_p1_type'],\n",
       "      dtype='object')"
      ]
     },
     "execution_count": 130,
     "metadata": {},
     "output_type": "execute_result"
    }
   ],
   "source": [
    "df_test.columns"
   ]
  },
  {
   "cell_type": "code",
   "execution_count": 152,
   "metadata": {},
   "outputs": [
    {
     "data": {
      "text/plain": [
       "RandomForestClassifier(bootstrap=True, class_weight=None, criterion='gini',\n",
       "            max_depth=None, max_features='auto', max_leaf_nodes=None,\n",
       "            min_impurity_decrease=0.0, min_impurity_split=None,\n",
       "            min_samples_leaf=1, min_samples_split=2,\n",
       "            min_weight_fraction_leaf=0.0, n_estimators=30, n_jobs=-1,\n",
       "            oob_score=False, random_state=None, verbose=0,\n",
       "            warm_start=False)"
      ]
     },
     "execution_count": 152,
     "metadata": {},
     "output_type": "execute_result"
    }
   ],
   "source": [
    "m = RandomForestClassifier(n_estimators=30, n_jobs=-1)\n",
    "m.fit(train,y_new)"
   ]
  },
  {
   "cell_type": "code",
   "execution_count": 153,
   "metadata": {},
   "outputs": [],
   "source": [
    "results = m.predict(df_test)"
   ]
  },
  {
   "cell_type": "code",
   "execution_count": 154,
   "metadata": {},
   "outputs": [
    {
     "data": {
      "text/plain": [
       "(884262,)"
      ]
     },
     "execution_count": 154,
     "metadata": {},
     "output_type": "execute_result"
    }
   ],
   "source": [
    "results.shape"
   ]
  },
  {
   "cell_type": "code",
   "execution_count": 155,
   "metadata": {},
   "outputs": [
    {
     "data": {
      "text/plain": [
       "array([21, 20, 20, 20, 21, 16, 36, 16, 16, 16,  1, 19, 16, 16, 21, 36, 35, 16, 16, 16, 36, 16,  1, 16, 36,\n",
       "       16, 16, 16, 16, 16, 36, 16, 16, 16, 16, 16, 16, 36, 20, 16, 16,  1, 36, 36, 16, 16, 16, 16, 36],\n",
       "      dtype=int8)"
      ]
     },
     "execution_count": 155,
     "metadata": {},
     "output_type": "execute_result"
    }
   ],
   "source": [
    "results[1:50]"
   ]
  },
  {
   "cell_type": "code",
   "execution_count": 156,
   "metadata": {},
   "outputs": [
    {
     "data": {
      "text/plain": [
       "array([ 0,  1,  4,  5,  6,  7,  8,  9, 12, 13, 15, 16, 17, 18, 19, 20, 21, 23, 24, 25, 26, 27, 28, 30, 32,\n",
       "       34, 35, 36, 37, 38], dtype=int8)"
      ]
     },
     "execution_count": 156,
     "metadata": {},
     "output_type": "execute_result"
    }
   ],
   "source": [
    "np.unique(results)"
   ]
  },
  {
   "cell_type": "code",
   "execution_count": 157,
   "metadata": {},
   "outputs": [
    {
     "data": {
      "text/plain": [
       "30"
      ]
     },
     "execution_count": 157,
     "metadata": {},
     "output_type": "execute_result"
    }
   ],
   "source": [
    "len(np.unique(results))"
   ]
  },
  {
   "cell_type": "markdown",
   "metadata": {},
   "source": [
    "We have the predictions for each of the test set example."
   ]
  },
  {
   "cell_type": "markdown",
   "metadata": {},
   "source": [
    "### Pulse-check: Submit the existing predictions to Kaggle and check the accuracy"
   ]
  },
  {
   "cell_type": "code",
   "execution_count": 158,
   "metadata": {},
   "outputs": [
    {
     "data": {
      "text/plain": [
       "884262"
      ]
     },
     "execution_count": 158,
     "metadata": {},
     "output_type": "execute_result"
    }
   ],
   "source": [
    "len(results)"
   ]
  },
  {
   "cell_type": "code",
   "execution_count": 159,
   "metadata": {},
   "outputs": [],
   "source": [
    "submission_file_accumulator=list()\n",
    "\n",
    "for i in range(0,len(results)):\n",
    "    temp=np.zeros(39,dtype=int)\n",
    "    temp[results[i]]=1\n",
    "    line=np.insert(temp,0,i)\n",
    "    submission_file_accumulator.append(line)"
   ]
  },
  {
   "cell_type": "code",
   "execution_count": 160,
   "metadata": {},
   "outputs": [
    {
     "data": {
      "text/plain": [
       "884262"
      ]
     },
     "execution_count": 160,
     "metadata": {},
     "output_type": "execute_result"
    }
   ],
   "source": [
    "len(submission_file_accumulator)"
   ]
  },
  {
   "cell_type": "code",
   "execution_count": 161,
   "metadata": {},
   "outputs": [],
   "source": [
    "tt = pd.DataFrame(submission_file_accumulator)"
   ]
  },
  {
   "cell_type": "code",
   "execution_count": 162,
   "metadata": {},
   "outputs": [
    {
     "data": {
      "text/plain": [
       "(884262, 40)"
      ]
     },
     "execution_count": 162,
     "metadata": {},
     "output_type": "execute_result"
    }
   ],
   "source": [
    "tt.shape"
   ]
  },
  {
   "cell_type": "code",
   "execution_count": 163,
   "metadata": {},
   "outputs": [],
   "source": [
    "tt.to_csv('data/sf-crime/result_v5.csv',index=False)"
   ]
  },
  {
   "cell_type": "code",
   "execution_count": 105,
   "metadata": {},
   "outputs": [
    {
     "data": {
      "text/plain": [
       "Index(['ARSON', 'ASSAULT', 'BURGLARY', 'DISORDERLY CONDUCT',\n",
       "       'DRIVING UNDER THE INFLUENCE', 'DRUG/NARCOTIC', 'DRUNKENNESS',\n",
       "       'EMBEZZLEMENT', 'FORGERY/COUNTERFEITING', 'FRAUD', 'KIDNAPPING',\n",
       "       'LARCENY/THEFT', 'LIQUOR LAWS', 'LOITERING', 'MISSING PERSON',\n",
       "       'NON-CRIMINAL', 'OTHER OFFENSES', 'PROSTITUTION', 'RECOVERED VEHICLE',\n",
       "       'ROBBERY', 'RUNAWAY', 'SECONDARY CODES', 'SEX OFFENSES FORCIBLE',\n",
       "       'STOLEN PROPERTY', 'SUSPICIOUS OCC', 'TRESPASS', 'VANDALISM',\n",
       "       'VEHICLE THEFT', 'WARRANTS', 'WEAPON LAWS'],\n",
       "      dtype='object')"
      ]
     },
     "execution_count": 105,
     "metadata": {},
     "output_type": "execute_result"
    }
   ],
   "source": [
    "df_raw.Category.cat.categories"
   ]
  },
  {
   "cell_type": "code",
   "execution_count": 106,
   "metadata": {},
   "outputs": [],
   "source": [
    "#y.cat.categories"
   ]
  },
  {
   "cell_type": "code",
   "execution_count": 149,
   "metadata": {},
   "outputs": [
    {
     "data": {
      "text/plain": [
       "array([21, 21,  2, 17, 37, 21, 17, 17, 17, 17, 37, 17, 17, 17, 17, 17, 17, 17, 17], dtype=int8)"
      ]
     },
     "execution_count": 149,
     "metadata": {},
     "output_type": "execute_result"
    }
   ],
   "source": [
    "results[21:40]+1"
   ]
  },
  {
   "cell_type": "code",
   "execution_count": 86,
   "metadata": {},
   "outputs": [
    {
     "data": {
      "text/plain": [
       "array([ 0,  1,  2,  3,  4,  5,  6,  7,  8,  9, 10, 11, 12, 13, 14, 15, 16, 17, 18, 19, 20, 21, 22, 23, 24,\n",
       "       25, 26, 27, 28, 29, 30, 31, 32, 34, 35, 36, 37, 38], dtype=int8)"
      ]
     },
     "execution_count": 86,
     "metadata": {},
     "output_type": "execute_result"
    }
   ],
   "source": [
    "np.unique(results)"
   ]
  },
  {
   "cell_type": "code",
   "execution_count": 159,
   "metadata": {},
   "outputs": [
    {
     "data": {
      "text/html": [
       "<div>\n",
       "<style scoped>\n",
       "    .dataframe tbody tr th:only-of-type {\n",
       "        vertical-align: middle;\n",
       "    }\n",
       "\n",
       "    .dataframe tbody tr th {\n",
       "        vertical-align: top;\n",
       "    }\n",
       "\n",
       "    .dataframe thead th {\n",
       "        text-align: right;\n",
       "    }\n",
       "</style>\n",
       "<table border=\"1\" class=\"dataframe\">\n",
       "  <thead>\n",
       "    <tr style=\"text-align: right;\">\n",
       "      <th></th>\n",
       "      <th>0</th>\n",
       "      <th>1</th>\n",
       "      <th>2</th>\n",
       "      <th>3</th>\n",
       "      <th>4</th>\n",
       "      <th>5</th>\n",
       "    </tr>\n",
       "  </thead>\n",
       "  <tbody>\n",
       "    <tr>\n",
       "      <th>0</th>\n",
       "      <td>0</td>\n",
       "      <td>0</td>\n",
       "      <td>0</td>\n",
       "      <td>0</td>\n",
       "      <td>0</td>\n",
       "      <td>0</td>\n",
       "    </tr>\n",
       "    <tr>\n",
       "      <th>1</th>\n",
       "      <td>1</td>\n",
       "      <td>0</td>\n",
       "      <td>0</td>\n",
       "      <td>0</td>\n",
       "      <td>0</td>\n",
       "      <td>0</td>\n",
       "    </tr>\n",
       "    <tr>\n",
       "      <th>2</th>\n",
       "      <td>2</td>\n",
       "      <td>0</td>\n",
       "      <td>0</td>\n",
       "      <td>0</td>\n",
       "      <td>0</td>\n",
       "      <td>0</td>\n",
       "    </tr>\n",
       "    <tr>\n",
       "      <th>3</th>\n",
       "      <td>3</td>\n",
       "      <td>0</td>\n",
       "      <td>0</td>\n",
       "      <td>0</td>\n",
       "      <td>0</td>\n",
       "      <td>0</td>\n",
       "    </tr>\n",
       "  </tbody>\n",
       "</table>\n",
       "</div>"
      ],
      "text/plain": [
       "   0  1  2  3  4  5\n",
       "0  0  0  0  0  0  0\n",
       "1  1  0  0  0  0  0\n",
       "2  2  0  0  0  0  0\n",
       "3  3  0  0  0  0  0"
      ]
     },
     "execution_count": 159,
     "metadata": {},
     "output_type": "execute_result"
    }
   ],
   "source": [
    "tt.iloc[0:4,0:6]"
   ]
  },
  {
   "cell_type": "code",
   "execution_count": 157,
   "metadata": {},
   "outputs": [
    {
     "data": {
      "text/plain": [
       "array([0, 1, 2, 3, 4])"
      ]
     },
     "execution_count": 157,
     "metadata": {},
     "output_type": "execute_result"
    }
   ],
   "source": [
    "tt.columns.values[0:5]"
   ]
  },
  {
   "cell_type": "markdown",
   "metadata": {},
   "source": [
    "### Fine-tuning "
   ]
  },
  {
   "cell_type": "markdown",
   "metadata": {},
   "source": [
    "Let's try to improve the basic RF model. <br><br>\n",
    "There are number of ways we could try,\n",
    "1. Increase n_estimators (number of trees)\n",
    "2. Adding OOB score\n",
    "3. Subsampling\n",
    "4. Tree building parameters<br>\n",
    "    4.1 Max depth<br>\n",
    "    4.2 Min sample leaf<br>\n",
    "    4.3 Max features"
   ]
  },
  {
   "cell_type": "code",
   "execution_count": 52,
   "metadata": {},
   "outputs": [],
   "source": [
    "def rmse(x,y): return math.sqrt(((x-y)**2).mean())\n",
    "\n",
    "def print_score(m):\n",
    "    res = [rmse(m.predict(X_train), y_train), rmse(m.predict(X_valid), y_valid),\n",
    "                m.score(X_train, y_train), m.score(X_valid, y_valid)]\n",
    "    if hasattr(m, 'oob_score_'): res.append(m.oob_score_)\n",
    "    print(res)"
   ]
  },
  {
   "cell_type": "code",
   "execution_count": 61,
   "metadata": {},
   "outputs": [],
   "source": [
    "import random\n",
    "# Let's select 80,0000 random numbers between 0 to 800,000.\n",
    "val_idx = random.sample(range(800000), 80000)"
   ]
  },
  {
   "cell_type": "code",
   "execution_count": 121,
   "metadata": {},
   "outputs": [
    {
     "data": {
      "text/plain": [
       "((878049, 20), (798049, 20), (80000, 20), 878049, 798049, 80000)"
      ]
     },
     "execution_count": 121,
     "metadata": {},
     "output_type": "execute_result"
    }
   ],
   "source": [
    "# Creating a good validation set is really really important. \n",
    "test_idx=random.sample(range(800000), 80000)\n",
    "# Create train dataset\n",
    "X_valid=df_x.iloc[test_idx]\n",
    "y_valid=y[test_idx]\n",
    "# Create test dataset\n",
    "X_train=df_x.drop(df_x.index[test_idx])\n",
    "y_train=np.delete(y,test_idx,axis=0)\n",
    "# Check dimensions\n",
    "df_x.shape,X_train.shape,X_valid.shape,len(y),len(y_train),len(y_valid)"
   ]
  },
  {
   "cell_type": "code",
   "execution_count": 122,
   "metadata": {},
   "outputs": [
    {
     "data": {
      "text/plain": [
       "(0.8225560084656456, 0.267175)"
      ]
     },
     "execution_count": 122,
     "metadata": {},
     "output_type": "execute_result"
    }
   ],
   "source": [
    "m = RandomForestClassifier(n_estimators=5, n_jobs=-1)\n",
    "m.fit(X_train,y_train)\n",
    "#print_score(m)\n",
    "m.score(X_train,y_train),m.score(X_valid, y_valid)"
   ]
  },
  {
   "cell_type": "code",
   "execution_count": 123,
   "metadata": {},
   "outputs": [
    {
     "data": {
      "text/plain": [
       "(0.8644318832552889, 0.3022625)"
      ]
     },
     "execution_count": 123,
     "metadata": {},
     "output_type": "execute_result"
    }
   ],
   "source": [
    "m = RandomForestClassifier(n_estimators=15, n_jobs=-1)\n",
    "m.fit(X_train,y_train)\n",
    "m.score(X_train,y_train),m.score(X_valid, y_valid)"
   ]
  },
  {
   "cell_type": "code",
   "execution_count": 124,
   "metadata": {},
   "outputs": [
    {
     "data": {
      "text/plain": [
       "(0.8667337469253141, 0.3206375)"
      ]
     },
     "execution_count": 124,
     "metadata": {},
     "output_type": "execute_result"
    }
   ],
   "source": [
    "m = RandomForestClassifier(n_estimators=40, n_jobs=-1)\n",
    "m.fit(X_train,y_train)\n",
    "m.score(X_train,y_train),m.score(X_valid, y_valid)"
   ]
  },
  {
   "cell_type": "code",
   "execution_count": 125,
   "metadata": {},
   "outputs": [
    {
     "data": {
      "text/plain": [
       "(0.8667938936080366, 0.324725)"
      ]
     },
     "execution_count": 125,
     "metadata": {},
     "output_type": "execute_result"
    }
   ],
   "source": [
    "m = RandomForestClassifier(n_estimators=80, n_jobs=-1)\n",
    "m.fit(X_train,y_train)\n",
    "m.score(X_train,y_train),m.score(X_valid, y_valid)"
   ]
  },
  {
   "cell_type": "markdown",
   "metadata": {},
   "source": [
    "As you can see adding more number of trees is not helping anymore.<br><br>Let's try the sub-sampling approach."
   ]
  },
  {
   "cell_type": "code",
   "execution_count": 126,
   "metadata": {},
   "outputs": [],
   "source": [
    "set_rf_samples(40000)"
   ]
  },
  {
   "cell_type": "code",
   "execution_count": 127,
   "metadata": {},
   "outputs": [
    {
     "data": {
      "text/plain": [
       "(0.4005994619378008, 0.299075)"
      ]
     },
     "execution_count": 127,
     "metadata": {},
     "output_type": "execute_result"
    }
   ],
   "source": [
    "m = RandomForestClassifier(n_estimators=80, n_jobs=-1)\n",
    "m.fit(X_train,y_train)\n",
    "m.score(X_train,y_train),m.score(X_valid, y_valid)"
   ]
  },
  {
   "cell_type": "code",
   "execution_count": 128,
   "metadata": {},
   "outputs": [
    {
     "data": {
      "text/plain": [
       "(0.4864425617975839, 0.2975625)"
      ]
     },
     "execution_count": 128,
     "metadata": {},
     "output_type": "execute_result"
    }
   ],
   "source": [
    "# Let's increase the size of bootstrap\n",
    "set_rf_samples(80000)\n",
    "m = RandomForestClassifier(n_estimators=30, n_jobs=-1)\n",
    "m.fit(X_train,y_train)\n",
    "m.score(X_train,y_train),m.score(X_valid, y_valid)"
   ]
  },
  {
   "cell_type": "code",
   "execution_count": 129,
   "metadata": {},
   "outputs": [
    {
     "data": {
      "text/plain": [
       "(0.617082409726721, 0.315325)"
      ]
     },
     "execution_count": 129,
     "metadata": {},
     "output_type": "execute_result"
    }
   ],
   "source": [
    "# Let's increase the size of bootstrap\n",
    "set_rf_samples(120000)\n",
    "m = RandomForestClassifier(n_estimators=50, n_jobs=-1)\n",
    "m.fit(X_train,y_train)\n",
    "m.score(X_train,y_train),m.score(X_valid, y_valid)"
   ]
  },
  {
   "cell_type": "code",
   "execution_count": 130,
   "metadata": {},
   "outputs": [
    {
     "data": {
      "text/plain": [
       "(0.3738993470325757, 0.2999875)"
      ]
     },
     "execution_count": 130,
     "metadata": {},
     "output_type": "execute_result"
    }
   ],
   "source": [
    "# Let's increase the size of bootstrap\n",
    "set_rf_samples(30000)\n",
    "m = RandomForestClassifier(n_estimators=120, n_jobs=-1)\n",
    "m.fit(X_train,y_train)\n",
    "m.score(X_train,y_train),m.score(X_valid, y_valid)"
   ]
  },
  {
   "cell_type": "markdown",
   "metadata": {},
   "source": [
    "Random subsampling is not really helping. Let's try some other strategies."
   ]
  },
  {
   "cell_type": "code",
   "execution_count": 131,
   "metadata": {},
   "outputs": [],
   "source": [
    "# Revert to full boorstrap sample.\n",
    "reset_rf_samples()"
   ]
  },
  {
   "cell_type": "code",
   "execution_count": 133,
   "metadata": {},
   "outputs": [
    {
     "data": {
      "text/plain": [
       "(0.8659205136526704, 0.3097125)"
      ]
     },
     "execution_count": 133,
     "metadata": {},
     "output_type": "execute_result"
    }
   ],
   "source": [
    "m = RandomForestClassifier(n_estimators=20, n_jobs=-1)\n",
    "m.fit(X_train,y_train)\n",
    "m.score(X_train,y_train),m.score(X_valid, y_valid)"
   ]
  },
  {
   "cell_type": "markdown",
   "metadata": {},
   "source": [
    "Let's play around with tree parameters."
   ]
  },
  {
   "cell_type": "code",
   "execution_count": 134,
   "metadata": {},
   "outputs": [
    {
     "data": {
      "text/plain": [
       "(0.756560060848394, 0.3237)"
      ]
     },
     "execution_count": 134,
     "metadata": {},
     "output_type": "execute_result"
    }
   ],
   "source": [
    "m = RandomForestClassifier(n_estimators=20, n_jobs=-1,min_samples_leaf=3)\n",
    "m.fit(X_train,y_train)\n",
    "m.score(X_train,y_train),m.score(X_valid, y_valid)"
   ]
  },
  {
   "cell_type": "code",
   "execution_count": 135,
   "metadata": {},
   "outputs": [
    {
     "data": {
      "text/plain": [
       "(0.7696507357317658, 0.3303125)"
      ]
     },
     "execution_count": 135,
     "metadata": {},
     "output_type": "execute_result"
    }
   ],
   "source": [
    "m = RandomForestClassifier(n_estimators=30, n_jobs=-1,min_samples_leaf=3)\n",
    "m.fit(X_train,y_train)\n",
    "m.score(X_train,y_train),m.score(X_valid, y_valid)"
   ]
  },
  {
   "cell_type": "code",
   "execution_count": 136,
   "metadata": {},
   "outputs": [
    {
     "data": {
      "text/plain": [
       "(0.7808292473269185, 0.335425)"
      ]
     },
     "execution_count": 136,
     "metadata": {},
     "output_type": "execute_result"
    }
   ],
   "source": [
    "m = RandomForestClassifier(n_estimators=50, n_jobs=-1,min_samples_leaf=3)\n",
    "m.fit(X_train,y_train)\n",
    "m.score(X_train,y_train),m.score(X_valid, y_valid)"
   ]
  },
  {
   "cell_type": "code",
   "execution_count": 137,
   "metadata": {},
   "outputs": [
    {
     "data": {
      "text/plain": [
       "(0.8470357083336988, 0.3301125)"
      ]
     },
     "execution_count": 137,
     "metadata": {},
     "output_type": "execute_result"
    }
   ],
   "source": [
    "m = RandomForestClassifier(n_estimators=50, n_jobs=-1,min_samples_leaf=2)\n",
    "m.fit(X_train,y_train)\n",
    "m.score(X_train,y_train),m.score(X_valid, y_valid)"
   ]
  },
  {
   "cell_type": "code",
   "execution_count": 138,
   "metadata": {},
   "outputs": [
    {
     "data": {
      "text/plain": [
       "(0.7971540594625142, 0.3322125)"
      ]
     },
     "execution_count": 138,
     "metadata": {},
     "output_type": "execute_result"
    }
   ],
   "source": [
    "# Let's add max features attributes\n",
    "m = RandomForestClassifier(n_estimators=30, n_jobs=-1,min_samples_leaf=3,max_features=0.6)\n",
    "m.fit(X_train,y_train)\n",
    "m.score(X_train,y_train),m.score(X_valid, y_valid)"
   ]
  },
  {
   "cell_type": "code",
   "execution_count": 139,
   "metadata": {},
   "outputs": [
    {
     "data": {
      "text/plain": [
       "(0.7684866468099076, 0.3310125)"
      ]
     },
     "execution_count": 139,
     "metadata": {},
     "output_type": "execute_result"
    }
   ],
   "source": [
    "# Let's add max features = sqrt\n",
    "m = RandomForestClassifier(n_estimators=30, n_jobs=-1,min_samples_leaf=3,max_features='sqrt')\n",
    "m.fit(X_train,y_train)\n",
    "m.score(X_train,y_train),m.score(X_valid, y_valid)"
   ]
  },
  {
   "cell_type": "code",
   "execution_count": 140,
   "metadata": {},
   "outputs": [
    {
     "data": {
      "text/plain": [
       "(0.7897121605314962, 0.338625)"
      ]
     },
     "execution_count": 140,
     "metadata": {},
     "output_type": "execute_result"
    }
   ],
   "source": [
    "# Let's add max features = sqrt, n_estimators = 120\n",
    "m = RandomForestClassifier(n_estimators=120, n_jobs=-1,min_samples_leaf=3,max_features='sqrt')\n",
    "m.fit(X_train,y_train)\n",
    "m.score(X_train,y_train),m.score(X_valid, y_valid)"
   ]
  },
  {
   "cell_type": "code",
   "execution_count": 141,
   "metadata": {},
   "outputs": [
    {
     "data": {
      "text/plain": [
       "(0.7924175081981182, 0.33905)"
      ]
     },
     "execution_count": 141,
     "metadata": {},
     "output_type": "execute_result"
    }
   ],
   "source": [
    "# Let's add max features = log, n_estimators = 200\n",
    "m = RandomForestClassifier(n_estimators=200, n_jobs=-1,min_samples_leaf=3,max_features='log2')\n",
    "m.fit(X_train,y_train)\n",
    "m.score(X_train,y_train),m.score(X_valid, y_valid)"
   ]
  },
  {
   "cell_type": "code",
   "execution_count": 142,
   "metadata": {},
   "outputs": [
    {
     "data": {
      "text/plain": [
       "(0.7922796720502124, 0.3399875)"
      ]
     },
     "execution_count": 142,
     "metadata": {},
     "output_type": "execute_result"
    }
   ],
   "source": [
    "# Let's add max features = log, n_estimators = 200\n",
    "m = RandomForestClassifier(n_estimators=200, n_jobs=-1,min_samples_leaf=3,max_features='sqrt')\n",
    "m.fit(X_train,y_train)\n",
    "m.score(X_train,y_train),m.score(X_valid, y_valid)"
   ]
  },
  {
   "cell_type": "code",
   "execution_count": 143,
   "metadata": {},
   "outputs": [],
   "source": [
    "results = m.predict(df_test)"
   ]
  },
  {
   "cell_type": "code",
   "execution_count": 144,
   "metadata": {},
   "outputs": [
    {
     "data": {
      "text/plain": [
       "(884262,)"
      ]
     },
     "execution_count": 144,
     "metadata": {},
     "output_type": "execute_result"
    }
   ],
   "source": [
    "results.shape"
   ]
  },
  {
   "cell_type": "code",
   "execution_count": 145,
   "metadata": {},
   "outputs": [
    {
     "data": {
      "text/plain": [
       "array([21, 16, 20, 20, 21, 36, 16,  1, 16, 16, 16, 16, 16, 16,  7, 21, 36, 16, 16, 16, 16, 16,  1, 16, 16,\n",
       "       16, 16, 16, 16, 16, 36, 16, 16, 16, 16, 21, 16, 16, 16, 16, 16, 20, 36, 36, 16, 16, 16, 16, 36],\n",
       "      dtype=int8)"
      ]
     },
     "execution_count": 145,
     "metadata": {},
     "output_type": "execute_result"
    }
   ],
   "source": [
    "results[1:50]"
   ]
  },
  {
   "cell_type": "code",
   "execution_count": 146,
   "metadata": {},
   "outputs": [
    {
     "data": {
      "text/plain": [
       "array([ 0,  1,  4,  5,  7,  8, 11, 12, 13, 15, 16, 17, 18, 19, 20, 21, 23, 24, 25, 26, 27, 28, 31, 32, 34,\n",
       "       35, 36, 37, 38], dtype=int8)"
      ]
     },
     "execution_count": 146,
     "metadata": {},
     "output_type": "execute_result"
    }
   ],
   "source": [
    "np.unique(results)"
   ]
  },
  {
   "cell_type": "code",
   "execution_count": 147,
   "metadata": {},
   "outputs": [],
   "source": [
    "submission_file_accumulator=list()\n",
    "\n",
    "for i in range(0,len(results)):\n",
    "    temp=np.zeros(39,dtype=int)\n",
    "    temp[results[i]]=1\n",
    "    line=np.insert(temp,0,i)\n",
    "    submission_file_accumulator.append(line)"
   ]
  },
  {
   "cell_type": "code",
   "execution_count": 148,
   "metadata": {},
   "outputs": [
    {
     "data": {
      "text/plain": [
       "884262"
      ]
     },
     "execution_count": 148,
     "metadata": {},
     "output_type": "execute_result"
    }
   ],
   "source": [
    "len(submission_file_accumulator)"
   ]
  },
  {
   "cell_type": "code",
   "execution_count": 149,
   "metadata": {},
   "outputs": [
    {
     "data": {
      "text/plain": [
       "(884262, 40)"
      ]
     },
     "execution_count": 149,
     "metadata": {},
     "output_type": "execute_result"
    }
   ],
   "source": [
    "tt = pd.DataFrame(submission_file_accumulator)\n",
    "tt.shape"
   ]
  },
  {
   "cell_type": "code",
   "execution_count": 150,
   "metadata": {},
   "outputs": [],
   "source": [
    "tt.to_csv('data/Kaggle/competitions/sf-crime/result_v2.csv',index=False)"
   ]
  },
  {
   "cell_type": "code",
   "execution_count": null,
   "metadata": {},
   "outputs": [],
   "source": []
  }
 ],
 "metadata": {
  "kernelspec": {
   "display_name": "Python 3",
   "language": "python",
   "name": "python3"
  },
  "language_info": {
   "codemirror_mode": {
    "name": "ipython",
    "version": 3
   },
   "file_extension": ".py",
   "mimetype": "text/x-python",
   "name": "python",
   "nbconvert_exporter": "python",
   "pygments_lexer": "ipython3",
   "version": "3.6.5"
  }
 },
 "nbformat": 4,
 "nbformat_minor": 2
}
